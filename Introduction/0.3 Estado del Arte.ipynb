{
 "cells": [
  {
   "cell_type": "markdown",
   "metadata": {},
   "source": [
    "\n",
    "# Estado del Arte\n",
    "\n",
    "¿Existe alguna forma de mostrar la data que se va generando sobre cómputo cuántico? Es decir puede ser el grafo de los estudios bibliográficos sobre cosas que se escriben acerca del tema.\n",
    "\n",
    "Es posible hacer una animación de Time Series de cómo van emergiendo noticias en la web. Como si fuera un detector.\n",
    "\n",
    "Pensar en un RSS de noticias.\n",
    "\n",
    "En un Scrapper sobre data de Quantum Related."
   ]
  },
  {
   "cell_type": "code",
   "execution_count": null,
   "metadata": {},
   "outputs": [],
   "source": []
  }
 ],
 "metadata": {
  "kernelspec": {
   "display_name": "Python 3.9.7 ('env_q': venv)",
   "language": "python",
   "name": "python3"
  },
  "language_info": {
   "name": "python",
   "version": "3.9.7"
  },
  "orig_nbformat": 4,
  "vscode": {
   "interpreter": {
    "hash": "8485e2651055ff4e40199eea64963ccbc7bc219026a1bdf049c0827f72d6c977"
   }
  }
 },
 "nbformat": 4,
 "nbformat_minor": 2
}
