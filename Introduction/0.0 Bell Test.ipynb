{
 "cells": [
  {
   "cell_type": "markdown",
   "metadata": {},
   "source": [
    "# Bell Test\n",
    "\n",
    "\n",
    "El test de Bell demuestra que las medidas de un estado entrelazado no pueden ser explicados mediante ninguna teoría de la varaible oculta y que deben de existir correlaciones más allá de lo clásico.\n",
    "\n"
   ]
  },
  {
   "cell_type": "code",
   "execution_count": null,
   "metadata": {},
   "outputs": [],
   "source": []
  }
 ],
 "metadata": {
  "language_info": {
   "name": "python"
  },
  "orig_nbformat": 4
 },
 "nbformat": 4,
 "nbformat_minor": 2
}
