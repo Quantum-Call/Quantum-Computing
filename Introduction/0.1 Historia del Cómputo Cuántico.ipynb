{
 "cells": [
  {
   "cell_type": "markdown",
   "metadata": {},
   "source": [
    "# Historia del Cómputo Cuántico\n",
    "\n",
    "\n",
    "La idea de este capítulo es escribir mi visión del recuente de la historia que facilito el cómputo cuántico, contar que la historia se está escribiendo todo el tiempo.\n",
    "\n",
    "\n",
    "\n",
    "# Naturaleza Ondulatoria de la Luz.\n",
    "\n",
    "De la Luz al cómputo cuántico.\n",
    "\n",
    "\n"
   ]
  },
  {
   "cell_type": "code",
   "execution_count": null,
   "metadata": {},
   "outputs": [],
   "source": []
  },
  {
   "cell_type": "code",
   "execution_count": null,
   "metadata": {},
   "outputs": [],
   "source": []
  }
 ],
 "metadata": {
  "kernelspec": {
   "display_name": "Python 3.9.7 ('env_q': venv)",
   "language": "python",
   "name": "python3"
  },
  "language_info": {
   "name": "python",
   "version": "3.9.7"
  },
  "orig_nbformat": 4,
  "vscode": {
   "interpreter": {
    "hash": "8485e2651055ff4e40199eea64963ccbc7bc219026a1bdf049c0827f72d6c977"
   }
  }
 },
 "nbformat": 4,
 "nbformat_minor": 2
}
