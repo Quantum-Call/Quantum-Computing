{
 "cells": [
  {
   "cell_type": "code",
   "execution_count": 1,
   "metadata": {},
   "outputs": [],
   "source": [
    "import numpy as np\n",
    "import matplotlib.pyplot as plt\n",
    "import seaborn as sns"
   ]
  },
  {
   "cell_type": "code",
   "execution_count": 2,
   "metadata": {},
   "outputs": [],
   "source": [
    "sns.set_theme()"
   ]
  },
  {
   "cell_type": "markdown",
   "metadata": {},
   "source": [
    "# Vectores en cómputo cuántico"
   ]
  },
  {
   "cell_type": "markdown",
   "metadata": {},
   "source": [
    "Los vectores los definiremos o como columnas o **kets** $\\ket{.}$  y como filas o **bras** $\\bra{.}$, por ejemplo también podemos definir también la distancia de un vector cualquiera $\\ket{\\alpha}=\\begin{bmatrix}3\\\\1\\\\\\end{bmatrix}$ así:\n",
    "\n",
    "$$|\\ket{\\alpha}|= \\sqrt{3^2 + 1^2} =\\sqrt{10} = 3,16$$\n",
    "\n",
    "$$\\ket{\\alpha}=\\begin{bmatrix}a_1\\\\a_2\\\\...\\\\a_3\\end{bmatrix},|\\ket{\\alpha}|= \\sqrt{a_1^2 + a_2^2 + ... a_n^2}$$\n",
    "\n",
    "Los vectores con un largo de 1 son llamados vectores unitarios, los qubits son representados por vectores unitarios."
   ]
  },
  {
   "cell_type": "markdown",
   "metadata": {},
   "source": [
    "A los vectores en el cómputo cuánticos nos referiremos como \"Column Matrix\", es simplemente una columna, nos interesa hablar de vectores de estado y demás, pero en todo momento es una columna matricial. El column matrix es simplemente un vector. En un column matrix representamos las probabilidades que un cubit puede tener, rerpresnetamos todos estos valores en un vector.\n",
    "\n",
    "\n",
    "1. Todos los Quibits están en $C^{2}$\n",
    "2. La norma euclideana de todos los Quibits es 1.\n",
    "\n",
    "\n"
   ]
  },
  {
   "cell_type": "markdown",
   "metadata": {},
   "source": [
    "## Vector Norm\n",
    "\n",
    "Ampliar más esta dinificón"
   ]
  },
  {
   "cell_type": "code",
   "execution_count": null,
   "metadata": {},
   "outputs": [],
   "source": [
    "\n",
    "a = 1 + 1j\n",
    "b = 1 + 1j\n",
    "\n",
    "x = np.array([a, b]) # array([1.+1.j, 1.+1.j])\n",
    "\n",
    "\n",
    "def norm(vector):\n",
    "    def coefiLength(coef):\n",
    "        return np.real(coef*np.conj(coef))\n",
    "    def totalLength():\n",
    "        sum = 0\n",
    "        for i in vector:\n",
    "            sum += coefiLength(i)\n",
    "        return sum**(0.5)\n",
    "    \n",
    "    totalSum = np.array(totalLength())\n",
    "    return vector/totalSum\n",
    "\n",
    "norm(x) #array([0.5+0.5j, 0.5+0.5j])"
   ]
  },
  {
   "cell_type": "markdown",
   "metadata": {},
   "source": [
    "## Adición de vectores\n",
    "\n",
    "Ddos dos vectores que tienen el mismo tipo, ya sea Bras o Kets, estos tienen las mismas dimensiones, al sumarlos obtendremos el mismo tipo de dimensión.\n",
    "\n",
    "\n",
    "$$\\ket{\\alpha + \\beta} =\\begin{bmatrix}\\alpha_1 + \\beta_1\\\\\\alpha_2 + \\beta_2\\\\...\\\\\\alpha_n + \\beta_n\\end{bmatrix}$$\n",
    "\n",
    "Esta suma de vectores también se puede expresar como las leyes del **paralelogramo para adicción de vectores**. Si en un vector $\\ket{\\alpha}$ en su punto final empieza un vector  $\\ket{\\beta}$, estamos hablando $\\ket{\\alpha + \\beta}$ formando un triangulo. \n",
    "\n",
    "\n",
    "\n",
    "\n",
    "El caso contrario también es igual, para lo cual tendríamos $\\ket{\\beta + \\alpha}$. De lo anterior entenderemos que ambos traingulos son iguales, es decir, podemos expresar $\\ket{\\alpha + \\beta}=\\ket{\\beta + \\alpha}$ y si representamos ambos triangulos ambos se conectaran y nos daran una diagonal de un paralelogramo\n",
    "\n",
    "Ejemplo:\n",
    "\n",
    "Para vectores $\\ket{\\alpha}=\\begin{bmatrix}4\\\\2\\end{bmatrix}$ y con el vector $\\ket{\\beta}=\\begin{bmatrix}1\\\\3\\end{bmatrix}$ tendremos que $\\ket{\\alpha + \\beta}=\\begin{bmatrix}5\\\\5\\end{bmatrix}$. De manera gráfica se ve así:"
   ]
  },
  {
   "cell_type": "code",
   "execution_count": 13,
   "metadata": {},
   "outputs": [
    {
     "data": {
      "text/plain": [
       "array([5, 5])"
      ]
     },
     "execution_count": 13,
     "metadata": {},
     "output_type": "execute_result"
    }
   ],
   "source": [
    "alpha = np.array([4,2])\n",
    "beta = np.array([1,3])\n",
    "alpha_beta = alpha + beta\n",
    "alpha_beta"
   ]
  },
  {
   "cell_type": "markdown",
   "metadata": {},
   "source": [
    "![](https://www.geometriaanalitica.info/wp-content/uploads/2020/07/suma-vectores-regla-del-paralelgramo.png)\n",
    "\n",
    "Representación gráfica de la suma de vectores"
   ]
  },
  {
   "cell_type": "markdown",
   "metadata": {},
   "source": [
    "## Multiplicación Escalar \n",
    "\n",
    "En álgebra lineal podemos multiplicar un vector  cualquiera por un número o escalar.\n",
    "\n",
    "$$c \\ket{\\alpha}=\\begin{bmatrix}ca_1\\\\ca_2\\\\...\\\\ca_3\\end{bmatrix}$$\n",
    "\n",
    "Podemos usar este factor c, para permitirnos que vectores de diferentes largos apunten en una misma dirección.\n",
    "\n",
    "En general se busca que vectores unitarios apunten en la dirección de un vector no-unitario. Si multiplicamos un vector $\\ket{\\alpha}$ cualquiera con el reciproco de su distancia, obtendremos el vector unitario.\n",
    "\n",
    "\n",
    "$$\\ket{u}=\\frac{1}{\\sqrt{10}}\\begin{bmatrix}3\\\\1\\\\\\end{bmatrix}\\rightarrow \\begin{bmatrix}3\\\\\\sqrt{10}\\\\1\\\\\\sqrt{10}\\end{bmatrix}$$\n",
    "\n",
    "\n",
    "$$|\\ket{u}|= \\sqrt{\\frac{3}{\\sqrt{10}}^2 + \\frac{1}{\\sqrt{10}}^2}$$\n",
    "\n",
    "\n",
    "\n",
    "$$|\\ket{u}|= \\sqrt{\\frac{9}{\\sqrt{10}} + \\frac{1}{\\sqrt{10}}}$$\n",
    "\n",
    "\n",
    "$$\\ket{u}= 1$$\n",
    "\n",
    "Podemos decir entonces que $\\ket{u}$ es un vector unitario que apunta en la misma dirección que $\\alpha$."
   ]
  },
  {
   "cell_type": "code",
   "execution_count": null,
   "metadata": {},
   "outputs": [],
   "source": []
  },
  {
   "cell_type": "markdown",
   "metadata": {},
   "source": [
    "## Vectores Ortogonales\n",
    "\n",
    "Los vectores son ortogonales o perpendiculares según Pitágoras si:\n",
    "\n",
    "$$a^2 + b^2 = c^2$$\n",
    "\n",
    "De lo cual tenemos que podemos expresar nuestros vectores columna así:\n",
    "\n",
    "$$\\left|\\ket{a}\\right|^2 + \\left|\\ket{b}\\right|^2 = \\left|\\ket{a+b}\\right|^2$$\n",
    "\n",
    "\n",
    "\n"
   ]
  },
  {
   "cell_type": "code",
   "execution_count": null,
   "metadata": {},
   "outputs": [],
   "source": []
  },
  {
   "cell_type": "markdown",
   "metadata": {},
   "source": [
    "## Multiplicación Bra-Ket\n",
    "\n",
    "Si tenemos dos vectores con la misma n-dimensión, $\\bra{a}$ y $\\ket{b}$  podemos operar estos dos de manera regular como un producto interno.\n",
    "\n",
    "$$\\bra{a} \\ket{b}$$\n",
    "\n",
    "Es la misma notación que la siguiente:\n",
    "\n",
    "$$\\braket{a|b} = \\begin{bmatrix}a_1&a_2&...&a_3\\end{bmatrix}  * \\begin{bmatrix}b_1\\\\b_2\\\\...\\\\b_3\\end{bmatrix} = a_1b_1+a_2b_2+a_3b_3...+a_nb_n$$\n",
    "\n"
   ]
  },
  {
   "cell_type": "markdown",
   "metadata": {},
   "source": [
    "Es multiplicación bra-ket nos permitirá encontrar si dos vectores son ortogonales y esta operación será frecuente en nuestro estudio del cómputo cuántico. Veamos las distancia."
   ]
  },
  {
   "cell_type": "markdown",
   "metadata": {},
   "source": [
    "## Distancias Vector.\n",
    "\n",
    "Para dos vectores que tienen la misma definición $\\ket{a}$ $\\bra{a}$, pero diferente orientación una columnar y la otra está orientado en fila, la distancia la podemos definir como:\n",
    "\n",
    "Multiplicación entre la fila y columna.\n",
    "$$\\braket{a|a}$$\n",
    "$$\\braket{a|a} = \\begin{bmatrix}a_1&a_2&...&a_3\\end{bmatrix}  * \\begin{bmatrix}a_1\\\\a_2\\\\...\\\\a_3\\end{bmatrix} = a_1^2+a_2^2+a_3^2...+a_n^2$$\n",
    "\n",
    "\n",
    "Ejemplo:\n",
    "\n",
    "$$\\braket{a|a}  = \\begin{bmatrix}2&1\\end{bmatrix}*\\begin{bmatrix}2\\\\1\\end{bmatrix} = 2^2+1^2$$\n",
    "\n",
    "$$\\braket{a|a} = 5$$\n",
    "\n",
    "Si tomamos la raiz cuadrada de lo anterior para calcular la distancia entre nuestros vectores.\n",
    "\n",
    "$$\\braket{a|a} = \\sqrt{5}$$\n",
    "\n",
    "\n",
    "Es decir podemos definir la distancia.\n",
    "\n",
    "$$\\left| \\ket{a} \\right| = \\sqrt{\\braket{a|a}}$$"
   ]
  },
  {
   "cell_type": "markdown",
   "metadata": {},
   "source": [
    "## Ortogonalidad Brakets\n",
    "\n",
    "Dos kets $\\ket{a} \\ket{b}$ son ortogonales si y solo si: \n",
    "\n",
    "$$\\braket{a|b}=0$$\n",
    "\n",
    "A continuación tenemos un ejemplo para los siguientes **kets** \n",
    "\n",
    "$$\\ket{a}=\\begin{bmatrix}3\\\\1\\end{bmatrix}, \\ket{b}=\\begin{bmatrix}1\\\\2\\end{bmatrix}, \\ket{c}=\\begin{bmatrix}-2\\\\6\\end{bmatrix}$$\n",
    "\n",
    "\n",
    "Vectores no ortogonales\n",
    "$$\\braket{a|b}=\\begin{bmatrix}3&1\\end{bmatrix}\\ket{b}=\\begin{bmatrix}1\\\\2\\end{bmatrix} = 3+2 = 5$$\n",
    "\n",
    "\n",
    "Vectores ortogonales\n",
    "$$\\braket{a|c}=\\begin{bmatrix}3&1\\end{bmatrix}\\ket{c}=\\begin{bmatrix}-2\\\\6\\end{bmatrix} = -6+6 = 0$$\n",
    "\n",
    "\n"
   ]
  },
  {
   "cell_type": "markdown",
   "metadata": {},
   "source": [
    "## Bases Ortonormales\n",
    "\n",
    "Las bases ortonormales hacen referencia a que el vector unitario de dos vectores, es también ortonormal."
   ]
  },
  {
   "cell_type": "markdown",
   "metadata": {},
   "source": [
    "# Matrix\n",
    "\n",
    "\n",
    "Las matrices son esenciales para comprender las computaciones a nivel cuántico. ¿Qué es una matriz?, puede ser descrito como una tabla de números, en órden de estructurar una matriz, usamos filas y columnas, de $n$ dimensiones.\n",
    "\n",
    "\\begin{bmatrix}\n",
    "1 & 2 & 3\\\\\n",
    "0 & 1 & 2\n",
    "\\end{bmatrix}\n",
    "\n",
    "\n",
    "- Una matriz también puede usar números complejos dentro.\n",
    "\n",
    "\\begin{bmatrix}\n",
    "1+2i & 2\\\\\n",
    "0 & 1+10i\\\\\n",
    "1 & 2-3i\n",
    "\\end{bmatrix}\n",
    "\n",
    "## Operaciones Matriciales.\n",
    "\n",
    "Las oepraciones matriciales no dependen del número que está en las filas y columnas, es decir, no importa si es real, imaginario, flotante o complejo, se suman componente a componente.\n",
    "\n",
    "\n",
    "$$\\begin{bmatrix}1+2i & 2\\\\3 & 2-5i\\end{bmatrix} - \\begin{bmatrix}2&4\\\\5&3\\end{bmatrix}=\\begin{bmatrix}-1+2i&-2\\\\-2&-1-5i\\end{bmatrix}$$\n",
    "\n",
    "\n",
    "Puedo operar sin problemas por un escalar complejo.\n",
    "\n",
    "\n",
    "$$ 1+2i * \\begin{bmatrix}2\\\\5\\end{bmatrix}=\\begin{bmatrix}-2+4i\\\\-5+10i\\end{bmatrix}$$\n"
   ]
  },
  {
   "cell_type": "markdown",
   "metadata": {},
   "source": [
    "## Producto matricial\n",
    "\n",
    "\n",
    "Dentro de las operaciones matriciales, el producto entre matrices es la operación más común en el cómputo cuántico.\n",
    "En el producto matricial multiplicamos una fila por columna así:\n",
    "\n",
    "$$\\begin{bmatrix}0&2\\\\3&1\\end{bmatrix}\\times\\begin{bmatrix}2&4\\\\5&3\\end{bmatrix}=\\begin{bmatrix}10&6\\\\11&15\\end{bmatrix}$$\n",
    "\n",
    "La primera fila de la matriz $n$ se multiplica por la primera columna de la matriz $m$ y el resultado se suma:\n",
    "\n",
    "$$\\begin{bmatrix}\\color{blue}0&\\color{blue}2\\\\3&1\\end{bmatrix}\\times\\begin{bmatrix}\\color{blue}2&4\\\\\\color{blue}5&3\\end{bmatrix}=\\begin{bmatrix}\\color{blue}10&6\\\\11&15\\end{bmatrix}$$\n",
    "\n",
    "Esta misma operación  con la segunda columna de la matriz $m$\n",
    "\n",
    "\n",
    "$$\\begin{bmatrix}\\color{blue}0&\\color{blue}2\\\\3&1\\end{bmatrix}\\times\\begin{bmatrix}2&\\color{blue}4\\\\5&\\color{blue}3\\end{bmatrix}=\\begin{bmatrix}10&\\color{blue}6\\\\11&15\\end{bmatrix}$$\n",
    "\n",
    "Cada componente se multiplica y sus resultados se suman.\n",
    "\n",
    "- $0*2 + 2*5 = 10$\n",
    "- $0*4 + 2*3=6$\n",
    "- $3*2 +1*5 = 11$\n",
    "- $3*4 + 1*3=15$\n",
    "\n",
    "\n",
    "Hay que tener en cuenta ara que estas operaciones se den el número de columnas y filas que deben existir una relación entre las dimensiones. Al mirar la columna la cantidad de columnas de la priemra matriz, y las filas de la segunda matriz, sabre si puedo operarlas, deben ser d ela misma dimension.\n",
    "\n",
    "Las dimensiones del resultado de la multiplicación de la matriz lo obtengo al mirar (rojo), quiere decir que si multiplico una matriz $3x2*2x1$ el resutlado será de una matriz de $3x1$\n",
    "\n",
    "- $M=\\color{red}3 x \\color{blue}2$\n",
    "- $N=\\color{blue}2 x \\color{red}1$\n",
    "\n",
    "\n",
    "$$\\begin{bmatrix}0&2\\\\3&1\\\\9&8\\end{bmatrix}\\times\\begin{bmatrix}2\\\\5\\end{bmatrix}=\\begin{bmatrix}10\\\\11\\\\58\\end{bmatrix}$$\n",
    "\n",
    "\n",
    "Es  importante entender que estas operaciones no son comutativas, debido a que no cumple nuestro principio de columna-fila. Es decir: $MxN!=NxM$ "
   ]
  },
  {
   "cell_type": "markdown",
   "metadata": {},
   "source": [
    "# Inner Out product"
   ]
  },
  {
   "cell_type": "markdown",
   "metadata": {},
   "source": []
  },
  {
   "cell_type": "markdown",
   "metadata": {},
   "source": [
    "### En numpy es posible..."
   ]
  },
  {
   "cell_type": "code",
   "execution_count": null,
   "metadata": {},
   "outputs": [],
   "source": [
    "def inner(A,B):\n",
    "    return A*np.matrix(B).getH()\n",
    "\n",
    "def outer(A,B):\n",
    "    return np.outer(A,B)\n",
    "\n",
    "\n",
    "inner(x,x) # matrix([[4.+0.j]])\n",
    "outer(x,x) # array([[0.+2.j, 0.+2.j],  [0.+2.j, 0.+2.j]])"
   ]
  },
  {
   "cell_type": "markdown",
   "metadata": {},
   "source": [
    "# Tensor Product\n",
    "\n",
    "El producto tensorial no es una multiplicación de matrices. Es un patrón de operación, que sucede de la siguiente forma:"
   ]
  },
  {
   "cell_type": "markdown",
   "metadata": {},
   "source": [
    "\n",
    "\n",
    "$$\\begin{bmatrix}x\\\\y&\\end{bmatrix} \\otimes \\begin{bmatrix}z\\\\q\\end{bmatrix}=\\begin{bmatrix}xz\\\\xq\\\\yz\\\\yq\\end{bmatrix}$$\n"
   ]
  },
  {
   "cell_type": "markdown",
   "metadata": {},
   "source": [
    "\n",
    "$$\\begin{bmatrix}1\\\\3&\\end{bmatrix} \\otimes \\begin{bmatrix}0\\\\3\\\\4\\end{bmatrix}=\\begin{bmatrix}0\\\\3\\\\4\\\\0\\\\9\\\\12\\end{bmatrix}$$\n"
   ]
  },
  {
   "cell_type": "markdown",
   "metadata": {},
   "source": [
    "# Identity Matrix (I)\n",
    "\n",
    "La matriz identidad es el \"número 1\" en las matrices, es decir, en los números que conocemos, todo número multiplicado por 1 me devuelve el mismo número, ahora, la matriz identidad tiene esta propiedad  y otras que veremos más adelante.\n",
    "\n",
    "\n",
    "$$\\begin{bmatrix}0&2\\\\6&7\\end{bmatrix} \\times \\begin{bmatrix}1&0\\\\0&1\\end{bmatrix}=\\begin{bmatrix}0&2\\\\6&7\\end{bmatrix} $$\n",
    "\n",
    "Esta matriz se caracteriza por esa diagonal de 1, y demás valores en 0.\n",
    "\n",
    "# Inverse Matrix\n",
    "\n",
    "Así como en los números reales tenemos que la inversa de cualquier número real $a^{-1}=\\Large\\frac{1}{a}$, en las matrices opera de la misma forma y tenemos el siguiente principio, la matriz A por su inversa es igual a la identidad.\n",
    "$$AA^{-1} = I$$\n"
   ]
  },
  {
   "cell_type": "markdown",
   "metadata": {},
   "source": [
    "# Transponse\n",
    "\n",
    "La transpuesta de una matriz es el cambio de filas por columnas:\n",
    "\n",
    "$$\\begin{bmatrix}0&2\\\\3&1\\end{bmatrix}^{T}=\\begin{bmatrix}0&3\\\\2&1\\end{bmatrix}$$\n",
    "\n",
    "Es importante entender que esta operación de la transpuesta la usaremos ocasionalmente conjunto el complejo conjugado dentro de los cálculos en el cómputo cuántico, también es de interes saber que el producto de dos matrices transpuestas es igual al producto matricial transpuesto:\n",
    "\n",
    "$$(XY)^{T}=X^{T}Y^{T}$$\n",
    "\n",
    "$$(\\begin{bmatrix}0&2\\\\3&1\\end{bmatrix}\\times\\begin{bmatrix}2&4\\\\5&3\\end{bmatrix})^{T}=\\begin{bmatrix}10&6\\\\11&15\\end{bmatrix}$$\n",
    "\n",
    "$$...$$\n",
    "\n",
    "$$\\begin{bmatrix}0&2\\\\3&1\\end{bmatrix}^{T}\\times\\begin{bmatrix}2&4\\\\5&3\\end{bmatrix}^{T}=\\begin{bmatrix}10&6\\\\11&15\\end{bmatrix}$$\n",
    "\n",
    "\n",
    "# Complex Conjugate of Matrix\n",
    "\n",
    "El complejo conjugado de una matriz funciona exactamente igual a los números complejos al cambiar de signo.\n",
    "\n",
    "$$\\begin{bmatrix}1+5i&i\\\\3&2-3i\\end{bmatrix}^{*}=\\begin{bmatrix}1-5i&-i\\\\3&2+3i\\end{bmatrix}$$\n",
    "\n",
    "\n",
    "# Adjoint  or \"Tranpose-Complex-Conjugate\".\n",
    "\n",
    "Esta es una combinación entre la transpuesta y el complejo conjugado, una operación que veremos a menos en el cómputo cuántico. En esta operación tenemos la siguiente propiedad:\n",
    "\n",
    "$$X^{+}=(X^{*})^{T}=(X^{T})^{*}$$\n",
    "\n",
    "\n",
    "- Ejemplo:\n",
    "$$\\begin{bmatrix}1+5i&i\\\\3&2-3i\\end{bmatrix}^{+}=\\begin{bmatrix}1-5i&3\\\\-i&2+3i\\end{bmatrix}$$\n",
    "\n",
    "\n",
    "\n",
    "\n",
    "\n"
   ]
  },
  {
   "cell_type": "markdown",
   "metadata": {},
   "source": [
    "# Linear Transformations\n",
    "\n",
    "Puedo ver las transformaciones lineales así, por ejemplo quiero escalar $f(x,y)$ en 2 unidades, $f(2x,y)$. Gráficamente el resultado es el siguiente:\n",
    "\n",
    "![img](https://upload.wikimedia.org/wikipedia/commons/thumb/4/43/Streckung_eines_Vektors.gif/155px-Streckung_eines_Vektors.gif)\n",
    "\n",
    "Es decir puedo realizar la siguiente generalización:\n",
    "$$x_2=Ax_1 + By_1$$\n",
    "$$y_2=Cx_2 + Dy_2$$\n",
    "\n",
    "Escrito de una forma matricial:\n",
    "\n",
    "\n",
    "$$\\begin{bmatrix}x_2\\\\y_2\\end{bmatrix}=\\begin{bmatrix}A&B\\\\C&D\\end{bmatrix}\\times\\begin{bmatrix}x_1\\\\y_1\\end{bmatrix}$$\n",
    "\n",
    "Para entender las tranformaciones lineales en el cómptuo cuántico es importante entender ciertos términos espaciales podemos expresar que una matriz transpuesta-conjugada es igual a la inversa podemos tmabién hacerlo con la \"**Matriz Unitaria**\":\n",
    "\n",
    "\n",
    "## Unitary Matrix\n",
    "\n",
    "$$X^{+}=X^{-1}$$\n",
    "$$XX^{+} = XX^{-1} =I$$\n",
    "\n",
    "Es decir es una operación que representa las **operaciones reversibles** en cómputo cuántico, por  ejemplo estas operaciones se usan mucho cuando ponemos en superposición y necesitamos sacarlo del estado de sueprposición.\n",
    "\n",
    "$$\\begin{bmatrix}\\frac{1}{\\sqrt{2}}&\\frac{1}{\\sqrt{2}}\\\\\\frac{1}{\\sqrt{2}}&\\frac{-1}{\\sqrt{2}}\\end{bmatrix}\\times\\begin{bmatrix}\\frac{1}{\\sqrt{2}}&\\frac{1}{\\sqrt{2}}\\\\\\frac{1}{\\sqrt{2}}&\\frac{-1}{\\sqrt{2}}\\end{bmatrix}=\\begin{bmatrix}1&0\\\\0&1\\end{bmatrix}$$\n",
    "\n",
    "\n",
    "## Hermitian Matrix\n",
    "\n",
    "Tenemos una matriz hermitica si $X^{+}=X$ , es decir, si la **transpuesta-conjugada** de una matriz es igual a la matriz, esto representa las $\\begin{bmatrix}3&2+6i\\\\1+3i&4\\end{bmatrix}$ en cómputo cuántico\n",
    "\n",
    "\n",
    "$$\\begin{bmatrix}3&2+6i\\\\1+3i&4\\end{bmatrix}^{+} = \\begin{bmatrix}3&2+6i\\\\1+3i&4\\end{bmatrix}$$\n",
    "\n"
   ]
  },
  {
   "cell_type": "markdown",
   "metadata": {},
   "source": [
    "Las transformaciones lineales son muy diversas, existen rotacionales, proyecciones, reflexiones, compresiones, escalamientos y demás, ejemplo de una tranformación lineal rotacional. Es decir, el vector estado incial parte desde 0.7, y se le aplica una rotación en 45°,  en cómputo cuántico lidiaremos mucho con transformaciones de un vector estado, entre 0 y 1. en este caso estamos efectuando una rotación de ese \"Vector state\" en otro \"vector state\"\n",
    "\n",
    "$$\\begin{bmatrix}0.7\\\\0.7\\end{bmatrix}=\\begin{bmatrix}cos(45)&-sin(45)\\\\sin(45)&cos(45)\\end{bmatrix}\\times\\begin{bmatrix}1\\\\0\\end{bmatrix}$$\n",
    "\n",
    "\n",
    "Es decir cuando estamos operando con compuertas cuánticas lógicas y qbits cuánticos estaremos realizando transformaciones lineales."
   ]
  }
 ],
 "metadata": {
  "kernelspec": {
   "display_name": "Python 3.9.7 64-bit",
   "language": "python",
   "name": "python3"
  },
  "language_info": {
   "codemirror_mode": {
    "name": "ipython",
    "version": 3
   },
   "file_extension": ".py",
   "mimetype": "text/x-python",
   "name": "python",
   "nbconvert_exporter": "python",
   "pygments_lexer": "ipython3",
   "version": "3.9.7"
  },
  "orig_nbformat": 4,
  "vscode": {
   "interpreter": {
    "hash": "e77e006993cb8c9481f38dab40173dbb20aa4ee39595ff295e348d62b4e4f2a9"
   }
  }
 },
 "nbformat": 4,
 "nbformat_minor": 2
}
