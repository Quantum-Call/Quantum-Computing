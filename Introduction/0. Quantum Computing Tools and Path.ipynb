{
 "cells": [
  {
   "cell_type": "markdown",
   "metadata": {},
   "source": [
    "# Quantum Computing Tools and Paths\n",
    "\n",
    "En el estudio del cómputo cuántico existen diversas herramientas que te facilitarán estudiar este mundo, la mayoría de las herramientas están en constante desarrollo y esfuerzo por parte de las empresas que investigan y desarrollan este cómputo:\n",
    "\n",
    "\n",
    "- [ibm]()\n",
    "- [pennylane]()\n",
    "- [xanadu]()\n",
    "- [riggeti]()"
   ]
  },
  {
   "cell_type": "markdown",
   "metadata": {},
   "source": [
    "## Road Map.\n",
    "\n",
    "(Desarrollar un road map desde dónde empezar, digamos el átomo hasta QML.)"
   ]
  },
  {
   "cell_type": "markdown",
   "metadata": {},
   "source": [
    "## Recursos de aprendizaje\n",
    "\n",
    "(Recolectar y curar recursos de aprendizaje. Para vincularlo a lo anterior.)"
   ]
  },
  {
   "cell_type": "markdown",
   "metadata": {},
   "source": [
    "## Comunidades\n",
    "\n",
    "(Recolectar comunidades)"
   ]
  },
  {
   "cell_type": "markdown",
   "metadata": {},
   "source": []
  },
  {
   "cell_type": "markdown",
   "metadata": {},
   "source": []
  },
  {
   "cell_type": "markdown",
   "metadata": {},
   "source": []
  },
  {
   "cell_type": "markdown",
   "metadata": {},
   "source": []
  },
  {
   "cell_type": "markdown",
   "metadata": {},
   "source": []
  },
  {
   "cell_type": "markdown",
   "metadata": {},
   "source": []
  },
  {
   "cell_type": "markdown",
   "metadata": {},
   "source": []
  },
  {
   "cell_type": "code",
   "execution_count": null,
   "metadata": {},
   "outputs": [],
   "source": []
  }
 ],
 "metadata": {
  "language_info": {
   "name": "python"
  },
  "orig_nbformat": 4
 },
 "nbformat": 4,
 "nbformat_minor": 2
}
