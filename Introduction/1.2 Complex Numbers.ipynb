{
 "cells": [
  {
   "cell_type": "markdown",
   "metadata": {},
   "source": [
    "# Complex Numbers\n",
    "\n",
    "Existen números imaginarios como la raiz cuadrada de menos uno, a este valor se le llama imaginario porque \"no existe\" $\\sqrt{-1}$ = $i$,  los números complejos se representan por ser una mezcla entre un número real y un número imaginario $i$. $a + bi$  es la definición para números complejos.\n",
    "\n",
    "En el cómputo cuántico hacemos muchos cálculos  con números complejos y lidiaremos con transformaciones geométricas lineales todo el tiempo  y matrices también.\n",
    "\n",
    "Ejemplo:\n",
    "\n",
    "\n",
    "$$\\sqrt{i} = \\frac{1+i}{\\sqrt{2}}$$"
   ]
  },
  {
   "cell_type": "markdown",
   "metadata": {},
   "source": [
    "Las operaciones entre números complejos:\n",
    "\n",
    "- $(3+2i) + (5+4i) = (8+6i)$\n",
    "- $(3+2i) - (5+4i) = (2+2i)$\n",
    "- $ 5 * (3+2i) = (15+10i)$\n",
    "- $\\frac{(3+2i)}{3} = \\frac{(1+2i)}{3}$\n",
    "\n",
    "En estas operaciones se operan la partes reales y la parte compleja. Por ejemplo si multiplicamos un número imaginario con un número complejo no sucede muchas cosas nuevas.\n",
    "\n",
    "- $i * (3+2i) = (3i+2i^2)$\n",
    "- $(3i+2(-1))$ Al reemplazar  $\\sqrt{-1}$ = $i$\n",
    "- $(3i - 2))$ o reordenando la expresion $(-2 +3i)) $"
   ]
  },
  {
   "cell_type": "code",
   "execution_count": 9,
   "metadata": {},
   "outputs": [
    {
     "data": {
      "text/plain": [
       "complex"
      ]
     },
     "execution_count": 9,
     "metadata": {},
     "output_type": "execute_result"
    }
   ],
   "source": [
    "y = 5+4j\n",
    "z = 3+2j\n",
    "type(z)"
   ]
  },
  {
   "cell_type": "code",
   "execution_count": 10,
   "metadata": {},
   "outputs": [
    {
     "data": {
      "text/plain": [
       "(8+6j)"
      ]
     },
     "execution_count": 10,
     "metadata": {},
     "output_type": "execute_result"
    }
   ],
   "source": [
    "# Suma\n",
    "complex_sum = 3+2j + 5+4j\n",
    "complex_sum"
   ]
  },
  {
   "cell_type": "code",
   "execution_count": 12,
   "metadata": {},
   "outputs": [
    {
     "data": {
      "text/plain": [
       "(100+0j)"
      ]
     },
     "execution_count": 12,
     "metadata": {},
     "output_type": "execute_result"
    }
   ],
   "source": [
    "# Puedo obtener la magnitud cuadrada\n",
    "square_magnitude = complex_sum  * complex_conjugate\n",
    "square_magnitude"
   ]
  },
  {
   "cell_type": "markdown",
   "metadata": {},
   "source": [
    "## Complex Conjugate and Squared Magnitude\n",
    "\n",
    "El complejo conjugado es simplemente un cambio de signo en los números complejos,  y la magnitud cuadrada es el cuadrado del número complejo. Estas dos operaciones son muy usadas en el cálculo probabilistico dentro del  cómputo cuántico."
   ]
  },
  {
   "cell_type": "markdown",
   "metadata": {},
   "source": [
    "### Complejo conjugado\n",
    "- $(3+2i)$ -> $(3-2i)$\n",
    "- $(5-2i)$ -> $(5+2i)$\n",
    "\n",
    "\n",
    "### Magnitud cuadrada\n",
    "- $ |3+2i|^2$ -> $3^2+2i^2$"
   ]
  },
  {
   "cell_type": "code",
   "execution_count": 11,
   "metadata": {},
   "outputs": [
    {
     "data": {
      "text/plain": [
       "(8-6j)"
      ]
     },
     "execution_count": 11,
     "metadata": {},
     "output_type": "execute_result"
    }
   ],
   "source": [
    "# Puedo operar con el conjugado.\n",
    "complex_conjugate = complex_sum.conjugate()\n",
    "complex_conjugate"
   ]
  },
  {
   "cell_type": "markdown",
   "metadata": {},
   "source": [
    "Es importante tener en cuenta que:\n",
    "\n",
    "$$Complex Number* Complex Conjugate =  SquareMagnitude$$\n",
    "\n",
    "$$(3+2i) * (3-2i)$$\n",
    "$$(9-6i+6i-4i)$$\n",
    "$$(9-4i^2)$$\n",
    "$$(9 +4) = 13$$\n"
   ]
  },
  {
   "cell_type": "markdown",
   "metadata": {},
   "source": [
    "En la división de números complejos, todo el denominador se multiplica por el complejo conjugado.\n",
    "\n",
    "$$\\frac{(6 + 4i)}{(3 + 2i)} = \\frac{(6 + 4i)}{(3 + 2i)} * \\frac{(3 - 2i)}{(3 - 2i)}$$\n",
    "$$ = \\frac{(18-12i + 12i + 8i^2)}{(3^2 + 2^2)}$$\n",
    "$$ = \\frac{(26)}{(13)}$$\n",
    "$$ = 2$$"
   ]
  },
  {
   "cell_type": "markdown",
   "metadata": {},
   "source": [
    "En python los números complejos son un tipo de dato que viene con el core, pero la convención funciona con $j$ en vez de $i$, porque se buscaba evitar confuciones con la $i$ de corriente eléctrica, también podemos usar la función `complex()`  para poder crearlo a partir de una tupla de valores, es decir, también me podría servir para castear data.\n",
    "\n",
    "\n",
    "Para realizar operaciones más avanzada python cuenta con un ódulo built-in llamado cmath que viene con el core."
   ]
  },
  {
   "cell_type": "code",
   "execution_count": 19,
   "metadata": {},
   "outputs": [
    {
     "ename": "ModuleNotFoundError",
     "evalue": "No module named 'seaborn'",
     "output_type": "error",
     "traceback": [
      "\u001b[1;31m---------------------------------------------------------------------------\u001b[0m",
      "\u001b[1;31mModuleNotFoundError\u001b[0m                       Traceback (most recent call last)",
      "\u001b[1;32ma:\\Cerebrum\\Learning_Notebooks\\NoteBooks\\Curso de Quamtum\\2. Complex Numbers.ipynb Cell 12'\u001b[0m in \u001b[0;36m<module>\u001b[1;34m\u001b[0m\n\u001b[0;32m      <a href='vscode-notebook-cell:/a%3A/Cerebrum/Learning_Notebooks/NoteBooks/Curso%20de%20Quamtum/2.%20Complex%20Numbers.ipynb#ch0000021?line=0'>1</a>\u001b[0m \u001b[39mimport\u001b[39;00m \u001b[39mcmath\u001b[39;00m\n\u001b[0;32m      <a href='vscode-notebook-cell:/a%3A/Cerebrum/Learning_Notebooks/NoteBooks/Curso%20de%20Quamtum/2.%20Complex%20Numbers.ipynb#ch0000021?line=1'>2</a>\u001b[0m \u001b[39mimport\u001b[39;00m \u001b[39mmatplotlib\u001b[39;00m\u001b[39m.\u001b[39;00m\u001b[39mpyplot\u001b[39;00m \u001b[39mas\u001b[39;00m \u001b[39mplt\u001b[39;00m\n\u001b[1;32m----> <a href='vscode-notebook-cell:/a%3A/Cerebrum/Learning_Notebooks/NoteBooks/Curso%20de%20Quamtum/2.%20Complex%20Numbers.ipynb#ch0000021?line=2'>3</a>\u001b[0m \u001b[39mimport\u001b[39;00m \u001b[39mseaborn\u001b[39;00m \u001b[39mas\u001b[39;00m \u001b[39msns\u001b[39;00m\n",
      "\u001b[1;31mModuleNotFoundError\u001b[0m: No module named 'seaborn'"
     ]
    }
   ],
   "source": [
    "import cmath\n",
    "import matplotlib.pyplot as plt\n",
    "import seaborn as sns"
   ]
  },
  {
   "cell_type": "code",
   "execution_count": 14,
   "metadata": {},
   "outputs": [
    {
     "data": {
      "text/plain": [
       "{'complex_function': (4+5j),\n",
       " 'complex_float_function': (3.14+2.71j),\n",
       " 'complex_cero': 0j,\n",
       " 'complex_strings_function': (4+5j)}"
      ]
     },
     "execution_count": 14,
     "metadata": {},
     "output_type": "execute_result"
    }
   ],
   "source": [
    "complex_dict ={}\n",
    "c =  complex(4,5)\n",
    "f =  complex(3.14,2.71)\n",
    "cero = complex()\n",
    "strings= complex(\"4+5j\")\n",
    "\n",
    "\n",
    "complex_dict['complex_function'] = c\n",
    "complex_dict['complex_float_function'] = f \n",
    "complex_dict['complex_cero'] = cero\n",
    "complex_dict['complex_strings_function'] = strings\n",
    "\n",
    "\n",
    "complex_dict\n"
   ]
  },
  {
   "cell_type": "markdown",
   "metadata": {},
   "source": [
    "## Interpretación Cartesiana\n",
    "\n",
    "Los números complejos tienen una interpretación cartesiana, en python podemos usar los números coomo puntos o vectores en un plano euclidiano en corrdenadas cartesiana. Ejemplo:\n",
    "\n",
    "![img](https://files.realpython.com/media/complex_plane.0396c2f95b79.png)\n",
    "\n",
    "Podemos mostrar los números complejos en un plano a partir de unas coordenadas cualquiera, por ejemplo miremos las coordenadas del Cairo.\n",
    "\n",
    "- Cairo : Latitude: 30° 03' 45.47\" N --- Longitude: 31° 14' 58.81\" E\n",
    "- Colombia : Latitude: 4° 06' 56.42\" N --- Longitude: -72° 55' 48.49\" W ;\n",
    "- Rusia:  Latitude: 55° 00' 0.00\" N --- Longitude: 103° 00' 0.00\" E"
   ]
  },
  {
   "cell_type": "markdown",
   "metadata": {},
   "source": [
    "Podemos convertir las anteriores a números complejos, es primero necesario pasar estos numeros a decimales."
   ]
  },
  {
   "cell_type": "code",
   "execution_count": null,
   "metadata": {},
   "outputs": [],
   "source": [
    "cairo = complex()"
   ]
  },
  {
   "cell_type": "code",
   "execution_count": 18,
   "metadata": {},
   "outputs": [
    {
     "data": {
      "image/png": "[encoded data removed]",
      "text/plain": [
       "<Figure size 432x288 with 1 Axes>"
      ]
     },
     "metadata": {
      "needs_background": "light"
     },
     "output_type": "display_data"
    }
   ],
   "source": [
    "\n",
    "x = [1,2,3,4]\n",
    "y = [1,4,9,16]\n",
    "plt.plot(x, y, 'ro')\n",
    "plt.axis([0, 6, 0, 20])\n",
    "\n",
    "for i_x, i_y in zip(x, y):\n",
    "    plt.text(i_x, i_y, '({}, {})'.format(i_x, i_y))\n",
    "\n",
    "plt.show()"
   ]
  },
  {
   "cell_type": "code",
   "execution_count": null,
   "metadata": {},
   "outputs": [],
   "source": []
  }
 ],
 "metadata": {
  "kernelspec": {
   "display_name": "Python 3.9.7 64-bit",
   "language": "python",
   "name": "python3"
  },
  "language_info": {
   "codemirror_mode": {
    "name": "ipython",
    "version": 3
   },
   "file_extension": ".py",
   "mimetype": "text/x-python",
   "name": "python",
   "nbconvert_exporter": "python",
   "pygments_lexer": "ipython3",
   "version": "3.9.7"
  },
  "orig_nbformat": 4,
  "vscode": {
   "interpreter": {
    "hash": "e77e006993cb8c9481f38dab40173dbb20aa4ee39595ff295e348d62b4e4f2a9"
   }
  }
 },
 "nbformat": 4,
 "nbformat_minor": 2
}
