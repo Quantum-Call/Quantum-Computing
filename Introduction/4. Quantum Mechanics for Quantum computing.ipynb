{
 "cells": [
  {
   "cell_type": "markdown",
   "metadata": {},
   "source": [
    "# Quantum Mechanics for Quantum computing\n",
    "\n",
    "- Superposición e Interferencia\n",
    "- Entrelazamiento"
   ]
  },
  {
   "cell_type": "markdown",
   "metadata": {},
   "source": [
    "# Superposition and Interference\n",
    "\n",
    "Nos enfocaremos para entender estos conceptos  en el experimento de Young y la doble rendija, lidiamos con una fuente de luz que pasa por una doble rendija:\n",
    "\n",
    "![img](https://upload.wikimedia.org/wikipedia/commons/thumb/c/cd/Double-slit.svg/1200px-Double-slit.svg.png)\n",
    "\n",
    "\n"
   ]
  },
  {
   "cell_type": "markdown",
   "metadata": {},
   "source": [
    "## Colapso de la función de onda\n",
    "\n",
    "- El proceso de observación del fotón genera el colaso de la función de onda, y no vemos el patrón de itnerferencia en el experimento de los dos rendijas.\n",
    "- El experimento de la doble rendija se hizo también con un solo fotón, peor el patrón de interferencia era el mismo.¿ Qué explicación tiene esto? que el fotón se interfiere así mismo, es decir, está en una especie de sueprposición y al observarse peirde esta propiedad. \n",
    "- La interferencia peude ser constructiva o desctructiva.\n"
   ]
  },
  {
   "cell_type": "markdown",
   "metadata": {},
   "source": [
    "# Entaglement\n",
    "\n",
    "....\n",
    "\n",
    "- Para determinar la posición de un electón usaremos los números cuánticos $n, l, m_l,m_s$\n",
    "  - Número principal $n$\n",
    "  - Momento angular orbital $l$\n",
    "  - Magnetico: $m_l$\n",
    "  - Electron Spin $m_s$\n",
    "\n",
    "\n",
    "## Spin\n",
    "\n",
    "- Lo que nos interesa del espín debido a sus posiciones hacia arriba o hacia abajo. Antes de la medida está superpuesto, es decir no sabemos hacia donde apunta, es solo cuando se mide que sucede el colapso d ela función de onda, llega a un estado donde el espín está hacia arriba o hacia abajo.\n",
    "\n",
    "- La medida colapsa en un esta de 0 o 1, de aquí que se asocie con los bits. En el cómputo cuántico no tenemos que lidiar con estados si no con el colpaso.\n",
    "\n",
    "- Analogía: El gato de Shoringder.\n",
    "\n",
    "- El entrelazamiento cuántico es una especie de relación que existe entre los electrones, una vez mides uno con un spin hacia arriba, tienes otro con un spin hacia abajo. Este es el famoso \"Spooky action\", esta correlación puede pasara entre dos particulas, fotones, electrones, qubits.\n",
    "\n",
    "- Analogía: Si tienes una caja con uan piña, y otra caja en otro lugr con una sandía. Si abrimos una de las cajas y vemos que era una sandía, inmediatamente sabremos que la segunda es la piña."
   ]
  },
  {
   "cell_type": "markdown",
   "metadata": {},
   "source": [
    "# Quibits\n",
    "\n",
    "Podemos hablar del qubit como una representación del tipo columna matricial.\n",
    "\n",
    "- Qubit down state\n",
    "- Es el clásico bit 0\n",
    "$$\\begin{bmatrix}1\\\\0\\end{bmatrix}$$ \n",
    "\n",
    "\n",
    "- Qubit up state\n",
    "- Es el clásico bit 1\n",
    "$$\\begin{bmatrix}0\\\\1\\end{bmatrix}$$\n",
    "\n",
    "\n",
    "Son estas columnas matriciales las que operamos mediante compuertas , para poder ubicar estos qubits en estado superpuesto, o entrelazado.\n",
    "\n",
    "\n",
    "La esfera de Bloch es una representación de los posibles estados del qubit.\n",
    "\n",
    "![img](_assets/BlochSphere.PNG)\n",
    "\n",
    "\n",
    "Para un solo spin, podemos representar el estado normalizado  como sigue, donde $p$ es una probabilidad, para $p=1$ es un spin down, $p=0$ es el spin up.\n",
    "\n",
    "$$\\begin{bmatrix}p\\\\q\\end{bmatrix}$$\n",
    "$$p = a+ b_i$$\n",
    "$$|p|^{2} = a^{2} + b_i^{2}$$\n",
    "Magnitud cuadrada:\n",
    "$$|p|^{2} + |q|^{2}=1$$ \n",
    "\n",
    "Vectores superpuestos como  nuestra **columna matricial** toma la forma de:\n",
    "\n",
    "$$\\Large\\begin{bmatrix}\\frac{1}{\\sqrt{2}}\\\\\\frac{1}{\\sqrt{2}}\\end{bmatrix}$$\n",
    "spin-down\n",
    "$$\\Large(\\frac{1}{\\sqrt{2}})^{2} = 1$$ \n",
    "spin-up\n",
    "$$\\Large(\\frac{1}{\\sqrt{2}})^{2} = 1$$\n",
    "\n",
    "- Es decir, en el quibit anterior tenemos la probabilidad de tener 50%  un estado o no.\n",
    "\n",
    "- Si tuvieramos que medir estos cambios, lo haríamos con un aparato que esté diseñado para entender el movimiento hacia arriba o abajo del spin, sucede que el aparato está alineado con el spin, por lo que si nuestro aparato está alineado hacia arriba, tenemos 100% de probabilidad de que el spin o esté arriba o hacia abajo.\n",
    "\n",
    "Al rotar el spin los valores de $p$ cambian. $p=0.2 , p=0.8$ ¿Cómo puedo mejorar mis probabilidades?\n",
    "\n",
    "- En cómputo cuántico lidiaremos con **Inner product** o producto interno, para poder asegurarnos de obtener un 100% de probabilidad. Ejemplo:\n",
    "\n",
    "Tenemos:\n",
    "\n",
    "- $\\Large A=\\begin{bmatrix}0\\\\1\\end{bmatrix}$ $\\Large B=\\begin{bmatrix}0\\\\1\\end{bmatrix}$\n",
    "- $\\Large A^{+} * B$\n",
    "\n",
    "Es decir, si queremos mejorar las porbabilidades operaremos por la \"Adjoint\" o la transpuesta conjugada.\n",
    "\n",
    "- $\\Large \\begin{bmatrix}0&1\\end{bmatrix}$ * $\\Large \\begin{bmatrix}0\\\\1\\end{bmatrix}=1$\n",
    "\n",
    "\n",
    "\n"
   ]
  },
  {
   "cell_type": "markdown",
   "metadata": {},
   "source": [
    "## Notación Bra-ket\n",
    "\n",
    "Es una notación inventada por Dirac, nos ayudará a representar los estados de un qubit y será útil en cálculos avanzados de cómputo cuántico, ayuda a simplificar las operaciones matemáticas.\n",
    "\n",
    "\n",
    "Cuando vemos la notación de esta manera sabemos que es una operación.\n",
    "- BRA  ----   KET\n",
    "\n",
    "- $\\braket{A|E}$\n",
    "- $\\braket{A^{+}|*|E}$\n",
    "\n",
    "\n",
    "Cuando vemos los brakets solos, estamos hablando de nuestra columna matricial.\n",
    "\n",
    "- $|1>$ $\\Large \\begin{bmatrix}0\\\\1\\end{bmatrix}$\n",
    "- $|0>$ $\\Large \\begin{bmatrix}1\\\\0\\end{bmatrix}$\n",
    "\n",
    "\n",
    "Es decir, la notación braket me permitirá disminuir la complejidad de las operaciones visualmente, por ejemplo las siguientes dos expresiones son iguales, y representan la misma operación, es esta matriz de superposición:\n",
    "\n",
    "\n",
    "- $$\\begin{bmatrix}\\frac{1}{\\sqrt{2}}\\\\\\frac{1}{\\sqrt{2}}\\end{bmatrix}=\\frac{1}{\\sqrt{2}}*\\begin{bmatrix}1\\\\0\\end{bmatrix}+\\frac{1}{\\sqrt{2}}*\\begin{bmatrix}0\\\\1\\end{bmatrix}$$\n",
    "\n",
    "- $$=\\frac{1}{\\sqrt{2}}*(\\ket{0} + \\ket{1})$$"
   ]
  },
  {
   "cell_type": "markdown",
   "metadata": {},
   "source": [
    "# Multiqubits\n",
    "\n",
    "En cómputo cuántico trabajaremos también con multiples qubits, para este ejemplo operaremos con dos qubits.\n",
    "\n",
    "- $\\ket{00}$ : $\\begin{bmatrix}1\\\\0\\\\0\\\\0\\end{bmatrix}$\n",
    "- $\\ket{01}$ : $\\begin{bmatrix}0\\\\1\\\\0\\\\0\\end{bmatrix}$\n",
    "- $\\ket{10}$ : $\\begin{bmatrix}0\\\\0\\\\1\\\\0\\end{bmatrix}$\n",
    "- $\\ket{11}$ : $\\begin{bmatrix}0\\\\0\\\\0\\\\1\\end{bmatrix}$\n",
    "\n",
    "Las matrices anteriores, resultan de realizar el producto tensorial, por ejemplo, para $\\ket{00}$ se tiene que $\\ket{0}\\otimes\\ket{0}$, y así sucesivamente para los demás valores $\\ket{01}$ = $\\ket{0}\\otimes\\ket{1}$...\n",
    "\n",
    "$$\\begin{bmatrix}x\\\\y&\\end{bmatrix} \\otimes \\begin{bmatrix}z\\\\q\\end{bmatrix}=\\begin{bmatrix}xz\\\\xq\\\\yz\\\\yq\\end{bmatrix}$$\n",
    "\n",
    "Producto tensorail para: $\\ket{00}$:\n",
    "\n",
    "- $$\\begin{bmatrix}1\\\\0&\\end{bmatrix} \\otimes \\begin{bmatrix}1\\\\0\\end{bmatrix}=\\begin{bmatrix}1\\\\0\\\\0\\\\0\\end{bmatrix}$$\n",
    "\n",
    "\n",
    "Cada xz, xq... corresponde a la proabilidad $p$ mencionada antes. Idenpendiente de la cantidad de quibits, la lógica es la misma, los productos tensoriales serán representados en notación Ket para las mismas operaciones.\n",
    "\n",
    "Por ejemplo si quiere representar un estado de sueperposición + entaglement puedo expresarlo así:\n",
    "\n",
    "$$\\begin{bmatrix}\\frac{1}{\\sqrt{2}}\\\\0\\\\0\\\\\\frac{1}{\\sqrt{2}}\\end{bmatrix}$$\n",
    "$$\\frac{1}{\\sqrt{2}}(\\ket{00}+\\ket{11})"
   ]
  },
  {
   "cell_type": "code",
   "execution_count": null,
   "metadata": {},
   "outputs": [],
   "source": []
  }
 ],
 "metadata": {
  "kernelspec": {
   "display_name": "Python 3.9.7 64-bit",
   "language": "python",
   "name": "python3"
  },
  "language_info": {
   "name": "python",
   "version": "3.9.7"
  },
  "orig_nbformat": 4,
  "vscode": {
   "interpreter": {
    "hash": "e77e006993cb8c9481f38dab40173dbb20aa4ee39595ff295e348d62b4e4f2a9"
   }
  }
 },
 "nbformat": 4,
 "nbformat_minor": 2
}
