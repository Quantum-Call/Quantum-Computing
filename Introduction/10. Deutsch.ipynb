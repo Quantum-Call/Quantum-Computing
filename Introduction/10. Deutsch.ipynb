{
 "cells": [
  {
   "cell_type": "markdown",
   "metadata": {},
   "source": [
    "# Deutsch Algorithm\n",
    "\n",
    "Es un algoritmo que nos permitirá entender las ventajas del cómputo cuántico, sobre computadores clásicos. Trabajamos con dos funciones que reciben valores de 0 o 1, y tienen 4 posibles estados, [`0,0`],[`0,1`],[`1,0`], [`1,1`], a aquellos valores que no dependen de las entradas y resultan en ambos valores iguales se les dice constantes, a a quellos que el input si afecta, se les llama balanceados.\n",
    "\n",
    "Digamos que tenemos dos qubits, **input register**, **output register**, $\\ket{x}$ y $\\ket{y}$ los cuales inteactúan con una función $U_f$, o una caja negra. El simbolo $\\oplus$ significa que está sucediendo una suma, o el operador XOR\n",
    "\n",
    "\n",
    "$$\\ket{x} \\ket{y}  \\xrightarrow{\\text{U}}\\ket{x} \\ket{y \\oplus  f(x)}$$\n",
    "$$  \\xrightarrow{\\text{U}}\\ket{x} \\ket{y \\oplus f(x)}\\oplus f(x)$$\n",
    "$$\\ket{x} \\ket{y \\oplus 0}$$\n",
    "$$\\ket{x} \\ket{y}$$\n",
    "\n",
    "\n",
    "\n"
   ]
  },
  {
   "cell_type": "markdown",
   "metadata": {},
   "source": [
    "Vamos a realizar una arpoximación incorrecta para llegar a una respuesta correcta, como podemos ver en el diagrama, U corresponde a una caja negra."
   ]
  },
  {
   "cell_type": "code",
   "execution_count": 1,
   "metadata": {},
   "outputs": [],
   "source": [
    "from qiskit import QuantumRegister, ClassicalRegister, QuantumCircuit\n",
    "from qiskit.tools.visualization import circuit_drawer"
   ]
  },
  {
   "cell_type": "code",
   "execution_count": 2,
   "metadata": {},
   "outputs": [
    {
     "data": {
      "image/png": "[encoded data removed]",
      "text/plain": [
       "<Figure size 206.852x144.48 with 1 Axes>"
      ]
     },
     "execution_count": 2,
     "metadata": {},
     "output_type": "execute_result"
    }
   ],
   "source": [
    "# Customize function X for U\n",
    "qc = QuantumCircuit(1, name='U')\n",
    "qc.x(0)\n",
    "custom_gate = qc.to_instruction()\n",
    "\n",
    "new_circ = QuantumCircuit(2)\n",
    "new_circ.h(0)\n",
    "\n",
    "new_circ.append(custom_gate, [0])\n",
    "new_circ.draw(output='mpl', style={'backgroundcolor': '#EEEEEE'})"
   ]
  },
  {
   "cell_type": "markdown",
   "metadata": {},
   "source": [
    "Supongamos que partimos de dos qubits con estados $\\ket{+}$  $\\ket{0}$. De operar de esta manera tenemos que si aplicamos la función U a los estados sucede:\n",
    "\n",
    "$$U_f (\\ket{+}\\otimes\\ket{0})  \\xrightarrow U_f \\left(\\frac{1}{\\sqrt{2}}\\ket{0} + \\ket{1}\\right) \\otimes\\ket{0}$$\n",
    "\n",
    "$$\\frac{1}{\\sqrt{2}} U_f \\ket{0} \\otimes \\ket{0} + \\frac{1}{\\sqrt{2}} U_f \\ket{1} \\otimes \\ket{0}$$\n",
    "\n",
    "$$\\frac{1}{\\sqrt{2}} \\ket{0} f(0) \\oplus \\ket{0} + \\frac{1}{\\sqrt{2}} \\ket{1}f(1)  \\oplus \\ket{0}$$\n"
   ]
  },
  {
   "cell_type": "markdown",
   "metadata": {},
   "source": [
    "- Cuando la compeurta XOR se aplica a 0, devuelve 0. La expresión final tiene f(0) y f(1), no nos sirve porque solo tiene una probabilidad de 50%. Debemos de aplicar la compuerta de Hadamard al segundo qubit."
   ]
  },
  {
   "cell_type": "markdown",
   "metadata": {},
   "source": [
    "## Algoritmo Deutsch\n",
    "\n"
   ]
  },
  {
   "cell_type": "markdown",
   "metadata": {},
   "source": [
    "Supongamos que tenemos dos qubits en los estados superpuestos de $\\ket{+}$ $\\ket{-}$. A ambos se le aplica una compuerta Hadamard y X, junto la función U."
   ]
  },
  {
   "cell_type": "code",
   "execution_count": 3,
   "metadata": {},
   "outputs": [],
   "source": [
    "n = 2\n",
    "q = QuantumRegister(n)\n",
    "c = ClassicalRegister(n)\n",
    "qc = QuantumCircuit(q,c)"
   ]
  },
  {
   "cell_type": "code",
   "execution_count": 4,
   "metadata": {},
   "outputs": [
    {
     "data": {
      "image/png": "[encoded data removed]",
      "text/plain": [
       "<Figure size 520.833x204.68 with 1 Axes>"
      ]
     },
     "execution_count": 4,
     "metadata": {},
     "output_type": "execute_result"
    }
   ],
   "source": [
    "qc.h(q)\n",
    "qc.x(q[1])\n",
    "qc.barrier()\n",
    "\n",
    "# U function\n",
    "custom_circ = QuantumCircuit(1, name='U')\n",
    "custom_gate = custom_circ.to_instruction()\n",
    "qc.append(custom_gate,[0])\n",
    "\n",
    "qc.barrier()\n",
    "qc.measure(q,c)\n",
    "qc.draw(output='mpl', style={'backgroundcolor': '#EEEEEE'})"
   ]
  },
  {
   "cell_type": "markdown",
   "metadata": {},
   "source": [
    "Los qubits en su estado inicial.\n",
    "$$\\ket{+} \\ket{-}$$\n",
    "\n",
    "Los qubits con ambas compuertas operando.\n",
    "$$ \\ket{\\psi_1}= \\frac{1}{2} \\left(\\ket{0}+\\ket{1}\\right)\\otimes\\left(\\ket{0}-\\ket{1}\\right)$$\n",
    "\n",
    "$$ \\ket{\\psi_1}= \\frac{1}{2} \\left(\\ket{0}\\ket{0}-\\ket{0}\\ket{1}+\\ket{1}\\ket{0}-\\ket{1}\\ket{1}\\right)$$\n",
    "\n",
    "\n",
    "$$ \\ket{\\psi_1}= \\frac{1}{2} \\left(\\ket{0}\\ket{0}-\\ket{0}\\ket{1}+\\ket{1}\\ket{0}-\\ket{1}\\ket{1}\\right)$$\n"
   ]
  },
  {
   "cell_type": "markdown",
   "metadata": {},
   "source": []
  },
  {
   "cell_type": "code",
   "execution_count": null,
   "metadata": {},
   "outputs": [],
   "source": []
  }
 ],
 "metadata": {
  "kernelspec": {
   "display_name": "Python 3.9.7 ('env_q': venv)",
   "language": "python",
   "name": "python3"
  },
  "language_info": {
   "codemirror_mode": {
    "name": "ipython",
    "version": 3
   },
   "file_extension": ".py",
   "mimetype": "text/x-python",
   "name": "python",
   "nbconvert_exporter": "python",
   "pygments_lexer": "ipython3",
   "version": "3.9.7"
  },
  "orig_nbformat": 4,
  "vscode": {
   "interpreter": {
    "hash": "8485e2651055ff4e40199eea64963ccbc7bc219026a1bdf049c0827f72d6c977"
   }
  }
 },
 "nbformat": 4,
 "nbformat_minor": 2
}
