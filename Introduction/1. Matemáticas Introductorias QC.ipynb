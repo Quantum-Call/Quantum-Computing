{
 "cells": [
  {
   "cell_type": "markdown",
   "metadata": {},
   "source": [
    "# Matemáticas para Cómputo Cuántico.\n",
    "\n"
   ]
  },
  {
   "cell_type": "markdown",
   "metadata": {},
   "source": [
    "## Probabilidad\n",
    "\n",
    "- Eventos excluyentes.\n",
    "- Eventos independients.\n",
    "\n"
   ]
  },
  {
   "cell_type": "markdown",
   "metadata": {},
   "source": [
    "## Números imaginarios y Complejos.\n",
    "\n",
    "En el contexto de cómputo cuántico usaremos los números complejos para realziar cálculos, así como matrices y transforamcioens geométricas lienales.\n",
    "\n",
    "- El número imaginario $i$ proviene de expresiones como la $\\sqrt-1$.\n",
    "- Los números complejos son la mezcla de un valor numérico y un número imaginario. \n",
    "  - $a+bi$\n",
    "  - $\\sqrt-9 = \\sqrt9*\\sqrt-1$  = $3i$ -> Se descompuso en una parte real y otra imagnaria.\n",
    "\n",
    "\n",
    "En cálculos de cómptuo cuántico usaremos mucho los el concepto de \"conjugado complejo\"\n",
    "- $3 + 3i$  ---> $3  - 3i$ : Es simplemente cambiar de signo la parte imaginaria del número complejo.\n",
    "\n",
    "También usaremos \"Magnitud cuadrada\"\n",
    "- $|1 + 3i|^2$ ---> $1^2 + 3^2$: Solo lidiaremos con la parte real del número complejo, no el término $i$\n",
    "- La magnitud cuadrada también puede definirse como, el producto entre un número complejo y su conjugado.\n",
    "  $$(2 + 3i) * (2 - 3i) = 2^2 - 3^2$$\n",
    "  $$-5$$\n"
   ]
  },
  {
   "cell_type": "code",
   "execution_count": null,
   "metadata": {},
   "outputs": [],
   "source": []
  }
 ],
 "metadata": {
  "kernelspec": {
   "display_name": "Python 3.9.7 ('env_q': venv)",
   "language": "python",
   "name": "python3"
  },
  "language_info": {
   "codemirror_mode": {
    "name": "ipython",
    "version": 3
   },
   "file_extension": ".py",
   "mimetype": "text/x-python",
   "name": "python",
   "nbconvert_exporter": "python",
   "pygments_lexer": "ipython3",
   "version": "3.9.7"
  },
  "orig_nbformat": 4,
  "vscode": {
   "interpreter": {
    "hash": "8485e2651055ff4e40199eea64963ccbc7bc219026a1bdf049c0827f72d6c977"
   }
  }
 },
 "nbformat": 4,
 "nbformat_minor": 2
}
