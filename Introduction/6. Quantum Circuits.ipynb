{
 "cells": [
  {
   "cell_type": "markdown",
   "metadata": {},
   "source": [
    "# Quantum Circuits\n",
    "\n",
    "Puedo realizar circuitos cuánticos con pyhton, para fines prácticos importaremso todo de la librería, pero no hará falta a media que conozcamos las funciones y módulos.\n",
    "\n"
   ]
  },
  {
   "cell_type": "code",
   "execution_count": 1,
   "metadata": {},
   "outputs": [],
   "source": [
    "from qiskit import *\n",
    "from qiskit.visualization import plot_histogram\n",
    "import seaborn as sns"
   ]
  },
  {
   "cell_type": "code",
   "execution_count": 2,
   "metadata": {},
   "outputs": [],
   "source": [
    "sns.set_theme()"
   ]
  },
  {
   "cell_type": "markdown",
   "metadata": {},
   "source": [
    "##  Funciones\n",
    "\n",
    "QuantumCirctuit(a,b):\n",
    "    - Me permite crear un circuito\n",
    "    - a: Registra qbits\n",
    "    - b: Registra bits clásicos.\n",
    "   "
   ]
  },
  {
   "cell_type": "code",
   "execution_count": 3,
   "metadata": {},
   "outputs": [],
   "source": [
    "circuit = QuantumCircuit(2,2)"
   ]
  },
  {
   "cell_type": "markdown",
   "metadata": {},
   "source": [
    "Podemos registrar qbits y bits clásicos por separado:"
   ]
  },
  {
   "cell_type": "code",
   "execution_count": 4,
   "metadata": {},
   "outputs": [],
   "source": [
    "#quantum_register = QuantumRegister(2) # Registramos dos qbits\n",
    "#clasical_register = ClassicalRegister(2) # Registramos dos bits clásicos"
   ]
  },
  {
   "cell_type": "code",
   "execution_count": 5,
   "metadata": {},
   "outputs": [],
   "source": [
    "# Function for superposition and entaglement base:\n",
    "def simple_circuit_creator():\n",
    "    circuit =QuantumCircuit(2,2)\n",
    "    circuit.h(0)# add Hadamard to q0\n",
    "    circuit.cx(0,1)# add CNOT, control qubit 0 y target 1, verifica que si el qbit de control está en estado 1, de ser así aplica el NOT gat sobre el 1\n",
    "    return circuit.draw(output='mpl')\n",
    "    "
   ]
  },
  {
   "cell_type": "code",
   "execution_count": 6,
   "metadata": {},
   "outputs": [
    {
     "data": {
      "image/png": "[encoded data removed]",
      "text/plain": [
       "<Figure size 206.852x204.68 with 1 Axes>"
      ]
     },
     "execution_count": 6,
     "metadata": {},
     "output_type": "execute_result"
    }
   ],
   "source": [
    "simple_circuit_creator() # Superposition-Entaglement"
   ]
  },
  {
   "cell_type": "code",
   "execution_count": 7,
   "metadata": {},
   "outputs": [
    {
     "data": {
      "image/png": "[encoded data removed]",
      "text/plain": [
       "<Figure size 327.252x204.68 with 1 Axes>"
      ]
     },
     "execution_count": 7,
     "metadata": {},
     "output_type": "execute_result"
    }
   ],
   "source": [
    "# El objeto se almacena\n",
    "circuit =QuantumCircuit(2,2)\n",
    "circuit.h(0)# add Hadamard to q0\n",
    "circuit.cx(0,1)\n",
    "circuit.measure([0,1],[0,1])\n",
    "circuit.draw(output='mpl')"
   ]
  },
  {
   "cell_type": "code",
   "execution_count": 8,
   "metadata": {},
   "outputs": [],
   "source": [
    "# Para ejecutarlo y simularlo en un computador real:\n",
    "simulator = Aer.get_backend('qasm_simulator')\n"
   ]
  },
  {
   "cell_type": "code",
   "execution_count": 9,
   "metadata": {},
   "outputs": [
    {
     "data": {
      "text/plain": [
       "Result(backend_name='qasm_simulator', backend_version='0.10.2', qobj_id='46ed4d65-2b0f-449b-a807-9ecfa5542ab0', job_id='f0ed9273-8c41-4577-af67-0882787855f3', success=True, results=[ExperimentResult(shots=1024, success=True, meas_level=2, data=ExperimentResultData(counts={'0x3': 530, '0x0': 494}), header=QobjExperimentHeader(clbit_labels=[['c', 0], ['c', 1]], creg_sizes=[['c', 2]], global_phase=0.0, memory_slots=2, metadata=None, n_qubits=2, name='circuit-2', qreg_sizes=[['q', 2]], qubit_labels=[['q', 0], ['q', 1]]), status=DONE, seed_simulator=930212994, metadata={'batched_shots_optimization': False, 'method': 'stabilizer', 'active_input_qubits': [0, 1], 'device': 'CPU', 'remapped_qubits': False, 'num_qubits': 2, 'num_clbits': 2, 'input_qubit_map': [[0, 0], [1, 1]], 'measure_sampling': True, 'noise': 'ideal', 'parallel_shots': 1, 'parallel_state_update': 4, 'fusion': {'enabled': False}}, time_taken=0.0055446)], date=2022-04-15T06:11:50.822010, status=COMPLETED, status=QobjHeader(backend_name='qasm_simulator', backend_version='0.10.2'), metadata={'parallel_experiments': 1, 'omp_enabled': True, 'max_memory_mb': 8091, 'max_gpu_memory_mb': 0, 'mpi_rank': 0, 'time_taken_load_qobj': 0.0002309, 'num_mpi_processes': 1, 'time_taken_execute': 0.0056096, 'time_taken': 0.0058503}, time_taken=0.0060002803802490234)"
      ]
     },
     "execution_count": 9,
     "metadata": {},
     "output_type": "execute_result"
    }
   ],
   "source": [
    "result = execute(circuit,backend=simulator).result()\n",
    "result"
   ]
  },
  {
   "cell_type": "code",
   "execution_count": 10,
   "metadata": {},
   "outputs": [
    {
     "data": {
      "image/png": "[encoded data removed]",
      "text/plain": [
       "<Figure size 504x360 with 1 Axes>"
      ]
     },
     "execution_count": 10,
     "metadata": {},
     "output_type": "execute_result"
    }
   ],
   "source": [
    "plot_histogram(result.get_counts(circuit))"
   ]
  },
  {
   "cell_type": "code",
   "execution_count": 12,
   "metadata": {},
   "outputs": [
    {
     "data": {
      "text/plain": [
       "<AccountProvider for IBMQ(hub='ibm-q', group='open', project='main')>"
      ]
     },
     "execution_count": 12,
     "metadata": {},
     "output_type": "execute_result"
    }
   ],
   "source": [
    "IBMQ.load_account()"
   ]
  },
  {
   "cell_type": "markdown",
   "metadata": {},
   "source": [
    "## Executing on Porviders\n",
    "\n",
    "Puedo ejecu"
   ]
  },
  {
   "cell_type": "code",
   "execution_count": 15,
   "metadata": {},
   "outputs": [],
   "source": [
    "provider = IBMQ.get_provider(\"ibm-q\")\n",
    "quatum_backend = provider.get_backend('ibmq_lima')"
   ]
  },
  {
   "cell_type": "code",
   "execution_count": 16,
   "metadata": {},
   "outputs": [
    {
     "data": {
      "application/vnd.jupyter.widget-view+json": {
       "model_id": "3fc236fb9db94c499ae9b3e0501000e5",
       "version_major": 2,
       "version_minor": 0
      },
      "text/plain": [
       "Accordion(children=(VBox(layout=Layout(max_width='710px', min_width='710px')),), layout=Layout(max_height='500…"
      ]
     },
     "metadata": {},
     "output_type": "display_data"
    },
    {
     "data": {
      "application/javascript": "\n        const isLab = window['Jupyter'] === undefined;\n        const notebook = document.querySelector( isLab ? 'div.jp-Notebook' : '#site');\n        const jobWidget = document.querySelector('div.job_widget');\n        notebook.prepend(jobWidget);\n        jobWidget.style.zIndex = '999';\n        jobWidget.style.position = isLab ? 'sticky' : 'fixed';\n        jobWidget.style.boxShadow = '5px 5px 5px -3px black';\n        jobWidget.style.opacity = '0.95';\n        if (isLab) {\n            jobWidget.style.top = '0';\n            jobWidget.style.left = '0';\n        }\n        ",
      "text/plain": [
       "<IPython.core.display.Javascript object>"
      ]
     },
     "metadata": {},
     "output_type": "display_data"
    }
   ],
   "source": [
    "import qiskit.tools.jupyter#monitor of jobs pendings\n",
    "%qiskit_job_watcher\n",
    "\n",
    "job = execute(circuit,backend = quatum_backend)\n"
   ]
  },
  {
   "cell_type": "code",
   "execution_count": 17,
   "metadata": {},
   "outputs": [
    {
     "name": "stdout",
     "output_type": "stream",
     "text": [
      "Job Status: job has successfully run\n"
     ]
    }
   ],
   "source": [
    "from qiskit.tools.monitor import job_monitor\n",
    "job_monitor(job)"
   ]
  },
  {
   "cell_type": "code",
   "execution_count": 18,
   "metadata": {},
   "outputs": [
    {
     "data": {
      "image/png": "[encoded data removed]",
      "text/plain": [
       "<Figure size 504x360 with 1 Axes>"
      ]
     },
     "execution_count": 18,
     "metadata": {},
     "output_type": "execute_result"
    }
   ],
   "source": [
    "quantum_result= job.result()\n",
    "plot_histogram(quantum_result.get_counts(circuit))"
   ]
  },
  {
   "cell_type": "markdown",
   "metadata": {},
   "source": [
    "Podemos ignorar los valores con menor probabilidad, muchas veces es ruido.\n",
    "\n",
    "NOTA:\n",
    "\n",
    "¿Ruido?, No pareciese ruido, cuando las fracciones que derivan de 01 y 10 son tan parecidas. Pareciera que una fracción más grande, me da mejores probabilidades de que 0 o 1 aparezca, en este caso"
   ]
  },
  {
   "cell_type": "code",
   "execution_count": 20,
   "metadata": {},
   "outputs": [],
   "source": [
    "%qiskit_disable_job_watcher # Detener el job watcher para disminuir en memoria"
   ]
  },
  {
   "cell_type": "code",
   "execution_count": null,
   "metadata": {},
   "outputs": [],
   "source": []
  }
 ],
 "metadata": {
  "interpreter": {
   "hash": "55bc9e5a392c2357f849ff288e212ba747eda1aec022ca6baca35c9172a9052e"
  },
  "kernelspec": {
   "display_name": "Python 3.8.8 ('env_q': venv)",
   "language": "python",
   "name": "python3"
  },
  "language_info": {
   "codemirror_mode": {
    "name": "ipython",
    "version": 3
   },
   "file_extension": ".py",
   "mimetype": "text/x-python",
   "name": "python",
   "nbconvert_exporter": "python",
   "pygments_lexer": "ipython3",
   "version": "3.8.8"
  },
  "orig_nbformat": 4
 },
 "nbformat": 4,
 "nbformat_minor": 2
}
