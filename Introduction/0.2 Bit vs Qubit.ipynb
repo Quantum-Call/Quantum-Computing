{
 "cells": [
  {
   "cell_type": "markdown",
   "metadata": {},
   "source": [
    "# Bit vs Qubit.\n",
    "\n",
    "\n",
    "En orden de entender el cómputo cuántico es ideal revisar el cómputo clásico y su funcionamiento. La idea principal para entender el cómputo clásico es que todas las unidades son binarias, 0 y 1, que representan si por un transistor está pasando electricidad o no.\n",
    "\n",
    "Los sistemas numéricos, o bases numéricas con las que definimos nuestros números nos permiten expresar diferentes cantidades.\n"
   ]
  },
  {
   "cell_type": "code",
   "execution_count": 11,
   "metadata": {},
   "outputs": [
    {
     "data": {
      "text/plain": [
       "119"
      ]
     },
     "execution_count": 11,
     "metadata": {},
     "output_type": "execute_result"
    }
   ],
   "source": [
    "# Números decimales están en base 10.\n",
    "decimal = 119\n",
    "base  = (9*(10**0))+(1*(10**1))+(1*(10**2))\n",
    "base\n"
   ]
  },
  {
   "cell_type": "code",
   "execution_count": 15,
   "metadata": {},
   "outputs": [
    {
     "name": "stdout",
     "output_type": "stream",
     "text": [
      "11 11\n"
     ]
    }
   ],
   "source": [
    "# Binarios están en base dos.\n",
    "binarios = 1011 # Es el once binario\n",
    "base = (1*(2**3))+ (0*(2**2))+ (1*(2**1))+ (1*(2**0))\n",
    "test= 0b1011\n",
    "assert base == test  #11== 11\n",
    "print(base,test)"
   ]
  },
  {
   "cell_type": "code",
   "execution_count": 20,
   "metadata": {},
   "outputs": [
    {
     "name": "stdout",
     "output_type": "stream",
     "text": [
      "42230\n"
     ]
    }
   ],
   "source": [
    "# El sistema hexadecimal, cuenta hasta 16, a partir de 10 = A, 11=B... F=15\n",
    "hexadecimal = 0xA4F6\n",
    "base  = (10*(16**3))+(4*(16**2))+(15*(16**1))+ (6*(16**0))\n",
    "base # 42230\n",
    "print(hexadecimal) #  42230"
   ]
  },
  {
   "cell_type": "markdown",
   "metadata": {},
   "source": [
    "Sabemos que la representación en un computador clásico de los valores que podemos representar en un paquete de 8 números, o byte es $2^8$ lo que nos da 256 bits. Pero cada representación en binario habla de un solo número o caracter. En cómputadores cuánticos debido al entrelazamiento y la superposición, podemos representar de 0 a 256 de manera simultánea."
   ]
  },
  {
   "cell_type": "markdown",
   "metadata": {},
   "source": []
  },
  {
   "cell_type": "code",
   "execution_count": null,
   "metadata": {},
   "outputs": [],
   "source": []
  }
 ],
 "metadata": {
  "kernelspec": {
   "display_name": "Python 3.9.7 ('env_q': venv)",
   "language": "python",
   "name": "python3"
  },
  "language_info": {
   "codemirror_mode": {
    "name": "ipython",
    "version": 3
   },
   "file_extension": ".py",
   "mimetype": "text/x-python",
   "name": "python",
   "nbconvert_exporter": "python",
   "pygments_lexer": "ipython3",
   "version": "3.9.7"
  },
  "orig_nbformat": 4,
  "vscode": {
   "interpreter": {
    "hash": "8485e2651055ff4e40199eea64963ccbc7bc219026a1bdf049c0827f72d6c977"
   }
  }
 },
 "nbformat": 4,
 "nbformat_minor": 2
}
