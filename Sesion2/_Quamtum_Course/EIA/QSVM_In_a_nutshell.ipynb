{
 "cells": [
  {
   "cell_type": "markdown",
   "metadata": {},
   "source": [
    "# **Quantum Support Vector Machine**\n",
    "###### ***Máquinas de Soporte Vectorial Cuántico***\n",
    "\n",
    "\n"
   ]
  },
  {
   "cell_type": "markdown",
   "metadata": {},
   "source": [
    "## Introducción Machine Learning.\n",
    "\n",
    "- Aprendizaje basados en una muestra de datos con el fin de tomar desciciones sin explícitamente programarlas.\n"
   ]
  },
  {
   "cell_type": "markdown",
   "metadata": {},
   "source": [
    "##  \n",
    "\n"
   ]
  },
  {
   "cell_type": "markdown",
   "metadata": {},
   "source": [
    "![](https://media.springernature.com/lw685/springer-static/image/art%3A10.1007%2Fs42484-021-00056-8/MediaObjects/42484_2021_56_Fig2_HTML.png)"
   ]
  },
  {
   "cell_type": "markdown",
   "metadata": {},
   "source": [
    "## Support Vector Machine\n",
    "\n",
    "- Algoritmo clasificación binario.\n",
    "- Dado un conjunto de características clasificar a que clase pertenece la observación.\n",
    "- Los **Vectores Soporte** son clases representativas de nuestro conjunto de datos.\n",
    "- SVM aprende sobre la **similitud de nuestros datos** para poder hacer la clasificación.\n",
    "- El aprendizaje se resume en buscar el mejor hiperplano con el mejor margen."
   ]
  },
  {
   "cell_type": "markdown",
   "metadata": {},
   "source": [
    "![](Cats.png)"
   ]
  },
  {
   "cell_type": "markdown",
   "metadata": {},
   "source": [
    "### Puntos de datos y la Naturaleza de su distribución\n",
    "\n",
    "- Linealmente separables:\n",
    "  - Es posible trazar una línea tal que me divida el conjutno de datos en dos categorías\n",
    "  - SVM busca optimizar cual es la mejor línea de separación, maximizando separación de conjuntos.\n",
    "\n",
    "\n",
    "![Linealmente](https://jeremykun.com/wp-content/uploads/2017/06/svm_solve_by_hand-e1496076457793.gif)\n"
   ]
  },
  {
   "cell_type": "markdown",
   "metadata": {},
   "source": [
    "\n",
    "En la realidad con frecuencia es fácil encontrar la data como un problema **linealmente no-separable**, para manejar esto usaremos Kernels."
   ]
  },
  {
   "cell_type": "markdown",
   "metadata": {},
   "source": [
    "### Funciones Kernel\n",
    "\n",
    "- Linealmente no-separables\n",
    "  - Izquierda: No es posible trazar una líea que separe la data y conserve distribución\n",
    "  - Derecha: 3D mayor grados de libertad.\n",
    "\n",
    "- Kernels:\n",
    "  - Funciones que nos facilitarán mapear la data a otra dimensión.\n",
    "\n",
    "![Linealmente no-separables](https://miro.medium.com/max/838/1*gXvhD4IomaC9Jb37tzDUVg.png)\n",
    "\n",
    "\n",
    "- Tipos de Kernel:\n",
    "\n",
    "  - **Lineal**\n",
    "  - **Gaussiano**\n",
    "  - **Radial Basis Function**\n",
    "\n",
    "\n"
   ]
  },
  {
   "cell_type": "markdown",
   "metadata": {},
   "source": [
    "- [Interactive SVM](https://greitemann.dev/svm-demo)\n"
   ]
  },
  {
   "cell_type": "markdown",
   "metadata": {},
   "source": [
    "### Quantum Feature Map\n",
    "\n",
    "\n",
    "\n",
    "- La idea es valerse del **computador cuántico a modo de función Kernel** para las máquinas de vector soporte.\n",
    "\n",
    "- Dado un conjunto de datos $X$ que será el input. Un **feature map** $\\phi$ es una función que $\\phi : X \\rightarrow F$ este es el espacio de características.\n",
    "\n",
    "- El output del mapeo anterior toma los datapoints individuales $\\phi(x)$ para $x \\epsilon X$\n",
    "\n",
    "- Espacio inicial es de **n-features**, la idea es codificar cada atributo en un qubit distinto. Sin embargo **n-qubits** se puede representar en un espacio de $2^n$\n",
    "\n",
    "$$ n \\rightarrow 2^n$$"
   ]
  },
  {
   "cell_type": "markdown",
   "metadata": {},
   "source": [
    "# Implementación QSVM\n",
    "\n",
    "###### ***QML con PennyLane***\n",
    "###### ***PennyLane Version 0.19.0***\n",
    "\n"
   ]
  },
  {
   "cell_type": "code",
   "execution_count": 105,
   "metadata": {},
   "outputs": [],
   "source": [
    "#Quantum dependencies\n",
    "import pennylane as qml\n",
    "from pennylane import numpy as np\n"
   ]
  },
  {
   "cell_type": "code",
   "execution_count": 106,
   "metadata": {},
   "outputs": [],
   "source": [
    "# Clasical Dependencies\n",
    "import matplotlib.pyplot as plt\n",
    "import seaborn as sns\n",
    "import pandas as pd\n",
    "from time import time\n",
    "from sklearn.metrics import accuracy_score\n",
    "from sklearn import svm "
   ]
  },
  {
   "cell_type": "code",
   "execution_count": 107,
   "metadata": {},
   "outputs": [],
   "source": [
    "sns.set_theme()"
   ]
  },
  {
   "cell_type": "markdown",
   "metadata": {},
   "source": [
    "### Ad-hoc data\n",
    "\n",
    "- Debido a que nuestros modelos de Machine learnign suelen recibir data preprocesada en arreglos de numpy que representarán nuestros tensores como inputs, la data **ad-hoc** tiene el propósito de tener una distribución aleatoria.\n",
    "\n",
    "- Teniendo en cuenta que es una data Ad-Hoc, no precisamos usar el conjunto de datos de validación, con el que verdaderamente probaríamos la efectividad de nuestro modelo."
   ]
  },
  {
   "cell_type": "code",
   "execution_count": 108,
   "metadata": {},
   "outputs": [],
   "source": [
    "n_samples = 30 * 4\n",
    "A = np.array([[np.random.normal(loc=0), np.random.normal(loc=2)] for i in range(n_samples//4)]) \n",
    "B = np.array([[np.random.normal(loc=2), np.random.normal(loc=-2)] for i in range(n_samples//4)]) \n",
    "C = np.array([[np.random.normal(loc=2), np.random.normal(loc=2)] for i in range(n_samples//4)]) \n",
    "D = np.array([[np.random.normal(loc=-2), np.random.normal(loc=-2)] for i in range(n_samples//4)])\n"
   ]
  },
  {
   "cell_type": "code",
   "execution_count": 109,
   "metadata": {},
   "outputs": [
    {
     "data": {
      "text/plain": [
       "tensor([[ 2.88009666e-03,  1.91853264e+00],\n",
       "        [ 6.83633830e-02,  2.71078769e+00],\n",
       "        [ 4.87444024e-01,  3.22677588e+00],\n",
       "        [-4.18407732e-02,  2.22827036e+00],\n",
       "        [-5.14959223e-01,  1.57531895e+00]], requires_grad=True)"
      ]
     },
     "execution_count": 109,
     "metadata": {},
     "output_type": "execute_result"
    }
   ],
   "source": [
    "# Inside our array\n",
    "A[:5]"
   ]
  },
  {
   "cell_type": "code",
   "execution_count": 110,
   "metadata": {},
   "outputs": [
    {
     "data": {
      "text/plain": [
       "<seaborn.axisgrid.FacetGrid at 0x1574becf940>"
      ]
     },
     "execution_count": 110,
     "metadata": {},
     "output_type": "execute_result"
    },
    {
     "data": {
      "image/png": "[encoded data removed]",
      "text/plain": [
       "<Figure size 563.5x500 with 1 Axes>"
      ]
     },
     "metadata": {},
     "output_type": "display_data"
    }
   ],
   "source": [
    "sns.displot(A)"
   ]
  },
  {
   "cell_type": "code",
   "execution_count": 111,
   "metadata": {},
   "outputs": [
    {
     "data": {
      "text/plain": [
       "tensor([[ 7.20024166e-04,  4.79633161e-01],\n",
       "        [ 1.70908458e-02,  6.77696923e-01],\n",
       "        [ 1.21861006e-01,  8.06693970e-01],\n",
       "        [-1.04601933e-02,  5.57067591e-01],\n",
       "        [-1.28739806e-01,  3.93829736e-01]], requires_grad=True)"
      ]
     },
     "execution_count": 111,
     "metadata": {},
     "output_type": "execute_result"
    }
   ],
   "source": [
    "# Inside our Tensor of arrays A,B, C, D\n",
    "feature = np.concatenate([A, B,C,D], axis=0)/4\n",
    "feature[:5] "
   ]
  },
  {
   "cell_type": "markdown",
   "metadata": {},
   "source": [
    "En las máquinas de soporte vectorial necesitamos separar nuestras muestras con un plano, y los valores que le daremos a la nueva clasificación serán de $y=\\{-1,1\\}$ , donde es una u otra clase. Las etiquetas a continuación sirven para tal propósito."
   ]
  },
  {
   "cell_type": "code",
   "execution_count": 112,
   "metadata": {},
   "outputs": [
    {
     "data": {
      "text/plain": [
       "tensor([-1., -1., -1., -1., -1., -1., -1., -1., -1., -1., -1., -1., -1.,\n",
       "        -1., -1., -1., -1., -1., -1., -1.,  1.,  1.,  1.,  1.,  1.,  1.,\n",
       "         1.,  1.,  1.,  1.,  1.,  1.,  1.,  1.,  1.,  1.,  1.,  1.,  1.,\n",
       "         1.,  1.,  1.,  1.,  1.,  1.,  1.,  1.,  1.,  1.,  1.], requires_grad=True)"
      ]
     },
     "execution_count": 112,
     "metadata": {},
     "output_type": "execute_result"
    }
   ],
   "source": [
    "# Our label to work on\n",
    "label = np.concatenate([-np.ones(n_samples // 2), np.ones(n_samples//2)], axis=0)\n",
    "label[40:90]"
   ]
  },
  {
   "cell_type": "code",
   "execution_count": 113,
   "metadata": {},
   "outputs": [
    {
     "data": {
      "text/plain": [
       "[(tensor([0.00072002, 0.47963316], requires_grad=True),\n",
       "  tensor(-1., requires_grad=True)),\n",
       " (tensor([0.01709085, 0.67769692], requires_grad=True),\n",
       "  tensor(-1., requires_grad=True)),\n",
       " (tensor([0.12186101, 0.80669397], requires_grad=True),\n",
       "  tensor(-1., requires_grad=True)),\n",
       " (tensor([-0.01046019,  0.55706759], requires_grad=True),\n",
       "  tensor(-1., requires_grad=True)),\n",
       " (tensor([-0.12873981,  0.39382974], requires_grad=True),\n",
       "  tensor(-1., requires_grad=True))]"
      ]
     },
     "execution_count": 113,
     "metadata": {},
     "output_type": "execute_result"
    }
   ],
   "source": [
    "# Final AD Hoc Data\n",
    "data = list(zip(feature, label))\n",
    "data[:5]"
   ]
  },
  {
   "cell_type": "code",
   "execution_count": 114,
   "metadata": {},
   "outputs": [
    {
     "name": "stdout",
     "output_type": "stream",
     "text": [
      "120\n"
     ]
    },
    {
     "data": {
      "image/png": "[encoded data removed]",
      "text/plain": [
       "<Figure size 640x480 with 1 Axes>"
      ]
     },
     "metadata": {},
     "output_type": "display_data"
    }
   ],
   "source": [
    "np.random.shuffle(data) # Randomize data\n",
    "print(len(data))\n",
    "plt.scatter(A[:,0], A[:,1], color = \"orange\")\n",
    "plt.scatter(B[:,1], B[:,0], color = \"orange\")\n",
    "plt.scatter(C[:,0], C[:,1], color = \"blue\")\n",
    "plt.scatter(D[:,1], D[:,0], color = \"blue\")\n",
    "plt.show()"
   ]
  },
  {
   "cell_type": "markdown",
   "metadata": {},
   "source": [
    "### Spliting Data\n",
    "\n",
    "En esta sección realizaremos el tratamiento clásico para dividir la data que tenemos en entrenamiento y test, con el que le enseñaremos a nuestro algoritmo y con el que probaremos inicialmente su predicción."
   ]
  },
  {
   "cell_type": "code",
   "execution_count": 115,
   "metadata": {},
   "outputs": [],
   "source": [
    "porcentaje_train = 0.5\n",
    "m = int(porcentaje_train * n_samples) # Limit for samples\n",
    "\n",
    "\n",
    "# Training Data\n",
    "x_train = np.array([data[i][0] for i in range(m)])\n",
    "y_train = np.array([data[i][1] for i in range(m)])\n",
    "\n",
    "# Test Data\n",
    "x_test = np.array([data[i][0] for i in range(m,n_samples)])\n",
    "y_test = np.array([data[i][1] for i in range(m,n_samples)])\n",
    "\n"
   ]
  },
  {
   "cell_type": "code",
   "execution_count": 116,
   "metadata": {},
   "outputs": [
    {
     "data": {
      "text/plain": [
       "tensor([[ 0.76899793,  0.21871764],\n",
       "        [ 0.17590428,  0.68793284],\n",
       "        [ 0.17599928,  0.51265231],\n",
       "        [ 0.17562518,  0.6255918 ],\n",
       "        [-0.07046413,  0.6878692 ]], requires_grad=True)"
      ]
     },
     "execution_count": 116,
     "metadata": {},
     "output_type": "execute_result"
    }
   ],
   "source": [
    "x_train[:5]"
   ]
  },
  {
   "cell_type": "code",
   "execution_count": 117,
   "metadata": {},
   "outputs": [
    {
     "data": {
      "text/plain": [
       "2"
      ]
     },
     "execution_count": 117,
     "metadata": {},
     "output_type": "execute_result"
    }
   ],
   "source": [
    "# Length of the array\n",
    "n = len(x_train[0])\n",
    "n"
   ]
  },
  {
   "cell_type": "markdown",
   "metadata": {},
   "source": [
    "### Computando SVM y Quantum Kernel\n",
    "\n",
    "Parte del proceso matemático que sigue las máquinas de soporte vectorial involucra buscar los $\\vec{\\alpha}$ que minimicen la función de pérdida **L**:\n",
    "\n",
    "$$L = -\\sum_{i=0}^{m}\\alpha_{i} + \\frac{1}{2} \\sum_{i=0}^{m} \\sum_{j=0}^{m} \\alpha_{i} \\alpha_{j} f(\\vec{x_{i}}) f(\\vec{x_{j}}) \\vec{x_{i}} \\cdot \\vec{x_{j}}$$\n",
    "\n",
    "Donde:\n",
    "- $\\vec{x_i}$ hace referencia a las características del i-ésimo dato punto, un vector de características.\n",
    "- $f(\\vec{x_i})$ a su etiqueta correspondiente.\n",
    "\n",
    "Una vez minimizada la función $L$ a partir de $\\vec{\\alpha}$ se puede conseguir el hiperplano de clasificación, aquí se vuelve de interés, solo tenemos que cambiar un poco la función introduciendo $\\vec{\\phi}$ que será la función que mapeará de un plano a otro, así es que introduciremos el kernel."
   ]
  },
  {
   "cell_type": "markdown",
   "metadata": {},
   "source": [
    "![](https://cdn-images-1.medium.com/max/800/1*qYg3y4_Qaj00U7sMU_XlaQ.gif)"
   ]
  },
  {
   "cell_type": "markdown",
   "metadata": {},
   "source": [
    "\n",
    "Tan solo hay que cambiar la función de pérdida a minimizar donde el producto de los inputs $\\vec{x_{i}} \\cdot \\vec{x_{j}}$  es cobijado por nuestra nueva función $\\phi$ la cual mapeará cada input:\n",
    "\n",
    "$$L = -\\sum_{i=0}^{m}\\alpha_{i} + \\frac{1}{2} \\sum_{i=0}^{m} \\sum_{j=0}^{m} \\alpha_{i} \\alpha_{j} f(\\vec{x_{i}}) f(\\vec{x_{j}}) \\phi(\\vec{x_{i}}) \\cdot \\phi(\\vec{x_{j}})$$\n",
    "\n",
    "Por tanto, lo que haremos será calcular todos lo productos internos a traves del nuestra función de mapeo, es decir, la matriz de Gramm estará  esta compuesta de estos productos; calcularemos los productos internos $\\phi(\\vec{x_{i}}) \\cdot \\phi(\\vec{x_{j}})$\n",
    "\n",
    "\n",
    "De esto tenemos que ocurre lo siguiente, conocido que $U$ es una operación unitaria:\n"
   ]
  },
  {
   "cell_type": "markdown",
   "metadata": {},
   "source": [
    "\n",
    "$$\\phi(\\vec{x_{i}}) = U(\\vec{x_{i}})\\ket{00}$$\n",
    "\n",
    "La expresión anterior puede ser contener un número imaginario y podríamos calcular el modulo al cuadrado de la expresión quedarnos con la parte real:\n",
    "\n",
    "$$|\\phi(\\vec{x_{i}})|^2 = \\bra{00}U(\\vec{x_{i}})^tU(\\vec{x_{i}})\\ket{00}$$\n"
   ]
  },
  {
   "cell_type": "markdown",
   "metadata": {},
   "source": [
    "#### Matriz de Gram.\n",
    "\n",
    "Es la matriz que almacena los productos internos de $\\phi(\\vec{x_{i}}) \\cdot \\phi(\\vec{x_{j}})$. Esta se ve así, para cada producto de los vectores.\n",
    "\n",
    "$$\\begin{pmatrix}\\phi(\\vec{x_{0}}) \\cdot \\phi(\\vec{x_{0}})&...&...\\\\&...&...\\\\&...&...\\\\&...&...\\\\&...&\\phi(\\vec{x_{n}}) \\cdot \\phi(\\vec{x_{m}})\\end{pmatrix}$$\n",
    "\n",
    "Esto es lo que le introducimos como dato al SVM para pueda minimzar la función. Es decir nuestro **Kernel computado cuánticamente**"
   ]
  },
  {
   "cell_type": "markdown",
   "metadata": {},
   "source": [
    "\n",
    "**Nota**:Existe una forma más práctica acceder actualmente a estos quantum feature maps, y también diferentes formas de realizarse, diferente al encodign hecho a partir de la base, también se peude hacer usando las amplitudes.\n",
    "\n",
    "- [Quantum Embedding Templates](https://docs.pennylane.ai/en/stable/introduction/templates.html)\n",
    "\n",
    "\n"
   ]
  },
  {
   "cell_type": "markdown",
   "metadata": {},
   "source": [
    "#### Circuito QSVM"
   ]
  },
  {
   "cell_type": "markdown",
   "metadata": {},
   "source": [
    "![](https://miro.medium.com/max/1120/1*oYxRrkgiO4qYrAiGYroo-A.png)"
   ]
  },
  {
   "cell_type": "code",
   "execution_count": 118,
   "metadata": {},
   "outputs": [],
   "source": [
    "@qml.template\n",
    "def feature_map(x):\n",
    "    \n",
    "    # ZZMap modificado\n",
    "    for i in range(2):\n",
    "        qml.Hadamard(wires = i)\n",
    "\n",
    "    # U\n",
    "    qml.RZ(2*x[0], wires = 0)\n",
    "    qml.RZ(2*x[1], wires = 1) # Encode in Phase\n",
    "    qml.CNOT(wires = [0,1])\n",
    "    qml.RZ(2*(np.pi - x[0])*(np.pi - x[1]), wires = 1)\n",
    "    qml.CNOT(wires = [0,1])\n",
    "    "
   ]
  },
  {
   "cell_type": "markdown",
   "metadata": {},
   "source": [
    "Aqui podemos construir circuitio con $U^t(\\vec{x_{i}})U(\\vec{x_{j}})$ y aplicarlo sobre el $\\ket{00}$"
   ]
  },
  {
   "cell_type": "code",
   "execution_count": 119,
   "metadata": {},
   "outputs": [],
   "source": [
    "dev = qml.device(\"default.qubit\", wires = n)      \n",
    "@qml.qnode(dev)\n",
    "def circuit(x,y):\n",
    "    feature_map(y)\n",
    "    qml.adjoint(feature_map)(x) # U**t\n",
    "    return qml.probs(wires = range(n))\n"
   ]
  },
  {
   "cell_type": "markdown",
   "metadata": {},
   "source": [
    "Es la probabilidad de observar el 0, como producto escalar."
   ]
  },
  {
   "cell_type": "code",
   "execution_count": 120,
   "metadata": {},
   "outputs": [],
   "source": [
    "# devuelve el valor final del producto interno\n",
    "def scalar_product(x,y):\n",
    "    probs = circuit(x,y)\n",
    "    return probs[0]"
   ]
  },
  {
   "cell_type": "markdown",
   "metadata": {},
   "source": [
    "Calcularemos la matriz Gramm y sus productos internos"
   ]
  },
  {
   "cell_type": "code",
   "execution_count": 121,
   "metadata": {},
   "outputs": [],
   "source": [
    "# Esto es básicament elo que se mete en el Kernel\n",
    "def KernelGramMatrixFull(X1, X2):\n",
    "    print(\"Calculando matriz de Gram\")\n",
    "    gram_matrix = np.zeros((X1.shape[0], X2.shape[0]))\n",
    "    \n",
    "    for i, x1 in enumerate(X1):\n",
    "        for j, x2 in enumerate(X2):\n",
    "            \n",
    "            x1 = x1.flatten()\n",
    "            x2 = x2.flatten()\n",
    "            \n",
    "            gram_matrix[i, j] = scalar_product(x1,x2)\n",
    "            \n",
    "    return gram_matrix"
   ]
  },
  {
   "cell_type": "markdown",
   "metadata": {},
   "source": [
    "Entrenamos el SVM, usando sklearn para poder aprovecharnos de las funciones de minimización."
   ]
  },
  {
   "cell_type": "markdown",
   "metadata": {},
   "source": [
    "### Entrenando Modelo Clásico y Cuántico"
   ]
  },
  {
   "cell_type": "code",
   "execution_count": 122,
   "metadata": {},
   "outputs": [
    {
     "name": "stdout",
     "output_type": "stream",
     "text": [
      "Entrenando...\n"
     ]
    }
   ],
   "source": [
    "clf_linear = svm.SVC(kernel=\"linear\")\n",
    "clf_linear.fit(x_train, y_train)\n",
    "print(\"Entrenando...\")"
   ]
  },
  {
   "cell_type": "code",
   "execution_count": 123,
   "metadata": {},
   "outputs": [
    {
     "name": "stdout",
     "output_type": "stream",
     "text": [
      "Calculando matriz de Gram\n"
     ]
    },
    {
     "name": "stderr",
     "output_type": "stream",
     "text": [
      "C:\\Users\\jefai\\AppData\\Local\\Temp\\ipykernel_5224\\3196985145.py:4: UserWarning: The template decorator is deprecated and will be removed in release v0.20.0\n",
      "  feature_map(y)\n",
      "c:\\Users\\jefai\\Documents\\Cerebrum\\Learning_Notebooks\\NoteBooks\\Computación Cuántica\\env_q\\lib\\site-packages\\pennylane\\transforms\\adjoint.py:115: UserWarning: The template decorator is deprecated and will be removed in release v0.20.0\n",
      "  fn(*args, **kwargs)\n"
     ]
    },
    {
     "name": "stdout",
     "output_type": "stream",
     "text": [
      "Entrenando...\n"
     ]
    },
    {
     "data": {
      "text/html": [
       "<style>#sk-container-id-6 {color: black;background-color: white;}#sk-container-id-6 pre{padding: 0;}#sk-container-id-6 div.sk-toggleable {background-color: white;}#sk-container-id-6 label.sk-toggleable__label {cursor: pointer;display: block;width: 100%;margin-bottom: 0;padding: 0.3em;box-sizing: border-box;text-align: center;}#sk-container-id-6 label.sk-toggleable__label-arrow:before {content: \"▸\";float: left;margin-right: 0.25em;color: #696969;}#sk-container-id-6 label.sk-toggleable__label-arrow:hover:before {color: black;}#sk-container-id-6 div.sk-estimator:hover label.sk-toggleable__label-arrow:before {color: black;}#sk-container-id-6 div.sk-toggleable__content {max-height: 0;max-width: 0;overflow: hidden;text-align: left;background-color: #f0f8ff;}#sk-container-id-6 div.sk-toggleable__content pre {margin: 0.2em;color: black;border-radius: 0.25em;background-color: #f0f8ff;}#sk-container-id-6 input.sk-toggleable__control:checked~div.sk-toggleable__content {max-height: 200px;max-width: 100%;overflow: auto;}#sk-container-id-6 input.sk-toggleable__control:checked~label.sk-toggleable__label-arrow:before {content: \"▾\";}#sk-container-id-6 div.sk-estimator input.sk-toggleable__control:checked~label.sk-toggleable__label {background-color: #d4ebff;}#sk-container-id-6 div.sk-label input.sk-toggleable__control:checked~label.sk-toggleable__label {background-color: #d4ebff;}#sk-container-id-6 input.sk-hidden--visually {border: 0;clip: rect(1px 1px 1px 1px);clip: rect(1px, 1px, 1px, 1px);height: 1px;margin: -1px;overflow: hidden;padding: 0;position: absolute;width: 1px;}#sk-container-id-6 div.sk-estimator {font-family: monospace;background-color: #f0f8ff;border: 1px dotted black;border-radius: 0.25em;box-sizing: border-box;margin-bottom: 0.5em;}#sk-container-id-6 div.sk-estimator:hover {background-color: #d4ebff;}#sk-container-id-6 div.sk-parallel-item::after {content: \"\";width: 100%;border-bottom: 1px solid gray;flex-grow: 1;}#sk-container-id-6 div.sk-label:hover label.sk-toggleable__label {background-color: #d4ebff;}#sk-container-id-6 div.sk-serial::before {content: \"\";position: absolute;border-left: 1px solid gray;box-sizing: border-box;top: 0;bottom: 0;left: 50%;z-index: 0;}#sk-container-id-6 div.sk-serial {display: flex;flex-direction: column;align-items: center;background-color: white;padding-right: 0.2em;padding-left: 0.2em;position: relative;}#sk-container-id-6 div.sk-item {position: relative;z-index: 1;}#sk-container-id-6 div.sk-parallel {display: flex;align-items: stretch;justify-content: center;background-color: white;position: relative;}#sk-container-id-6 div.sk-item::before, #sk-container-id-6 div.sk-parallel-item::before {content: \"\";position: absolute;border-left: 1px solid gray;box-sizing: border-box;top: 0;bottom: 0;left: 50%;z-index: -1;}#sk-container-id-6 div.sk-parallel-item {display: flex;flex-direction: column;z-index: 1;position: relative;background-color: white;}#sk-container-id-6 div.sk-parallel-item:first-child::after {align-self: flex-end;width: 50%;}#sk-container-id-6 div.sk-parallel-item:last-child::after {align-self: flex-start;width: 50%;}#sk-container-id-6 div.sk-parallel-item:only-child::after {width: 0;}#sk-container-id-6 div.sk-dashed-wrapped {border: 1px dashed gray;margin: 0 0.4em 0.5em 0.4em;box-sizing: border-box;padding-bottom: 0.4em;background-color: white;}#sk-container-id-6 div.sk-label label {font-family: monospace;font-weight: bold;display: inline-block;line-height: 1.2em;}#sk-container-id-6 div.sk-label-container {text-align: center;}#sk-container-id-6 div.sk-container {/* jupyter's `normalize.less` sets `[hidden] { display: none; }` but bootstrap.min.css set `[hidden] { display: none !important; }` so we also need the `!important` here to be able to override the default hidden behavior on the sphinx rendered scikit-learn.org. See: https://github.com/scikit-learn/scikit-learn/issues/21755 */display: inline-block !important;position: relative;}#sk-container-id-6 div.sk-text-repr-fallback {display: none;}</style><div id=\"sk-container-id-6\" class=\"sk-top-container\"><div class=\"sk-text-repr-fallback\"><pre>SVC(kernel=&#x27;precomputed&#x27;)</pre><b>In a Jupyter environment, please rerun this cell to show the HTML representation or trust the notebook. <br />On GitHub, the HTML representation is unable to render, please try loading this page with nbviewer.org.</b></div><div class=\"sk-container\" hidden><div class=\"sk-item\"><div class=\"sk-estimator sk-toggleable\"><input class=\"sk-toggleable__control sk-hidden--visually\" id=\"sk-estimator-id-6\" type=\"checkbox\" checked><label for=\"sk-estimator-id-6\" class=\"sk-toggleable__label sk-toggleable__label-arrow\">SVC</label><div class=\"sk-toggleable__content\"><pre>SVC(kernel=&#x27;precomputed&#x27;)</pre></div></div></div></div></div>"
      ],
      "text/plain": [
       "SVC(kernel='precomputed')"
      ]
     },
     "execution_count": 123,
     "metadata": {},
     "output_type": "execute_result"
    }
   ],
   "source": [
    "clf = svm.SVC(kernel=\"precomputed\")\n",
    "matrix = KernelGramMatrixFull(x_train,x_train)\n",
    "print(\"Entrenando...\")\n",
    "clf.fit(matrix, y_train)"
   ]
  },
  {
   "cell_type": "markdown",
   "metadata": {},
   "source": [
    "### Predicciones Clásicas y Cuánticas"
   ]
  },
  {
   "cell_type": "code",
   "execution_count": 124,
   "metadata": {},
   "outputs": [
    {
     "name": "stdout",
     "output_type": "stream",
     "text": [
      "Comprobando con test...\n",
      "Precisión del test Kernel Lineal:  63.33333333333333 %\n"
     ]
    }
   ],
   "source": [
    "print(\"Comprobando con test...\")\n",
    "sol = clf_linear.predict((x_test))\n",
    "success = 0\n",
    "for i in range(len(y_test)):\n",
    "    if sol[i] == y_test[i]:\n",
    "        success += 1\n",
    "        \n",
    "print(\"Precisión del test Kernel Lineal: \", success/len(sol)*100, \"%\")"
   ]
  },
  {
   "cell_type": "code",
   "execution_count": 125,
   "metadata": {},
   "outputs": [
    {
     "name": "stdout",
     "output_type": "stream",
     "text": [
      "Comprobando con test...\n",
      "Calculando matriz de Gram\n"
     ]
    },
    {
     "name": "stderr",
     "output_type": "stream",
     "text": [
      "C:\\Users\\jefai\\AppData\\Local\\Temp\\ipykernel_5224\\3196985145.py:4: UserWarning: The template decorator is deprecated and will be removed in release v0.20.0\n",
      "  feature_map(y)\n",
      "c:\\Users\\jefai\\Documents\\Cerebrum\\Learning_Notebooks\\NoteBooks\\Computación Cuántica\\env_q\\lib\\site-packages\\pennylane\\transforms\\adjoint.py:115: UserWarning: The template decorator is deprecated and will be removed in release v0.20.0\n",
      "  fn(*args, **kwargs)\n"
     ]
    },
    {
     "name": "stdout",
     "output_type": "stream",
     "text": [
      "Precisión del test Kernel Cuántico:  85.0 %\n"
     ]
    }
   ],
   "source": [
    "print(\"Comprobando con test...\")\n",
    "sol = clf.predict(KernelGramMatrixFull(x_test,x_train))\n",
    "success = 0\n",
    "for i in range(len(y_test)):\n",
    "    if sol[i] == y_test[i]:\n",
    "        success += 1\n",
    "        \n",
    "print(\"Precisión del test Kernel Cuántico: \", success/len(sol)*100, \"%\")"
   ]
  },
  {
   "cell_type": "markdown",
   "metadata": {},
   "source": [
    "### Predicción\n",
    "\n",
    "- Constraste sobre predicción.\n",
    "- Puntos Rojos no predichos.\n",
    "- Precisión del test **Kernel Clásico**:   63.3 %\n",
    "- Precisión del test **Kernel Cuántico**:  85.0 %"
   ]
  },
  {
   "cell_type": "code",
   "execution_count": 126,
   "metadata": {},
   "outputs": [
    {
     "data": {
      "image/png": "[encoded data removed]",
      "text/plain": [
       "<Figure size 640x480 with 1 Axes>"
      ]
     },
     "metadata": {},
     "output_type": "display_data"
    }
   ],
   "source": [
    "# Draw Scatter\n",
    "for i in range(len(x_test)):\n",
    "    color =\"blue\"\n",
    "    if y_test[i] ==-1:\n",
    "        color=\"red\"\n",
    "    plt.scatter(x_test[i,0], x_test[i,1], color=color)\n",
    "\n",
    "    if sol[i] ==-1:\n",
    "        color=\"green\"\n",
    "    plt.scatter(x_test[i,0], x_test[i,1], color=color)\n",
    "\n",
    "plt.show()"
   ]
  },
  {
   "cell_type": "markdown",
   "metadata": {},
   "source": [
    "##"
   ]
  }
 ],
 "metadata": {
  "kernelspec": {
   "display_name": "Python 3.10.7 ('env_q': venv)",
   "language": "python",
   "name": "python3"
  },
  "language_info": {
   "codemirror_mode": {
    "name": "ipython",
    "version": 3
   },
   "file_extension": ".py",
   "mimetype": "text/x-python",
   "name": "python",
   "nbconvert_exporter": "python",
   "pygments_lexer": "ipython3",
   "version": "3.10.7"
  },
  "orig_nbformat": 4,
  "vscode": {
   "interpreter": {
    "hash": "5c5f65bf42d6206e1c57117f942b147f5b7a64862f1f50f57b3fc6d1c3142406"
   }
  }
 },
 "nbformat": 4,
 "nbformat_minor": 2
}
