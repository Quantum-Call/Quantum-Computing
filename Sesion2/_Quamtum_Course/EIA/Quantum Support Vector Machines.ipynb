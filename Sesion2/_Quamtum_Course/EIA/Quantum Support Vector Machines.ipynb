{
 "cells": [
  {
   "cell_type": "markdown",
   "metadata": {},
   "source": [
    "# Quantum SVM\n",
    "\n",
    "Cuando la data es mapeada en una dimensión dentro de los espacios de hilbert de un computador cuántico, intrínsiecamente se convierte en una alta dimensionalidad.\n",
    "\n",
    "\n",
    "## Support Vector Machine\n",
    "\n",
    "Es una forma en la que la máquina puede aprender a clasificar data en dos diferentes conjuntos.\n",
    "Es decir si tengo una pecera con camarones y peces, al ser aliemntados se dirigen a su lado de la pecera, si introduzco una nueva creatura, quiero saber si es un camaron o un pez.  Podemos dividir el espacio con hiperplano para dividir las clasificaciones.\n",
    "\n",
    "![svm](../_assets/SMV_aquarium.PNG)"
   ]
  },
  {
   "cell_type": "markdown",
   "metadata": {},
   "source": [
    "Si no tenemos un hiperplano y los animales se distribuyen de diferentes formas en la pecera, la forma que tenemos de clasificar es mediante un **feature map**,  mapeamos la data del nuevo bicho a una dimensión más alta $k$ . Ahora computamos el hiperplano óptimo en una dimensión alta que pueda separar las dos clases.\n",
    "\n",
    "![SVM](_assets/SMV_aquarium_1.PNG)\n",
    "\n",
    "Esto implica calcular la distancia de nuestros datapoints con el espacio de alta dimensionalidad, si $k$ es un valor muy grande encontrar estas distancias es computacionalmente muy costoso.\n",
    "\n",
    "Para ello se usa una técnica llamada \"Kernel Trick\", un Kernel es una función computable, que toma dos data points y devuelve una distancia, el kernel se puede optimizar en orden de maximizar las distancias entre las dos clases de data.\n",
    "\n",
    "\n",
    "____________\n",
    "\n",
    "Desafortunadamente muchas matrices de estos kernels son difíciles de computar de manera clásica. El cómputo cuántico se puede usar aquí, donde nos valdríamos del cómputo de espacios multidimensionales en orden de encontrar un hiperplano.\n"
   ]
  },
  {
   "cell_type": "code",
   "execution_count": 2,
   "metadata": {},
   "outputs": [],
   "source": [
    "import qiskit\n",
    "from matplotlib import pyplot as plt\n",
    "import numpy\n",
    "from qiskit.ml.datasets import ad_hoc_data #Data curated\n",
    "from qiskit import BasicAer\n",
    "from qiskit.aqua import QuantumInstance\n",
    "from qiskit.circuit.library import ZZFeatureMap\n",
    "from qiskit.aqua.algorithms import QSVM\n",
    "from qiskit.aqua.utils import split_dataset_to_data_and_labels, map_label_to_class_name"
   ]
  },
  {
   "cell_type": "code",
   "execution_count": 3,
   "metadata": {},
   "outputs": [],
   "source": [
    "feature_dim = 2\n",
    "training_dataset_size = 10\n",
    "testing_dataset_size =10\n",
    "random_seed = 10598\n",
    "shot = 10000 #simulator"
   ]
  },
  {
   "cell_type": "markdown",
   "metadata": {},
   "source": [
    "En el siguiente gráfico tenemos la data de entrenamiento que entrenará el QSVM en orden de clasisifcar el la data de Test."
   ]
  },
  {
   "cell_type": "code",
   "execution_count": 4,
   "metadata": {},
   "outputs": [
    {
     "data": {
      "image/png": "[encoded data removed]",
      "text/plain": [
       "<Figure size 432x288 with 1 Axes>"
      ]
     },
     "metadata": {
      "needs_background": "light"
     },
     "output_type": "display_data"
    }
   ],
   "source": [
    "# Gap espacio en hiperrplano separa la data\n",
    "sample_total, training_input, test_input, class_labels = ad_hoc_data(training_size=training_dataset_size\\\n",
    "    , test_size=testing_dataset_size,gap=0.3, n=feature_dim, plot_data=True)"
   ]
  },
  {
   "cell_type": "code",
   "execution_count": 5,
   "metadata": {},
   "outputs": [
    {
     "name": "stdout",
     "output_type": "stream",
     "text": [
      "{'A': 0, 'B': 1}\n"
     ]
    }
   ],
   "source": [
    "datapoints, class_to_label = split_dataset_to_data_and_labels(test_input)\n",
    "print(class_to_label)"
   ]
  },
  {
   "cell_type": "code",
   "execution_count": 11,
   "metadata": {},
   "outputs": [
    {
     "ename": "MissingOptionalLibraryError",
     "evalue": "\"The 'CVXPY' library is required to use 'optimize_svm'. You can install it with 'pip install 'qiskit-aqua[cvx]''.  No module named 'scipy.sparse.linalg.eigen.arpack'; 'scipy.sparse.linalg.eigen' is not a package.\"",
     "output_type": "error",
     "traceback": [
      "\u001b[1;31m---------------------------------------------------------------------------\u001b[0m",
      "\u001b[1;31mModuleNotFoundError\u001b[0m                       Traceback (most recent call last)",
      "File \u001b[1;32mc:\\Users\\alejandro.gl\\Documents\\Cerebellum\\Quantum Computing\\env_q\\lib\\site-packages\\qiskit\\aqua\\utils\\qp_solver.py:56\u001b[0m, in \u001b[0;36moptimize_svm\u001b[1;34m(kernel_matrix, y, scaling, maxiter, show_progress, max_iters, lambda2)\u001b[0m\n\u001b[0;32m     <a href='file:///c%3A/Users/alejandro.gl/Documents/Cerebellum/Quantum%20Computing/env_q/lib/site-packages/qiskit/aqua/utils/qp_solver.py?line=54'>55</a>\u001b[0m \u001b[39mtry\u001b[39;00m:\n\u001b[1;32m---> <a href='file:///c%3A/Users/alejandro.gl/Documents/Cerebellum/Quantum%20Computing/env_q/lib/site-packages/qiskit/aqua/utils/qp_solver.py?line=55'>56</a>\u001b[0m     \u001b[39mimport\u001b[39;00m \u001b[39mcvxpy\u001b[39;00m\n\u001b[0;32m     <a href='file:///c%3A/Users/alejandro.gl/Documents/Cerebellum/Quantum%20Computing/env_q/lib/site-packages/qiskit/aqua/utils/qp_solver.py?line=56'>57</a>\u001b[0m \u001b[39mexcept\u001b[39;00m \u001b[39mImportError\u001b[39;00m \u001b[39mas\u001b[39;00m ex:\n",
      "File \u001b[1;32mc:\\Users\\alejandro.gl\\Documents\\Cerebellum\\Quantum Computing\\env_q\\lib\\site-packages\\cvxpy\\__init__.py:18\u001b[0m, in \u001b[0;36m<module>\u001b[1;34m\u001b[0m\n\u001b[0;32m     <a href='file:///c%3A/Users/alejandro.gl/Documents/Cerebellum/Quantum%20Computing/env_q/lib/site-packages/cvxpy/__init__.py?line=16'>17</a>\u001b[0m __version__ \u001b[39m=\u001b[39m \u001b[39m\"\u001b[39m\u001b[39m1.1.11\u001b[39m\u001b[39m\"\u001b[39m\n\u001b[1;32m---> <a href='file:///c%3A/Users/alejandro.gl/Documents/Cerebellum/Quantum%20Computing/env_q/lib/site-packages/cvxpy/__init__.py?line=17'>18</a>\u001b[0m \u001b[39mfrom\u001b[39;00m \u001b[39mcvxpy\u001b[39;00m\u001b[39m.\u001b[39;00m\u001b[39matoms\u001b[39;00m \u001b[39mimport\u001b[39;00m \u001b[39m*\u001b[39m\n\u001b[0;32m     <a href='file:///c%3A/Users/alejandro.gl/Documents/Cerebellum/Quantum%20Computing/env_q/lib/site-packages/cvxpy/__init__.py?line=18'>19</a>\u001b[0m \u001b[39mfrom\u001b[39;00m \u001b[39mcvxpy\u001b[39;00m\u001b[39m.\u001b[39;00m\u001b[39mconstraints\u001b[39;00m \u001b[39mimport\u001b[39;00m NonPos, Zero, SOC, PSD\n",
      "File \u001b[1;32mc:\\Users\\alejandro.gl\\Documents\\Cerebellum\\Quantum Computing\\env_q\\lib\\site-packages\\cvxpy\\atoms\\__init__.py:17\u001b[0m, in \u001b[0;36m<module>\u001b[1;34m\u001b[0m\n\u001b[0;32m      <a href='file:///c%3A/Users/alejandro.gl/Documents/Cerebellum/Quantum%20Computing/env_q/lib/site-packages/cvxpy/atoms/__init__.py?line=0'>1</a>\u001b[0m \u001b[39m\"\"\"\u001b[39;00m\n\u001b[0;32m      <a href='file:///c%3A/Users/alejandro.gl/Documents/Cerebellum/Quantum%20Computing/env_q/lib/site-packages/cvxpy/atoms/__init__.py?line=1'>2</a>\u001b[0m \u001b[39mCopyright 2013 Steven Diamond\u001b[39;00m\n\u001b[0;32m      <a href='file:///c%3A/Users/alejandro.gl/Documents/Cerebellum/Quantum%20Computing/env_q/lib/site-packages/cvxpy/atoms/__init__.py?line=2'>3</a>\u001b[0m \n\u001b[1;32m   (...)\u001b[0m\n\u001b[0;32m     <a href='file:///c%3A/Users/alejandro.gl/Documents/Cerebellum/Quantum%20Computing/env_q/lib/site-packages/cvxpy/atoms/__init__.py?line=13'>14</a>\u001b[0m \u001b[39mlimitations under the License.\u001b[39;00m\n\u001b[0;32m     <a href='file:///c%3A/Users/alejandro.gl/Documents/Cerebellum/Quantum%20Computing/env_q/lib/site-packages/cvxpy/atoms/__init__.py?line=14'>15</a>\u001b[0m \u001b[39m\"\"\"\u001b[39;00m\n\u001b[1;32m---> <a href='file:///c%3A/Users/alejandro.gl/Documents/Cerebellum/Quantum%20Computing/env_q/lib/site-packages/cvxpy/atoms/__init__.py?line=16'>17</a>\u001b[0m \u001b[39mfrom\u001b[39;00m \u001b[39mcvxpy\u001b[39;00m\u001b[39m.\u001b[39;00m\u001b[39matoms\u001b[39;00m\u001b[39m.\u001b[39;00m\u001b[39mcummax\u001b[39;00m \u001b[39mimport\u001b[39;00m cummax\n\u001b[0;32m     <a href='file:///c%3A/Users/alejandro.gl/Documents/Cerebellum/Quantum%20Computing/env_q/lib/site-packages/cvxpy/atoms/__init__.py?line=17'>18</a>\u001b[0m \u001b[39mfrom\u001b[39;00m \u001b[39mcvxpy\u001b[39;00m\u001b[39m.\u001b[39;00m\u001b[39matoms\u001b[39;00m\u001b[39m.\u001b[39;00m\u001b[39mdist_ratio\u001b[39;00m \u001b[39mimport\u001b[39;00m dist_ratio\n",
      "File \u001b[1;32mc:\\Users\\alejandro.gl\\Documents\\Cerebellum\\Quantum Computing\\env_q\\lib\\site-packages\\cvxpy\\atoms\\cummax.py:17\u001b[0m, in \u001b[0;36m<module>\u001b[1;34m\u001b[0m\n\u001b[0;32m      <a href='file:///c%3A/Users/alejandro.gl/Documents/Cerebellum/Quantum%20Computing/env_q/lib/site-packages/cvxpy/atoms/cummax.py?line=0'>1</a>\u001b[0m \u001b[39m\"\"\"\u001b[39;00m\n\u001b[0;32m      <a href='file:///c%3A/Users/alejandro.gl/Documents/Cerebellum/Quantum%20Computing/env_q/lib/site-packages/cvxpy/atoms/cummax.py?line=1'>2</a>\u001b[0m \u001b[39mCopyright 2017 Steven Diamond\u001b[39;00m\n\u001b[0;32m      <a href='file:///c%3A/Users/alejandro.gl/Documents/Cerebellum/Quantum%20Computing/env_q/lib/site-packages/cvxpy/atoms/cummax.py?line=2'>3</a>\u001b[0m \n\u001b[1;32m   (...)\u001b[0m\n\u001b[0;32m     <a href='file:///c%3A/Users/alejandro.gl/Documents/Cerebellum/Quantum%20Computing/env_q/lib/site-packages/cvxpy/atoms/cummax.py?line=13'>14</a>\u001b[0m \u001b[39mlimitations under the License.\u001b[39;00m\n\u001b[0;32m     <a href='file:///c%3A/Users/alejandro.gl/Documents/Cerebellum/Quantum%20Computing/env_q/lib/site-packages/cvxpy/atoms/cummax.py?line=14'>15</a>\u001b[0m \u001b[39m\"\"\"\u001b[39;00m\n\u001b[1;32m---> <a href='file:///c%3A/Users/alejandro.gl/Documents/Cerebellum/Quantum%20Computing/env_q/lib/site-packages/cvxpy/atoms/cummax.py?line=16'>17</a>\u001b[0m \u001b[39mfrom\u001b[39;00m \u001b[39mcvxpy\u001b[39;00m\u001b[39m.\u001b[39;00m\u001b[39matoms\u001b[39;00m\u001b[39m.\u001b[39;00m\u001b[39matom\u001b[39;00m \u001b[39mimport\u001b[39;00m Atom\n\u001b[0;32m     <a href='file:///c%3A/Users/alejandro.gl/Documents/Cerebellum/Quantum%20Computing/env_q/lib/site-packages/cvxpy/atoms/cummax.py?line=17'>18</a>\u001b[0m \u001b[39mfrom\u001b[39;00m \u001b[39mcvxpy\u001b[39;00m\u001b[39m.\u001b[39;00m\u001b[39matoms\u001b[39;00m\u001b[39m.\u001b[39;00m\u001b[39maxis_atom\u001b[39;00m \u001b[39mimport\u001b[39;00m AxisAtom\n",
      "File \u001b[1;32mc:\\Users\\alejandro.gl\\Documents\\Cerebellum\\Quantum Computing\\env_q\\lib\\site-packages\\cvxpy\\atoms\\atom.py:21\u001b[0m, in \u001b[0;36m<module>\u001b[1;34m\u001b[0m\n\u001b[0;32m     <a href='file:///c%3A/Users/alejandro.gl/Documents/Cerebellum/Quantum%20Computing/env_q/lib/site-packages/cvxpy/atoms/atom.py?line=19'>20</a>\u001b[0m \u001b[39mfrom\u001b[39;00m \u001b[39mcvxpy\u001b[39;00m\u001b[39m.\u001b[39;00m\u001b[39mexpressions\u001b[39;00m \u001b[39mimport\u001b[39;00m cvxtypes\n\u001b[1;32m---> <a href='file:///c%3A/Users/alejandro.gl/Documents/Cerebellum/Quantum%20Computing/env_q/lib/site-packages/cvxpy/atoms/atom.py?line=20'>21</a>\u001b[0m \u001b[39mfrom\u001b[39;00m \u001b[39mcvxpy\u001b[39;00m\u001b[39m.\u001b[39;00m\u001b[39mexpressions\u001b[39;00m\u001b[39m.\u001b[39;00m\u001b[39mconstants\u001b[39;00m \u001b[39mimport\u001b[39;00m Constant\n\u001b[0;32m     <a href='file:///c%3A/Users/alejandro.gl/Documents/Cerebellum/Quantum%20Computing/env_q/lib/site-packages/cvxpy/atoms/atom.py?line=21'>22</a>\u001b[0m \u001b[39mfrom\u001b[39;00m \u001b[39mcvxpy\u001b[39;00m\u001b[39m.\u001b[39;00m\u001b[39mexpressions\u001b[39;00m\u001b[39m.\u001b[39;00m\u001b[39mexpression\u001b[39;00m \u001b[39mimport\u001b[39;00m Expression\n",
      "File \u001b[1;32mc:\\Users\\alejandro.gl\\Documents\\Cerebellum\\Quantum Computing\\env_q\\lib\\site-packages\\cvxpy\\expressions\\constants\\__init__.py:17\u001b[0m, in \u001b[0;36m<module>\u001b[1;34m\u001b[0m\n\u001b[0;32m      <a href='file:///c%3A/Users/alejandro.gl/Documents/Cerebellum/Quantum%20Computing/env_q/lib/site-packages/cvxpy/expressions/constants/__init__.py?line=0'>1</a>\u001b[0m \u001b[39m\"\"\"\u001b[39;00m\n\u001b[0;32m      <a href='file:///c%3A/Users/alejandro.gl/Documents/Cerebellum/Quantum%20Computing/env_q/lib/site-packages/cvxpy/expressions/constants/__init__.py?line=1'>2</a>\u001b[0m \u001b[39mCopyright 2013 Steven Diamond\u001b[39;00m\n\u001b[0;32m      <a href='file:///c%3A/Users/alejandro.gl/Documents/Cerebellum/Quantum%20Computing/env_q/lib/site-packages/cvxpy/expressions/constants/__init__.py?line=2'>3</a>\u001b[0m \n\u001b[1;32m   (...)\u001b[0m\n\u001b[0;32m     <a href='file:///c%3A/Users/alejandro.gl/Documents/Cerebellum/Quantum%20Computing/env_q/lib/site-packages/cvxpy/expressions/constants/__init__.py?line=13'>14</a>\u001b[0m \u001b[39mlimitations under the License.\u001b[39;00m\n\u001b[0;32m     <a href='file:///c%3A/Users/alejandro.gl/Documents/Cerebellum/Quantum%20Computing/env_q/lib/site-packages/cvxpy/expressions/constants/__init__.py?line=14'>15</a>\u001b[0m \u001b[39m\"\"\"\u001b[39;00m\n\u001b[1;32m---> <a href='file:///c%3A/Users/alejandro.gl/Documents/Cerebellum/Quantum%20Computing/env_q/lib/site-packages/cvxpy/expressions/constants/__init__.py?line=16'>17</a>\u001b[0m \u001b[39mfrom\u001b[39;00m \u001b[39m.\u001b[39;00m\u001b[39mconstant\u001b[39;00m \u001b[39mimport\u001b[39;00m Constant\n\u001b[0;32m     <a href='file:///c%3A/Users/alejandro.gl/Documents/Cerebellum/Quantum%20Computing/env_q/lib/site-packages/cvxpy/expressions/constants/__init__.py?line=17'>18</a>\u001b[0m \u001b[39mfrom\u001b[39;00m \u001b[39m.\u001b[39;00m\u001b[39mcallback_param\u001b[39;00m \u001b[39mimport\u001b[39;00m CallbackParam\n",
      "File \u001b[1;32mc:\\Users\\alejandro.gl\\Documents\\Cerebellum\\Quantum Computing\\env_q\\lib\\site-packages\\cvxpy\\expressions\\constants\\constant.py:23\u001b[0m, in \u001b[0;36m<module>\u001b[1;34m\u001b[0m\n\u001b[0;32m     <a href='file:///c%3A/Users/alejandro.gl/Documents/Cerebellum/Quantum%20Computing/env_q/lib/site-packages/cvxpy/expressions/constants/constant.py?line=21'>22</a>\u001b[0m \u001b[39mfrom\u001b[39;00m \u001b[39mscipy\u001b[39;00m\u001b[39m.\u001b[39;00m\u001b[39msparse\u001b[39;00m\u001b[39m.\u001b[39;00m\u001b[39mlinalg\u001b[39;00m \u001b[39mimport\u001b[39;00m eigsh\n\u001b[1;32m---> <a href='file:///c%3A/Users/alejandro.gl/Documents/Cerebellum/Quantum%20Computing/env_q/lib/site-packages/cvxpy/expressions/constants/constant.py?line=22'>23</a>\u001b[0m \u001b[39mfrom\u001b[39;00m \u001b[39mscipy\u001b[39;00m\u001b[39m.\u001b[39;00m\u001b[39msparse\u001b[39;00m\u001b[39m.\u001b[39;00m\u001b[39mlinalg\u001b[39;00m\u001b[39m.\u001b[39;00m\u001b[39meigen\u001b[39;00m\u001b[39m.\u001b[39;00m\u001b[39marpack\u001b[39;00m\u001b[39m.\u001b[39;00m\u001b[39marpack\u001b[39;00m \u001b[39mimport\u001b[39;00m ArpackError\n\u001b[0;32m     <a href='file:///c%3A/Users/alejandro.gl/Documents/Cerebellum/Quantum%20Computing/env_q/lib/site-packages/cvxpy/expressions/constants/constant.py?line=23'>24</a>\u001b[0m \u001b[39mimport\u001b[39;00m \u001b[39mnumpy\u001b[39;00m \u001b[39mas\u001b[39;00m \u001b[39mnp\u001b[39;00m\n",
      "\u001b[1;31mModuleNotFoundError\u001b[0m: No module named 'scipy.sparse.linalg.eigen.arpack'; 'scipy.sparse.linalg.eigen' is not a package",
      "\nThe above exception was the direct cause of the following exception:\n",
      "\u001b[1;31mMissingOptionalLibraryError\u001b[0m               Traceback (most recent call last)",
      "\u001b[1;32mc:\\Users\\alejandro.gl\\Documents\\Cerebellum\\Quantum Computing\\Quantum Machine Learning\\Quantum Support Vector Machines.ipynb Cell 8'\u001b[0m in \u001b[0;36m<cell line: 6>\u001b[1;34m()\u001b[0m\n\u001b[0;32m      <a href='vscode-notebook-cell:/c%3A/Users/alejandro.gl/Documents/Cerebellum/Quantum%20Computing/Quantum%20Machine%20Learning/Quantum%20Support%20Vector%20Machines.ipynb#ch0000017?line=3'>4</a>\u001b[0m svm\u001b[39m.\u001b[39mrandom_seed \u001b[39m=\u001b[39m random_seed\n\u001b[0;32m      <a href='vscode-notebook-cell:/c%3A/Users/alejandro.gl/Documents/Cerebellum/Quantum%20Computing/Quantum%20Machine%20Learning/Quantum%20Support%20Vector%20Machines.ipynb#ch0000017?line=4'>5</a>\u001b[0m quantum_instance \u001b[39m=\u001b[39m QuantumInstance(backend, shots\u001b[39m=\u001b[39mshot, seed_simulator\u001b[39m=\u001b[39mrandom_seed,seed_transpiler\u001b[39m=\u001b[39m random_seed)\n\u001b[1;32m----> <a href='vscode-notebook-cell:/c%3A/Users/alejandro.gl/Documents/Cerebellum/Quantum%20Computing/Quantum%20Machine%20Learning/Quantum%20Support%20Vector%20Machines.ipynb#ch0000017?line=5'>6</a>\u001b[0m result \u001b[39m=\u001b[39m svm\u001b[39m.\u001b[39;49mrun(quantum_instance)\n",
      "File \u001b[1;32mc:\\Users\\alejandro.gl\\Documents\\Cerebellum\\Quantum Computing\\env_q\\lib\\site-packages\\qiskit\\aqua\\algorithms\\quantum_algorithm.py:71\u001b[0m, in \u001b[0;36mQuantumAlgorithm.run\u001b[1;34m(self, quantum_instance, **kwargs)\u001b[0m\n\u001b[0;32m     <a href='file:///c%3A/Users/alejandro.gl/Documents/Cerebellum/Quantum%20Computing/env_q/lib/site-packages/qiskit/aqua/algorithms/quantum_algorithm.py?line=67'>68</a>\u001b[0m     \u001b[39mif\u001b[39;00m quantum_instance \u001b[39mis\u001b[39;00m \u001b[39mnot\u001b[39;00m \u001b[39mNone\u001b[39;00m:\n\u001b[0;32m     <a href='file:///c%3A/Users/alejandro.gl/Documents/Cerebellum/Quantum%20Computing/env_q/lib/site-packages/qiskit/aqua/algorithms/quantum_algorithm.py?line=68'>69</a>\u001b[0m         \u001b[39mself\u001b[39m\u001b[39m.\u001b[39mquantum_instance \u001b[39m=\u001b[39m quantum_instance\n\u001b[1;32m---> <a href='file:///c%3A/Users/alejandro.gl/Documents/Cerebellum/Quantum%20Computing/env_q/lib/site-packages/qiskit/aqua/algorithms/quantum_algorithm.py?line=70'>71</a>\u001b[0m \u001b[39mreturn\u001b[39;00m \u001b[39mself\u001b[39;49m\u001b[39m.\u001b[39;49m_run()\n",
      "File \u001b[1;32mc:\\Users\\alejandro.gl\\Documents\\Cerebellum\\Quantum Computing\\env_q\\lib\\site-packages\\qiskit\\aqua\\algorithms\\classifiers\\qsvm\\qsvm.py:476\u001b[0m, in \u001b[0;36mQSVM._run\u001b[1;34m(self)\u001b[0m\n\u001b[0;32m    <a href='file:///c%3A/Users/alejandro.gl/Documents/Cerebellum/Quantum%20Computing/env_q/lib/site-packages/qiskit/aqua/algorithms/classifiers/qsvm/qsvm.py?line=474'>475</a>\u001b[0m \u001b[39mdef\u001b[39;00m \u001b[39m_run\u001b[39m(\u001b[39mself\u001b[39m):\n\u001b[1;32m--> <a href='file:///c%3A/Users/alejandro.gl/Documents/Cerebellum/Quantum%20Computing/env_q/lib/site-packages/qiskit/aqua/algorithms/classifiers/qsvm/qsvm.py?line=475'>476</a>\u001b[0m     \u001b[39mreturn\u001b[39;00m \u001b[39mself\u001b[39;49m\u001b[39m.\u001b[39;49minstance\u001b[39m.\u001b[39;49mrun()\n",
      "File \u001b[1;32mc:\\Users\\alejandro.gl\\Documents\\Cerebellum\\Quantum Computing\\env_q\\lib\\site-packages\\qiskit\\aqua\\algorithms\\classifiers\\qsvm\\_qsvm_binary.py:135\u001b[0m, in \u001b[0;36m_QSVM_Binary.run\u001b[1;34m(self)\u001b[0m\n\u001b[0;32m    <a href='file:///c%3A/Users/alejandro.gl/Documents/Cerebellum/Quantum%20Computing/env_q/lib/site-packages/qiskit/aqua/algorithms/classifiers/qsvm/_qsvm_binary.py?line=132'>133</a>\u001b[0m \u001b[39mdef\u001b[39;00m \u001b[39mrun\u001b[39m(\u001b[39mself\u001b[39m):\n\u001b[0;32m    <a href='file:///c%3A/Users/alejandro.gl/Documents/Cerebellum/Quantum%20Computing/env_q/lib/site-packages/qiskit/aqua/algorithms/classifiers/qsvm/_qsvm_binary.py?line=133'>134</a>\u001b[0m     \u001b[39m\"\"\"Put the train, test, predict together.\"\"\"\u001b[39;00m\n\u001b[1;32m--> <a href='file:///c%3A/Users/alejandro.gl/Documents/Cerebellum/Quantum%20Computing/env_q/lib/site-packages/qiskit/aqua/algorithms/classifiers/qsvm/_qsvm_binary.py?line=134'>135</a>\u001b[0m     \u001b[39mself\u001b[39;49m\u001b[39m.\u001b[39;49mtrain(\u001b[39mself\u001b[39;49m\u001b[39m.\u001b[39;49m_qalgo\u001b[39m.\u001b[39;49mtraining_dataset[\u001b[39m0\u001b[39;49m], \u001b[39mself\u001b[39;49m\u001b[39m.\u001b[39;49m_qalgo\u001b[39m.\u001b[39;49mtraining_dataset[\u001b[39m1\u001b[39;49m])\n\u001b[0;32m    <a href='file:///c%3A/Users/alejandro.gl/Documents/Cerebellum/Quantum%20Computing/env_q/lib/site-packages/qiskit/aqua/algorithms/classifiers/qsvm/_qsvm_binary.py?line=135'>136</a>\u001b[0m     \u001b[39mif\u001b[39;00m \u001b[39mself\u001b[39m\u001b[39m.\u001b[39m_qalgo\u001b[39m.\u001b[39mtest_dataset \u001b[39mis\u001b[39;00m \u001b[39mnot\u001b[39;00m \u001b[39mNone\u001b[39;00m:\n\u001b[0;32m    <a href='file:///c%3A/Users/alejandro.gl/Documents/Cerebellum/Quantum%20Computing/env_q/lib/site-packages/qiskit/aqua/algorithms/classifiers/qsvm/_qsvm_binary.py?line=136'>137</a>\u001b[0m         \u001b[39mself\u001b[39m\u001b[39m.\u001b[39mtest(\u001b[39mself\u001b[39m\u001b[39m.\u001b[39m_qalgo\u001b[39m.\u001b[39mtest_dataset[\u001b[39m0\u001b[39m], \u001b[39mself\u001b[39m\u001b[39m.\u001b[39m_qalgo\u001b[39m.\u001b[39mtest_dataset[\u001b[39m1\u001b[39m])\n",
      "File \u001b[1;32mc:\\Users\\alejandro.gl\\Documents\\Cerebellum\\Quantum Computing\\env_q\\lib\\site-packages\\qiskit\\aqua\\algorithms\\classifiers\\qsvm\\_qsvm_binary.py:82\u001b[0m, in \u001b[0;36m_QSVM_Binary.train\u001b[1;34m(self, data, labels)\u001b[0m\n\u001b[0;32m     <a href='file:///c%3A/Users/alejandro.gl/Documents/Cerebellum/Quantum%20Computing/env_q/lib/site-packages/qiskit/aqua/algorithms/classifiers/qsvm/_qsvm_binary.py?line=79'>80</a>\u001b[0m labels \u001b[39m=\u001b[39m labels \u001b[39m*\u001b[39m \u001b[39m2\u001b[39m \u001b[39m-\u001b[39m \u001b[39m1\u001b[39m  \u001b[39m# map label from 0 --> -1 and 1 --> 1\u001b[39;00m\n\u001b[0;32m     <a href='file:///c%3A/Users/alejandro.gl/Documents/Cerebellum/Quantum%20Computing/env_q/lib/site-packages/qiskit/aqua/algorithms/classifiers/qsvm/_qsvm_binary.py?line=80'>81</a>\u001b[0m labels \u001b[39m=\u001b[39m labels\u001b[39m.\u001b[39mastype(\u001b[39mfloat\u001b[39m)\n\u001b[1;32m---> <a href='file:///c%3A/Users/alejandro.gl/Documents/Cerebellum/Quantum%20Computing/env_q/lib/site-packages/qiskit/aqua/algorithms/classifiers/qsvm/_qsvm_binary.py?line=81'>82</a>\u001b[0m [alpha, b, support] \u001b[39m=\u001b[39m optimize_svm(kernel_matrix, labels, scaling\u001b[39m=\u001b[39;49mscaling, lambda2\u001b[39m=\u001b[39;49mlambda2)\n\u001b[0;32m     <a href='file:///c%3A/Users/alejandro.gl/Documents/Cerebellum/Quantum%20Computing/env_q/lib/site-packages/qiskit/aqua/algorithms/classifiers/qsvm/_qsvm_binary.py?line=82'>83</a>\u001b[0m support_index \u001b[39m=\u001b[39m np\u001b[39m.\u001b[39mwhere(support)\n\u001b[0;32m     <a href='file:///c%3A/Users/alejandro.gl/Documents/Cerebellum/Quantum%20Computing/env_q/lib/site-packages/qiskit/aqua/algorithms/classifiers/qsvm/_qsvm_binary.py?line=83'>84</a>\u001b[0m alphas \u001b[39m=\u001b[39m alpha[support_index]\n",
      "File \u001b[1;32mc:\\Users\\alejandro.gl\\Documents\\Cerebellum\\Quantum Computing\\env_q\\lib\\site-packages\\qiskit\\aqua\\utils\\qp_solver.py:58\u001b[0m, in \u001b[0;36moptimize_svm\u001b[1;34m(kernel_matrix, y, scaling, maxiter, show_progress, max_iters, lambda2)\u001b[0m\n\u001b[0;32m     <a href='file:///c%3A/Users/alejandro.gl/Documents/Cerebellum/Quantum%20Computing/env_q/lib/site-packages/qiskit/aqua/utils/qp_solver.py?line=55'>56</a>\u001b[0m     \u001b[39mimport\u001b[39;00m \u001b[39mcvxpy\u001b[39;00m\n\u001b[0;32m     <a href='file:///c%3A/Users/alejandro.gl/Documents/Cerebellum/Quantum%20Computing/env_q/lib/site-packages/qiskit/aqua/utils/qp_solver.py?line=56'>57</a>\u001b[0m \u001b[39mexcept\u001b[39;00m \u001b[39mImportError\u001b[39;00m \u001b[39mas\u001b[39;00m ex:\n\u001b[1;32m---> <a href='file:///c%3A/Users/alejandro.gl/Documents/Cerebellum/Quantum%20Computing/env_q/lib/site-packages/qiskit/aqua/utils/qp_solver.py?line=57'>58</a>\u001b[0m     \u001b[39mraise\u001b[39;00m MissingOptionalLibraryError(\n\u001b[0;32m     <a href='file:///c%3A/Users/alejandro.gl/Documents/Cerebellum/Quantum%20Computing/env_q/lib/site-packages/qiskit/aqua/utils/qp_solver.py?line=58'>59</a>\u001b[0m         libname\u001b[39m=\u001b[39m\u001b[39m'\u001b[39m\u001b[39mCVXPY\u001b[39m\u001b[39m'\u001b[39m,\n\u001b[0;32m     <a href='file:///c%3A/Users/alejandro.gl/Documents/Cerebellum/Quantum%20Computing/env_q/lib/site-packages/qiskit/aqua/utils/qp_solver.py?line=59'>60</a>\u001b[0m         name\u001b[39m=\u001b[39m\u001b[39m'\u001b[39m\u001b[39moptimize_svm\u001b[39m\u001b[39m'\u001b[39m,\n\u001b[0;32m     <a href='file:///c%3A/Users/alejandro.gl/Documents/Cerebellum/Quantum%20Computing/env_q/lib/site-packages/qiskit/aqua/utils/qp_solver.py?line=60'>61</a>\u001b[0m         pip_install\u001b[39m=\u001b[39m\u001b[39m\"\u001b[39m\u001b[39mpip install \u001b[39m\u001b[39m'\u001b[39m\u001b[39mqiskit-aqua[cvx]\u001b[39m\u001b[39m'\u001b[39m\u001b[39m\"\u001b[39m,\n\u001b[0;32m     <a href='file:///c%3A/Users/alejandro.gl/Documents/Cerebellum/Quantum%20Computing/env_q/lib/site-packages/qiskit/aqua/utils/qp_solver.py?line=61'>62</a>\u001b[0m         msg\u001b[39m=\u001b[39m\u001b[39mstr\u001b[39m(ex)) \u001b[39mfrom\u001b[39;00m \u001b[39mex\u001b[39;00m\n\u001b[0;32m     <a href='file:///c%3A/Users/alejandro.gl/Documents/Cerebellum/Quantum%20Computing/env_q/lib/site-packages/qiskit/aqua/utils/qp_solver.py?line=63'>64</a>\u001b[0m \u001b[39mif\u001b[39;00m max_iters \u001b[39mis\u001b[39;00m \u001b[39mnot\u001b[39;00m \u001b[39mNone\u001b[39;00m:\n\u001b[0;32m     <a href='file:///c%3A/Users/alejandro.gl/Documents/Cerebellum/Quantum%20Computing/env_q/lib/site-packages/qiskit/aqua/utils/qp_solver.py?line=64'>65</a>\u001b[0m     warnings\u001b[39m.\u001b[39mwarn(\u001b[39m'\u001b[39m\u001b[39mThe max_iters parameter is deprecated as of \u001b[39m\u001b[39m'\u001b[39m\n\u001b[0;32m     <a href='file:///c%3A/Users/alejandro.gl/Documents/Cerebellum/Quantum%20Computing/env_q/lib/site-packages/qiskit/aqua/utils/qp_solver.py?line=65'>66</a>\u001b[0m                   \u001b[39m'\u001b[39m\u001b[39m0.8.0 and will be removed no sooner than 3 months after the release. \u001b[39m\u001b[39m'\u001b[39m\n\u001b[0;32m     <a href='file:///c%3A/Users/alejandro.gl/Documents/Cerebellum/Quantum%20Computing/env_q/lib/site-packages/qiskit/aqua/utils/qp_solver.py?line=66'>67</a>\u001b[0m                   \u001b[39m'\u001b[39m\u001b[39mYou should use maxiter instead.\u001b[39m\u001b[39m'\u001b[39m,\n\u001b[0;32m     <a href='file:///c%3A/Users/alejandro.gl/Documents/Cerebellum/Quantum%20Computing/env_q/lib/site-packages/qiskit/aqua/utils/qp_solver.py?line=67'>68</a>\u001b[0m                   \u001b[39mDeprecationWarning\u001b[39;00m)\n",
      "\u001b[1;31mMissingOptionalLibraryError\u001b[0m: \"The 'CVXPY' library is required to use 'optimize_svm'. You can install it with 'pip install 'qiskit-aqua[cvx]''.  No module named 'scipy.sparse.linalg.eigen.arpack'; 'scipy.sparse.linalg.eigen' is not a package.\""
     ]
    }
   ],
   "source": [
    "backend = BasicAer.get_backend('qasm_simulator')\n",
    "feature_map = ZZFeatureMap(feature_dim, reps=2)\n",
    "svm= QSVM(feature_map, training_input, test_input, None)\n",
    "svm.random_seed = random_seed\n",
    "quantum_instance = QuantumInstance(backend, shots=shot, seed_simulator=random_seed,seed_transpiler= random_seed)\n",
    "result = svm.run(quantum_instance)"
   ]
  },
  {
   "cell_type": "code",
   "execution_count": 10,
   "metadata": {},
   "outputs": [
    {
     "data": {
      "text/plain": [
       "{'qiskit-terra': '0.20.2', 'qiskit-aer': '0.10.4', 'qiskit-ignis': '0.7.1', 'qiskit-ibmq-provider': '0.19.1', 'qiskit-aqua': '0.9.5', 'qiskit': '0.36.2', 'qiskit-nature': None, 'qiskit-finance': None, 'qiskit-optimization': None, 'qiskit-machine-learning': None}"
      ]
     },
     "execution_count": 10,
     "metadata": {},
     "output_type": "execute_result"
    }
   ],
   "source": [
    "qiskit.__qiskit_version__"
   ]
  },
  {
   "cell_type": "code",
   "execution_count": null,
   "metadata": {},
   "outputs": [],
   "source": []
  },
  {
   "cell_type": "code",
   "execution_count": null,
   "metadata": {},
   "outputs": [],
   "source": []
  },
  {
   "cell_type": "code",
   "execution_count": null,
   "metadata": {},
   "outputs": [],
   "source": []
  },
  {
   "cell_type": "code",
   "execution_count": null,
   "metadata": {},
   "outputs": [],
   "source": []
  },
  {
   "cell_type": "code",
   "execution_count": null,
   "metadata": {},
   "outputs": [],
   "source": []
  },
  {
   "cell_type": "code",
   "execution_count": null,
   "metadata": {},
   "outputs": [],
   "source": []
  }
 ],
 "metadata": {
  "kernelspec": {
   "display_name": "Python 3.10.7 ('env_q': venv)",
   "language": "python",
   "name": "python3"
  },
  "language_info": {
   "codemirror_mode": {
    "name": "ipython",
    "version": 3
   },
   "file_extension": ".py",
   "mimetype": "text/x-python",
   "name": "python",
   "nbconvert_exporter": "python",
   "pygments_lexer": "ipython3",
   "version": "3.10.7"
  },
  "orig_nbformat": 4,
  "vscode": {
   "interpreter": {
    "hash": "5c5f65bf42d6206e1c57117f942b147f5b7a64862f1f50f57b3fc6d1c3142406"
   }
  }
 },
 "nbformat": 4,
 "nbformat_minor": 2
}
