{
 "cells": [
  {
   "cell_type": "markdown",
   "metadata": {},
   "source": [
    "# De la luz al cómputo cuántico\n",
    "\n"
   ]
  },
  {
   "cell_type": "markdown",
   "metadata": {},
   "source": [
    "# ¿Qué es la luz? \n",
    "\n",
    "\n"
   ]
  },
  {
   "cell_type": "markdown",
   "metadata": {},
   "source": [
    "### Onda\n",
    "\n",
    "![](https://i.pinimg.com/originals/b8/26/f9/b826f935885f1b6144eb3dd76838178b.jpg)"
   ]
  },
  {
   "cell_type": "markdown",
   "metadata": {},
   "source": [
    "### Dualidad Onda-Partícula"
   ]
  },
  {
   "cell_type": "markdown",
   "metadata": {},
   "source": [
    "![](https://www.researchgate.net/profile/Ait-Mansour-El-Houssain/post/Why-is-wave-particle-duality-important/attachment/5f10133b3f16f9000123fbe4/AS%3A889605998010372%401589110006616/download/Double-slit.png)"
   ]
  },
  {
   "cell_type": "markdown",
   "metadata": {},
   "source": [
    "### Espectro electromagnético\n",
    "\n",
    "\n",
    "![](https://upload.wikimedia.org/wikipedia/commons/thumb/b/b3/EM_Spectrum_Properties_es.svg/1200px-EM_Spectrum_Properties_es.svg.png)"
   ]
  },
  {
   "cell_type": "markdown",
   "metadata": {},
   "source": [
    "### Experimentando sobre la Luz.\n",
    "\n",
    "###### ***Stern-Gerlach Experiment***\n",
    "\n",
    "\n",
    "![](https://www.researchgate.net/publication/334586888/figure/fig2/AS:782597097537536@1563597096632/Sketch-of-Stern-Gerlach-experiment-A-beam-of-silver-atoms-is-sent-through-an.png)\n"
   ]
  },
  {
   "cell_type": "markdown",
   "metadata": {},
   "source": [
    "### Cómputo Convencional y No-Convencional\n",
    "\n",
    "\n",
    "#### Clásicos\n",
    "\n",
    "\n",
    "###### **Ábaco**\n",
    "\n",
    "![](https://assets.sutori.com/user-uploads/image/619f9303-84b2-48d1-a8cc-6ac51e1b8a3e/1f29ba546b7bd8f75b7f127144460bbe.png)\n",
    "\n",
    "###### ***ENIAC***\n",
    "\n",
    "![](https://media.wired.com/photos/593233015c4fbd732b5512ab/191:100/w_1280,c_limit/eniac-ft.jpg)"
   ]
  },
  {
   "cell_type": "markdown",
   "metadata": {},
   "source": [
    "##### **DNA Computing** 🧬\n",
    "\n",
    "\n",
    "\n",
    "![](https://scx2.b-cdn.net/gfx/news/2022/dna-computer-using-gla.jpg)"
   ]
  },
  {
   "cell_type": "markdown",
   "metadata": {},
   "source": [
    "##### **Quantum Computing**\n",
    "\n",
    "![](https://www.popsci.com/uploads/2022/05/10/IBM-Quantum-scientist-Dr.-Maika-Takita-in-IBM-Quantum-lab-at-the-Thomas-J-Watson-Research-Center-Yorktown-Heights-New-York.jpg?auto=webp)"
   ]
  },
  {
   "cell_type": "markdown",
   "metadata": {},
   "source": [
    "### La chispa:\n",
    "\n",
    "![](https://modernciso.com/wp-content/uploads/2019/02/quote-nature-isn-t-classical-dammit-and-if-you-want-to-make-a-simulation-of-nature-you-d-better-richard-p-feynman-109-17-65.jpg)"
   ]
  },
  {
   "cell_type": "markdown",
   "metadata": {},
   "source": [
    "#### Características Claves del cómuto cuántico:\n",
    "\n",
    "- Tiene naturaleza probabilista\n",
    "- Se vale de fenómenos como la **superposición** y **entrelazamiento**."
   ]
  },
  {
   "cell_type": "markdown",
   "metadata": {},
   "source": [
    "## Superposición\n",
    "![](https://miro.medium.com/max/772/1*UaPu9leXvToCA4Pv9FWdkQ.png)\n",
    "![](https://miro.medium.com/max/1400/1*LnG2GvwfHGqefN9VJkzk8A.gif)\n"
   ]
  },
  {
   "cell_type": "markdown",
   "metadata": {},
   "source": [
    "### Entrelazamiento\n",
    "\n",
    "##### ***Teleportation?***\n",
    "\n",
    "![](https://caltechsites-prod.s3.amazonaws.com/scienceexchange/images/Entanglement-Main-Header-Imag.2e16d0ba.fill-933x525-c100.jpg)"
   ]
  },
  {
   "cell_type": "markdown",
   "metadata": {},
   "source": [
    "## Aplicaciones \n",
    "\n",
    "- Seguridad Informática!! 🔓🔐\n",
    "- Internet Super veloz.🏎️\n",
    "- Desarrollo de medicamentos y materiales⚗️🧪\n",
    "![](https://cqwbkpro.s3.eu-west-2.amazonaws.com/wp-content/uploads/2021/11/13205220/CQ-Publicaitons-Graph1.jpg)\n",
    "\n"
   ]
  },
  {
   "cell_type": "markdown",
   "metadata": {},
   "source": [
    "### Que es un Qubit\n",
    "\n",
    "- Quantum Bit o **qubit**\n",
    "- Puede pensarse como un punto sobre una esfera.\n",
    "- Pueden estar hechos de muchas maneras:\n",
    "  - Trampa de Iones (IonQ)\n",
    "  - Átomos Neutrales (ColdQuanta) ☃️\n",
    "  - Quantum Dots (Microsoft)\n",
    "  - **Circuitos Superconductores** (IBM) 🐍❤️"
   ]
  },
  {
   "cell_type": "markdown",
   "metadata": {},
   "source": [
    "## Computando entre bits y qubits\n",
    "\n",
    "\n",
    "- Un computador clásico puede decir que es de **n** cantidad de bits, es decir de una colección de $0,1$ \n",
    "\n",
    "- En un computador cuántico con **n** qubits, un estado de la máquina es una combinación de todas las posibles colecciones de 0, 1. \n",
    "\n",
    "¿Como así?:\n",
    "\n",
    "- Si para un computador clásico tengo $n=01$ bits.\n",
    "- Para uno cuántico por cada **n** tengo:\n",
    "\n",
    "$$a_1 = 00$$\n",
    "$$a_2 = 01$$\n",
    "$$a_3 = 10$$\n",
    "$$a_4 = 11$$\n",
    "\n",
    "Cada combinación posible de $0$ y  $1$ se le asigna un coeficiente $a_m$, que nos permite indicar que \"**hay más de una de esas combinaciones que otras**\". \n",
    "\n",
    "- En otras palabras la cantidad de información que contiene un estado concreto de un computador cuántico es  de tamaño **$2^n$** 🛸👀\n"
   ]
  },
  {
   "cell_type": "code",
   "execution_count": 2,
   "metadata": {},
   "outputs": [
    {
     "data": {
      "text/plain": [
       "65536"
      ]
     },
     "execution_count": 2,
     "metadata": {},
     "output_type": "execute_result"
    }
   ],
   "source": [
    "n = 16 # Tengo 16 bits para representar info \n",
    "qubits = 2**n # ¿Cuantos bits de info para representar info? \n",
    "qubits # 65.536 bits"
   ]
  },
  {
   "cell_type": "markdown",
   "metadata": {},
   "source": [
    "#### Esfera de Bloch"
   ]
  },
  {
   "cell_type": "code",
   "execution_count": 33,
   "metadata": {},
   "outputs": [
    {
     "data": {
      "text/html": [
       "\n",
       "        <iframe\n",
       "            width=\"950\"\n",
       "            height=\"700\"\n",
       "            src=\"https://javafxpert.github.io/grok-bloch/\"\n",
       "            frameborder=\"0\"\n",
       "            allowfullscreen\n",
       "            \n",
       "        ></iframe>\n",
       "        "
      ],
      "text/plain": [
       "<IPython.lib.display.IFrame at 0x1dc956df4c0>"
      ]
     },
     "execution_count": 33,
     "metadata": {},
     "output_type": "execute_result"
    }
   ],
   "source": [
    "# Bloch Sphere Playground Application\n",
    "from IPython.display import IFrame\n",
    "IFrame(src='https://javafxpert.github.io/grok-bloch/', width=950, height=700)"
   ]
  },
  {
   "cell_type": "markdown",
   "metadata": {},
   "source": [
    "##### ***IBM Quantum Osprey***\n",
    "\n",
    "###### 433 qubits"
   ]
  },
  {
   "cell_type": "markdown",
   "metadata": {},
   "source": [
    "![](https://newsroom.ibm.com/image/PR_body_ibm-quantum-osprey-processor-open-angle-black-background_52476814366_o.png)"
   ]
  },
  {
   "cell_type": "markdown",
   "metadata": {},
   "source": [
    "# Haciendo Computación cuántica.\n",
    "\n"
   ]
  },
  {
   "cell_type": "code",
   "execution_count": 6,
   "metadata": {},
   "outputs": [],
   "source": [
    "import numpy as np\n",
    "\n",
    "from qiskit import execute, Aer,QuantumCircuit\n",
    "from qiskit.visualization import plot_histogram\n"
   ]
  },
  {
   "cell_type": "markdown",
   "metadata": {},
   "source": [
    "$$\\ket{\\psi} = \\alpha\\ket{0} + \\beta\\ket{1} = \\begin{bmatrix}a\\\\b\\end{bmatrix}, \\alpha^2 + \\beta^2 = 1$$"
   ]
  },
  {
   "cell_type": "code",
   "execution_count": 21,
   "metadata": {},
   "outputs": [],
   "source": [
    "# Definir estados iniciales\n",
    "psi_state = [1/2, np.sqrt(3)/2] # Vector"
   ]
  },
  {
   "cell_type": "markdown",
   "metadata": {},
   "source": [
    "La probabilidad de medir 0 será de $\\frac{1}{2}^2$ y la probabilidad de medir 1 será de $\\frac{\\sqrt{3}}{2}^2$"
   ]
  },
  {
   "cell_type": "code",
   "execution_count": 28,
   "metadata": {},
   "outputs": [
    {
     "data": {
      "text/plain": [
       "<qiskit.circuit.instructionset.InstructionSet at 0x1dc95708430>"
      ]
     },
     "execution_count": 28,
     "metadata": {},
     "output_type": "execute_result"
    }
   ],
   "source": [
    "# Graficar Circuito\n",
    "qc = QuantumCircuit(2)\n",
    "qc.initialize(psi_state,0)"
   ]
  },
  {
   "cell_type": "code",
   "execution_count": 29,
   "metadata": {},
   "outputs": [
    {
     "data": {
      "text/plain": [
       "<qiskit.circuit.instructionset.InstructionSet at 0x1dc95709090>"
      ]
     },
     "execution_count": 29,
     "metadata": {},
     "output_type": "execute_result"
    }
   ],
   "source": [
    "qc.x(0) # "
   ]
  },
  {
   "cell_type": "code",
   "execution_count": 30,
   "metadata": {},
   "outputs": [],
   "source": [
    "backend = Aer.get_backend('statevector_simulator')"
   ]
  },
  {
   "cell_type": "code",
   "execution_count": 31,
   "metadata": {},
   "outputs": [
    {
     "data": {
      "image/png": "[encoded data removed]",
      "text/plain": [
       "<Figure size 700x500 with 1 Axes>"
      ]
     },
     "execution_count": 31,
     "metadata": {},
     "output_type": "execute_result"
    }
   ],
   "source": [
    "result = execute(qc,backend).result()\n",
    "counts = result.get_counts() \n",
    "plot_histogram(counts)"
   ]
  },
  {
   "cell_type": "code",
   "execution_count": 32,
   "metadata": {},
   "outputs": [
    {
     "data": {
      "image/png": "[encoded data removed]",
      "text/plain": [
       "<Figure size 370.906x200.667 with 1 Axes>"
      ]
     },
     "execution_count": 32,
     "metadata": {},
     "output_type": "execute_result"
    }
   ],
   "source": [
    "qc.draw(('mpl'))"
   ]
  },
  {
   "cell_type": "markdown",
   "metadata": {},
   "source": [
    "\n",
    "[IBM-Composer](https://quantum-computing.ibm.com/composer/files/2821d346333ae50ce1341b8b4231ad38b5bfa6fa126008d7dc959fe0a9a5e90b)"
   ]
  },
  {
   "cell_type": "markdown",
   "metadata": {},
   "source": [
    "https://quantum-computing.ibm.com/composer/files/new"
   ]
  },
  {
   "cell_type": "markdown",
   "metadata": {},
   "source": [
    "# Conclusiones"
   ]
  },
  {
   "cell_type": "markdown",
   "metadata": {},
   "source": [
    "- La luz es **radiación-electromagnética**✨ y una porción del espectro electromagnético\n",
    "- Un qubit puede pensarse como **un punto sobre una esfera**.🏐\n",
    "- Hacemos que el estado qubit \"**evolucione**\" usando álgebra lineal hasta que podemos medirlo!😎\n",
    "- La superposición, la aleatoreidad, en el entrelazamiento, son los fenómenos que diferencian el cómputo cuántico del clásico!\n",
    "\n",
    "- Todos podemos aprender computación cuántica🛸, **Sin prisa pero sin pausa.**"
   ]
  }
 ],
 "metadata": {
  "kernelspec": {
   "display_name": "Python 3.10.7 ('env_q': venv)",
   "language": "python",
   "name": "python3"
  },
  "language_info": {
   "codemirror_mode": {
    "name": "ipython",
    "version": 3
   },
   "file_extension": ".py",
   "mimetype": "text/x-python",
   "name": "python",
   "nbconvert_exporter": "python",
   "pygments_lexer": "ipython3",
   "version": "3.10.7"
  },
  "orig_nbformat": 4,
  "vscode": {
   "interpreter": {
    "hash": "5c5f65bf42d6206e1c57117f942b147f5b7a64862f1f50f57b3fc6d1c3142406"
   }
  }
 },
 "nbformat": 4,
 "nbformat_minor": 2
}
