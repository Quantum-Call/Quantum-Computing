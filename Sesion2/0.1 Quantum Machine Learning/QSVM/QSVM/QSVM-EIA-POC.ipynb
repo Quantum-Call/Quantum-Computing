{
 "cells": [
  {
   "cell_type": "markdown",
   "metadata": {},
   "source": [
    "# SVM\n",
    "\n",
    "Guía comprensiva para SVM. y para QSVM."
   ]
  },
  {
   "cell_type": "code",
   "execution_count": 1,
   "metadata": {},
   "outputs": [],
   "source": [
    "# Classic Libraries\n",
    "import numpy as np\n",
    "import pandas as pd\n",
    "import matplotlib.pyplot as plt\n",
    "import seaborn as sns\n",
    "from sklearn.datasets import load_iris\n",
    "from sklearn.datasets import load_breast_cancer \n",
    "from sklearn.model_selection import train_test_split\n",
    "from sklearn.metrics import accuracy_score\n",
    "from sklearn import svm "
   ]
  },
  {
   "cell_type": "markdown",
   "metadata": {},
   "source": [
    "## Hybrid Considerations.\n",
    "\n",
    "Parte del proceso matemático que sigue el SVM:\n",
    "|\n",
    "- Buscar los $\\vec{\\alpha}$ que minimicen la función L:\n",
    "\n",
    "$$L = -\\sum_{i=0}^{m}\\alpha_{i} + \\frac{1}{2} \\sum_{i=0}^{m} \\sum_{j=0}^{m} \\alpha_{i} \\alpha_{j} f(\\vec{x_{i}}) f(\\vec{x_{j}}) \\vec{x_{i}} \\cdot \\vec{x_{j}}$$\n",
    "\n",
    "Donde:\n",
    "- $\\vec{x_i}$ hace referencia a las características del i-ésimo dato punto, feature vector.\n",
    "- $f(\\vec{x_i})$ a su etiqueta correspondiente.\n",
    "\n",
    "Una vez minimizada la función $L$ a partir de $\\vec{\\alpha}$ se puede conseguir el hiperplano de clasificación, aquí se vuelve de interés, solo tenemos que cambiar un poco la función introduciendo $\\vec{\\phi}$ que será la función que mapeará de un plano a otro, así es que introduciremos el kernel."
   ]
  },
  {
   "cell_type": "markdown",
   "metadata": {},
   "source": [
    "Tan solo hay que cambiar la función a minimizar:\n",
    "\n",
    "$$L = -\\sum_{i=0}^{m}\\alpha_{i} + \\frac{1}{2} \\sum_{i=0}^{m} \\sum_{j=0}^{m} \\alpha_{i} \\alpha_{j} f(\\vec{x_{i}}) f(\\vec{x_{j}}) \\phi(\\vec{x_{i}}) \\cdot \\phi(\\vec{x_{j}})$$\n",
    "\n",
    "Por tanto, lo que haremos será calcular todos lo productos internos a traves del nuestra función de mapeo, es decir, la matriz de Gramm, esta matriz esta compeusta de productos; calcularemos los productos internos $\\phi(\\vec{x_{i}}) \\cdot \\phi(\\vec{x_{j}})$\n",
    "\n",
    "Ejmeplo:\n",
    "\n",
    "Digamos que tenemos un vector:\n",
    "\n",
    "- $(\\vec{x_{i}})$ = [0.5, 1.3]\n",
    "\n",
    " \n",
    "Debido a esto codificaremos en fase, para ello podemos usar las compuertas $R_x ,  R_y$, sin embargo si quisiera cambiar el espacio en el que están solo tendría que aplicar otras compuertas, como en el ejemplo:\n"
   ]
  },
  {
   "cell_type": "markdown",
   "metadata": {},
   "source": [
    "En otras palabras tendremos que:\n",
    "\n",
    "\n",
    "$$\\phi(\\vec{x_{i}}) = U(\\vec{x_{i}})\\ket{00}$$\n",
    "\n",
    "\n",
    "Para minimizar la función nos interesa el producto interno de $\\phi(\\vec{x_{i}}) \\cdot \\phi(\\vec{x_{j}})$, por lo que según lo anterior, tendríamos:\n",
    "\n",
    "______________________\n",
    "$$ \\bra{00}U(\\vec{x_{i}})^tU(\\vec{x_{j}})\\ket{00}$$\n",
    "______________________"
   ]
  },
  {
   "cell_type": "markdown",
   "metadata": {},
   "source": [
    "La expresión anterior puede ser contener un número imaginario y podríamos calcular el modulo al cuadrado de la expresión quedarnos con la parte real:\n",
    "\n",
    "______________________\n",
    "$$|\\bra{00}U(\\vec{x_{i}})^tU(\\vec{x_{j}})\\ket{00}|^2$$\n",
    "______________________\n",
    "\n",
    "Para calcular la expresión anterior podemos usar el SWAP TEST, otra opción es construir ese circuito (de esa expresión), y calcular la probabilidad de obtener $\\bra{00}$, es equivalente, a obtener el producto interno."
   ]
  },
  {
   "cell_type": "markdown",
   "metadata": {},
   "source": [
    "## Matriz de Gram.\n",
    "\n",
    "Es la matriz que almacena los productos internos de $\\phi(\\vec{x_{i}}) \\cdot \\phi(\\vec{x_{j}})$. Esta se ve así, para cada producto de los vectores.\n",
    "\n",
    "$$\\begin{pmatrix}\\phi(\\vec{x_{0}}) \\cdot \\phi(\\vec{x_{0}})&...&...\\\\&...&...\\\\&...&...\\\\&...&...\\\\&...&\\phi(\\vec{x_{n}}) \\cdot \\phi(\\vec{x_{m}})\\end{pmatrix}$$\n",
    "\n",
    "Esto es lo que le introducimos como dato al SVM para pueda minimzar la función.\n"
   ]
  },
  {
   "cell_type": "code",
   "execution_count": 2,
   "metadata": {},
   "outputs": [
    {
     "ename": "ModuleNotFoundError",
     "evalue": "No module named 'pennylane'",
     "output_type": "error",
     "traceback": [
      "\u001b[1;31m---------------------------------------------------------------------------\u001b[0m",
      "\u001b[1;31mModuleNotFoundError\u001b[0m                       Traceback (most recent call last)",
      "Cell \u001b[1;32mIn [2], line 2\u001b[0m\n\u001b[0;32m      1\u001b[0m \u001b[39m#Quantum dependencies\u001b[39;00m\n\u001b[1;32m----> 2\u001b[0m \u001b[39mimport\u001b[39;00m \u001b[39mpennylane\u001b[39;00m \u001b[39mas\u001b[39;00m \u001b[39mqml\u001b[39;00m\n\u001b[0;32m      3\u001b[0m \u001b[39mfrom\u001b[39;00m \u001b[39mpennylane\u001b[39;00m \u001b[39mimport\u001b[39;00m numpy \u001b[39mas\u001b[39;00m np\n\u001b[0;32m      4\u001b[0m \u001b[39mimport\u001b[39;00m \u001b[39mmatplotlib\u001b[39;00m\u001b[39m.\u001b[39;00m\u001b[39mpyplot\u001b[39;00m \u001b[39mas\u001b[39;00m \u001b[39mplt\u001b[39;00m\n",
      "\u001b[1;31mModuleNotFoundError\u001b[0m: No module named 'pennylane'"
     ]
    }
   ],
   "source": [
    "#Quantum dependencies\n",
    "import pennylane as qml\n",
    "from pennylane import numpy as np\n",
    "import matplotlib.pyplot as plt\n",
    "from time import time\n",
    "from sklearn import svm\n",
    "import scipy"
   ]
  },
  {
   "cell_type": "markdown",
   "metadata": {},
   "source": [
    "## Load data\n",
    "\n",
    "- Creamos dataset ficticio y hacemos los split de datos normales."
   ]
  },
  {
   "cell_type": "code",
   "execution_count": null,
   "metadata": {},
   "outputs": [
    {
     "name": "stdout",
     "output_type": "stream",
     "text": [
      "120\n"
     ]
    },
    {
     "data": {
      "image/png": "[encoded data removed]",
      "text/plain": [
       "<Figure size 432x288 with 1 Axes>"
      ]
     },
     "metadata": {
      "needs_background": "light"
     },
     "output_type": "display_data"
    }
   ],
   "source": [
    "n_samples = 30 * 4\n",
    "A = np.array([[np.random.normal(loc=0), np.random.normal(loc=2)] for i in range(n_samples//4)]) \n",
    "B = np.array([[np.random.normal(loc=2), np.random.normal(loc=-2)] for i in range(n_samples//4)]) \n",
    "C = np.array([[np.random.normal(loc=2), np.random.normal(loc=2)] for i in range(n_samples//4)]) \n",
    "D = np.array([[np.random.normal(loc=-2), np.random.normal(loc=-2)] for i in range(n_samples//4)])\n",
    "\n",
    "feature = np.concatenate([A, B,C,D], axis=0)/4\n",
    "label = np.concatenate([-np.ones(n_samples // 2), np.ones(n_samples//2)], axis=0)\n",
    "data = list(zip(feature, label))\n",
    "\n",
    "np.random.shuffle(data)\n",
    "print(len(data))\n",
    "plt.scatter(A[:,0], A[:,1], color = \"orange\")\n",
    "plt.scatter(B[:,0], B[:,1], color = \"orange\")\n",
    "plt.scatter(C[:,0], C[:,1], color = \"blue\")\n",
    "plt.scatter(D[:,0], D[:,1], color = \"blue\")\n",
    "plt.show()"
   ]
  },
  {
   "cell_type": "code",
   "execution_count": null,
   "metadata": {},
   "outputs": [],
   "source": [
    "porcentaje_train = 0.5\n",
    "m = int(porcentaje_train * n_samples)\n",
    "\n",
    "\n",
    "x_train = np.array([data[i][0] for i in range(m)])\n",
    "y_train = np.array([data[i][1] for i in range(m)])\n",
    "x_test = np.array([data[i][0] for i in range(m,n_samples)])\n",
    "y_test = np.array([data[i][1] for i in range(m,n_samples)])\n",
    "\n",
    "n = len(x_train[0])\n"
   ]
  },
  {
   "cell_type": "markdown",
   "metadata": {},
   "source": [
    "- **Feature Map**: Mapa de caracteristica, función que estamos mapeando. Es la función que podemos crear nuestro propio vector inicial que mapea en ese espacio como queremos."
   ]
  },
  {
   "cell_type": "code",
   "execution_count": null,
   "metadata": {},
   "outputs": [],
   "source": [
    "\n",
    "## Sección Optimizable -Circuito.\n",
    "@qml.template\n",
    "def feature_map(x):\n",
    "    \n",
    "    # ZZMap modificado\n",
    "    for i in range(2):\n",
    "        qml.Hadamard(wires = i)\n",
    "\n",
    "\n",
    "    qml.RZ(2*x[0], wires = 0)\n",
    "    qml.RZ(2*x[1], wires = 1)\n",
    "    qml.CNOT(wires = [0,1])\n",
    "    qml.RZ(2*(np.pi - x[0])*(np.pi - x[1]), wires = 1)\n",
    "    qml.CNOT(wires = [0,1])\n",
    "    "
   ]
  },
  {
   "cell_type": "markdown",
   "metadata": {},
   "source": [
    "Aqui podemos construir circuitio: $U^t\\vec{x_{i}}U(\\vec{x_{j}})$ y aplicarlo sobre el $\\ket{00}$"
   ]
  },
  {
   "cell_type": "code",
   "execution_count": null,
   "metadata": {},
   "outputs": [],
   "source": [
    "dev = qml.device(\"default.qubit\", wires = n)      \n",
    "@qml.qnode(dev)\n",
    "def circuit(x,y):\n",
    "    feature_map(y)\n",
    "    qml.adjoint(feature_map)(x)\n",
    "    return qml.probs(wires = range(n))\n",
    "\n"
   ]
  },
  {
   "cell_type": "markdown",
   "metadata": {},
   "source": [
    "Es la probabilidad de observar el 0, como producto escalar."
   ]
  },
  {
   "cell_type": "code",
   "execution_count": null,
   "metadata": {},
   "outputs": [],
   "source": [
    "# devuelve el valor final del producto interno\n",
    "def scalar_product(x,y):\n",
    "    probs = circuit(x,y)\n",
    "    return probs[0]"
   ]
  },
  {
   "cell_type": "markdown",
   "metadata": {},
   "source": [
    "Calcularemos la matriz de productos internos."
   ]
  },
  {
   "cell_type": "code",
   "execution_count": null,
   "metadata": {},
   "outputs": [],
   "source": [
    "# Esto es básicament elo que se mete en el Kernel\n",
    "def KernelGramMatrixFull(X1, X2):\n",
    "    print(\"Calculando matriz de Gram\")\n",
    "    gram_matrix = np.zeros((X1.shape[0], X2.shape[0]))\n",
    "    \n",
    "    for i, x1 in enumerate(X1):\n",
    "        for j, x2 in enumerate(X2):\n",
    "            \n",
    "            x1 = x1.flatten()\n",
    "            x2 = x2.flatten()\n",
    "            \n",
    "            gram_matrix[i, j] = scalar_product(x1,x2)\n",
    "            \n",
    "    return gram_matrix\n"
   ]
  },
  {
   "cell_type": "markdown",
   "metadata": {},
   "source": [
    "Entrenamos el SVM, usando sklearn para poder aprovecharnos de las funcioens de minimización."
   ]
  },
  {
   "cell_type": "code",
   "execution_count": null,
   "metadata": {},
   "outputs": [
    {
     "name": "stdout",
     "output_type": "stream",
     "text": [
      "Calculando matriz de Gram\n"
     ]
    },
    {
     "name": "stderr",
     "output_type": "stream",
     "text": [
      "C:\\Users\\alejandro.gl\\AppData\\Local\\Temp\\ipykernel_50512\\3916297289.py:4: UserWarning: The template decorator is deprecated and will be removed in release v0.20.0\n",
      "  feature_map(y)\n",
      "c:\\Users\\alejandro.gl\\Documents\\Cerebellum\\Quantum Computing\\env_q\\lib\\site-packages\\pennylane\\transforms\\adjoint.py:115: UserWarning: The template decorator is deprecated and will be removed in release v0.20.0\n",
      "  fn(*args, **kwargs)\n"
     ]
    },
    {
     "name": "stdout",
     "output_type": "stream",
     "text": [
      "Entrenando...\n"
     ]
    },
    {
     "data": {
      "text/html": [
       "<style>#sk-container-id-1 {color: black;background-color: white;}#sk-container-id-1 pre{padding: 0;}#sk-container-id-1 div.sk-toggleable {background-color: white;}#sk-container-id-1 label.sk-toggleable__label {cursor: pointer;display: block;width: 100%;margin-bottom: 0;padding: 0.3em;box-sizing: border-box;text-align: center;}#sk-container-id-1 label.sk-toggleable__label-arrow:before {content: \"▸\";float: left;margin-right: 0.25em;color: #696969;}#sk-container-id-1 label.sk-toggleable__label-arrow:hover:before {color: black;}#sk-container-id-1 div.sk-estimator:hover label.sk-toggleable__label-arrow:before {color: black;}#sk-container-id-1 div.sk-toggleable__content {max-height: 0;max-width: 0;overflow: hidden;text-align: left;background-color: #f0f8ff;}#sk-container-id-1 div.sk-toggleable__content pre {margin: 0.2em;color: black;border-radius: 0.25em;background-color: #f0f8ff;}#sk-container-id-1 input.sk-toggleable__control:checked~div.sk-toggleable__content {max-height: 200px;max-width: 100%;overflow: auto;}#sk-container-id-1 input.sk-toggleable__control:checked~label.sk-toggleable__label-arrow:before {content: \"▾\";}#sk-container-id-1 div.sk-estimator input.sk-toggleable__control:checked~label.sk-toggleable__label {background-color: #d4ebff;}#sk-container-id-1 div.sk-label input.sk-toggleable__control:checked~label.sk-toggleable__label {background-color: #d4ebff;}#sk-container-id-1 input.sk-hidden--visually {border: 0;clip: rect(1px 1px 1px 1px);clip: rect(1px, 1px, 1px, 1px);height: 1px;margin: -1px;overflow: hidden;padding: 0;position: absolute;width: 1px;}#sk-container-id-1 div.sk-estimator {font-family: monospace;background-color: #f0f8ff;border: 1px dotted black;border-radius: 0.25em;box-sizing: border-box;margin-bottom: 0.5em;}#sk-container-id-1 div.sk-estimator:hover {background-color: #d4ebff;}#sk-container-id-1 div.sk-parallel-item::after {content: \"\";width: 100%;border-bottom: 1px solid gray;flex-grow: 1;}#sk-container-id-1 div.sk-label:hover label.sk-toggleable__label {background-color: #d4ebff;}#sk-container-id-1 div.sk-serial::before {content: \"\";position: absolute;border-left: 1px solid gray;box-sizing: border-box;top: 0;bottom: 0;left: 50%;z-index: 0;}#sk-container-id-1 div.sk-serial {display: flex;flex-direction: column;align-items: center;background-color: white;padding-right: 0.2em;padding-left: 0.2em;position: relative;}#sk-container-id-1 div.sk-item {position: relative;z-index: 1;}#sk-container-id-1 div.sk-parallel {display: flex;align-items: stretch;justify-content: center;background-color: white;position: relative;}#sk-container-id-1 div.sk-item::before, #sk-container-id-1 div.sk-parallel-item::before {content: \"\";position: absolute;border-left: 1px solid gray;box-sizing: border-box;top: 0;bottom: 0;left: 50%;z-index: -1;}#sk-container-id-1 div.sk-parallel-item {display: flex;flex-direction: column;z-index: 1;position: relative;background-color: white;}#sk-container-id-1 div.sk-parallel-item:first-child::after {align-self: flex-end;width: 50%;}#sk-container-id-1 div.sk-parallel-item:last-child::after {align-self: flex-start;width: 50%;}#sk-container-id-1 div.sk-parallel-item:only-child::after {width: 0;}#sk-container-id-1 div.sk-dashed-wrapped {border: 1px dashed gray;margin: 0 0.4em 0.5em 0.4em;box-sizing: border-box;padding-bottom: 0.4em;background-color: white;}#sk-container-id-1 div.sk-label label {font-family: monospace;font-weight: bold;display: inline-block;line-height: 1.2em;}#sk-container-id-1 div.sk-label-container {text-align: center;}#sk-container-id-1 div.sk-container {/* jupyter's `normalize.less` sets `[hidden] { display: none; }` but bootstrap.min.css set `[hidden] { display: none !important; }` so we also need the `!important` here to be able to override the default hidden behavior on the sphinx rendered scikit-learn.org. See: https://github.com/scikit-learn/scikit-learn/issues/21755 */display: inline-block !important;position: relative;}#sk-container-id-1 div.sk-text-repr-fallback {display: none;}</style><div id=\"sk-container-id-1\" class=\"sk-top-container\"><div class=\"sk-text-repr-fallback\"><pre>SVC(kernel=&#x27;precomputed&#x27;)</pre><b>In a Jupyter environment, please rerun this cell to show the HTML representation or trust the notebook. <br />On GitHub, the HTML representation is unable to render, please try loading this page with nbviewer.org.</b></div><div class=\"sk-container\" hidden><div class=\"sk-item\"><div class=\"sk-estimator sk-toggleable\"><input class=\"sk-toggleable__control sk-hidden--visually\" id=\"sk-estimator-id-1\" type=\"checkbox\" checked><label for=\"sk-estimator-id-1\" class=\"sk-toggleable__label sk-toggleable__label-arrow\">SVC</label><div class=\"sk-toggleable__content\"><pre>SVC(kernel=&#x27;precomputed&#x27;)</pre></div></div></div></div></div>"
      ],
      "text/plain": [
       "SVC(kernel='precomputed')"
      ]
     },
     "execution_count": 10,
     "metadata": {},
     "output_type": "execute_result"
    }
   ],
   "source": [
    "clf = svm.SVC(kernel=\"precomputed\")\n",
    "matrix = KernelGramMatrixFull(x_train,x_train)\n",
    "print(\"Entrenando...\")\n",
    "clf.fit(matrix, y_train)\n"
   ]
  },
  {
   "cell_type": "markdown",
   "metadata": {},
   "source": [
    "Cosntruimos la matriz de Gramm junto los datos de entrenamiento y prueba también."
   ]
  },
  {
   "cell_type": "code",
   "execution_count": null,
   "metadata": {},
   "outputs": [
    {
     "name": "stdout",
     "output_type": "stream",
     "text": [
      "Comprobando con test...\n",
      "Calculando matriz de Gram\n"
     ]
    },
    {
     "name": "stderr",
     "output_type": "stream",
     "text": [
      "C:\\Users\\alejandro.gl\\AppData\\Local\\Temp\\ipykernel_50512\\3916297289.py:4: UserWarning: The template decorator is deprecated and will be removed in release v0.20.0\n",
      "  feature_map(y)\n",
      "c:\\Users\\alejandro.gl\\Documents\\Cerebellum\\Quantum Computing\\env_q\\lib\\site-packages\\pennylane\\transforms\\adjoint.py:115: UserWarning: The template decorator is deprecated and will be removed in release v0.20.0\n",
      "  fn(*args, **kwargs)\n"
     ]
    },
    {
     "name": "stdout",
     "output_type": "stream",
     "text": [
      "Precisión del test:  81.66666666666667 %\n"
     ]
    }
   ],
   "source": [
    "#test\n",
    "print(\"Comprobando con test...\")\n",
    "sol = clf.predict(KernelGramMatrixFull(x_test,x_train))\n",
    "success = 0\n",
    "for i in range(len(y_test)):\n",
    "    if sol[i] == y_test[i]:\n",
    "        success += 1\n",
    "        \n",
    "print(\"Precisión del test: \", success/len(sol)*100, \"%\")\n"
   ]
  },
  {
   "cell_type": "markdown",
   "metadata": {},
   "source": [
    "Realizar chunk de compración."
   ]
  },
  {
   "cell_type": "code",
   "execution_count": null,
   "metadata": {},
   "outputs": [
    {
     "name": "stdout",
     "output_type": "stream",
     "text": [
      "predicción\n"
     ]
    },
    {
     "data": {
      "image/png": "[encoded data removed]",
      "text/plain": [
       "<Figure size 432x288 with 1 Axes>"
      ]
     },
     "metadata": {
      "needs_background": "light"
     },
     "output_type": "display_data"
    }
   ],
   "source": [
    "print(\"predicción\")\n",
    "\n",
    "for i in range(len(x_test)):\n",
    "    color =\"blue\"\n",
    "    if sol[i] ==-1:\n",
    "        color=\"red\"\n",
    "    plt.scatter(x_test[i,0], x_test[i,1], color=color)\n",
    "\n",
    "plt.show()"
   ]
  },
  {
   "cell_type": "code",
   "execution_count": null,
   "metadata": {},
   "outputs": [
    {
     "name": "stdout",
     "output_type": "stream",
     "text": [
      "real\n"
     ]
    },
    {
     "data": {
      "image/png": "[encoded data removed]",
      "text/plain": [
       "<Figure size 432x288 with 1 Axes>"
      ]
     },
     "metadata": {
      "needs_background": "light"
     },
     "output_type": "display_data"
    }
   ],
   "source": [
    "print(\"real\")\n",
    "\n",
    "for i in range(len(x_test)):\n",
    "    color =\"blue\"\n",
    "    if y_test[i] ==-1:\n",
    "        color=\"red\"\n",
    "    plt.scatter(x_test[i,0], x_test[i,1], color=color)\n",
    "\n",
    "plt.show()"
   ]
  },
  {
   "cell_type": "code",
   "execution_count": null,
   "metadata": {},
   "outputs": [],
   "source": []
  }
 ],
 "metadata": {
  "kernelspec": {
   "display_name": "Python 3.10.7 ('env_q': venv)",
   "language": "python",
   "name": "python3"
  },
  "language_info": {
   "codemirror_mode": {
    "name": "ipython",
    "version": 3
   },
   "file_extension": ".py",
   "mimetype": "text/x-python",
   "name": "python",
   "nbconvert_exporter": "python",
   "pygments_lexer": "ipython3",
   "version": "3.10.7"
  },
  "orig_nbformat": 4,
  "vscode": {
   "interpreter": {
    "hash": "5c5f65bf42d6206e1c57117f942b147f5b7a64862f1f50f57b3fc6d1c3142406"
   }
  }
 },
 "nbformat": 4,
 "nbformat_minor": 2
}
