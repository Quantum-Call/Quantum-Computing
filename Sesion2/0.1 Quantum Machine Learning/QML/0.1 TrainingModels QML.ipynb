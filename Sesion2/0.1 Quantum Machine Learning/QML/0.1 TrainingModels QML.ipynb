{
 "cells": [
  {
   "cell_type": "markdown",
   "metadata": {},
   "source": [
    "\n",
    "# refrencias\n",
    "\n",
    "https://towardsdatascience.com/visualizing-quantum-computation-7f2c911b0a63\n",
    "\n",
    "[Trainin](https://levelup.gitconnected.com/example-vs-reality-how-can-i-start-a-quantum-machine-learning-model-from-a-csv-389f98d3ad36)"
   ]
  },
  {
   "cell_type": "code",
   "execution_count": null,
   "metadata": {},
   "outputs": [],
   "source": []
  }
 ],
 "metadata": {
  "kernelspec": {
   "display_name": "Python 3.8.8 ('env_q': venv)",
   "language": "python",
   "name": "python3"
  },
  "language_info": {
   "name": "python",
   "version": "3.8.8"
  },
  "orig_nbformat": 4,
  "vscode": {
   "interpreter": {
    "hash": "bd6e4bacb7db89c65224064565ee233b61b65f87508f025a56f4dfe92ea41ac3"
   }
  }
 },
 "nbformat": 4,
 "nbformat_minor": 2
}
