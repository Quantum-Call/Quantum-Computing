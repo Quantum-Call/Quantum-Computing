{
 "cells": [
  {
   "cell_type": "markdown",
   "metadata": {},
   "source": [
    "# Shor\n",
    "\n",
    "Las explicaciones de los videos algoritomos desut,Grover  y Shor, las puedo profundizar muchísimo, reciclar los notebooks de Atila"
   ]
  },
  {
   "cell_type": "code",
   "execution_count": null,
   "metadata": {},
   "outputs": [],
   "source": []
  }
 ],
 "metadata": {
  "kernelspec": {
   "display_name": "Python 3.8.8 ('env_q': venv)",
   "language": "python",
   "name": "python3"
  },
  "language_info": {
   "name": "python",
   "version": "3.8.8"
  },
  "orig_nbformat": 4,
  "vscode": {
   "interpreter": {
    "hash": "bd6e4bacb7db89c65224064565ee233b61b65f87508f025a56f4dfe92ea41ac3"
   }
  }
 },
 "nbformat": 4,
 "nbformat_minor": 2
}
