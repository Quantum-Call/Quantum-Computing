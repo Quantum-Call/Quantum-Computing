{
 "cells": [
  {
   "cell_type": "markdown",
   "metadata": {},
   "source": [
    "# Schmidt Decomposition\n",
    "\n",
    "Es una forma de representar multiples qubits en un solo estado, sin embargo existen qubits que no se pueden representar así estos son aquellos que están entrelazados.\n",
    "\n",
    "Digamos que tenemos dos qubits $\\ket{\\psi}, \\ket{\\phi}$ en su representación de bases, y quiero representar estos dos qubits juntos. Y esto lo podemos lograr así:\n",
    "\n",
    "$$\\ket{\\psi\\phi}=?$$\n",
    "\n",
    "Si sabemos que :\n",
    "\n",
    "$$\\ket{\\psi} \\epsilon (H_1, \\ket{\\phi} \\epsilon H_2)$$\n",
    "\n",
    "Entonces debe existir un \n",
    "\n",
    "$$\\ket{\\psi\\phi}, \\ket{w}  \\epsilon (H_1 \\otimes H_2)$$\n",
    "\n",
    "La idea es representar un qubit d ealta dimensionalidad en sus consituentes o un qubit de menor dimensionalidad\n",
    "\n",
    "Sabemos que de nuestros kets tenemos:\n",
    "\n",
    "$$\\ket{\\psi} = \\sum_{i=0}^na_iA_i$$\n",
    "$$\\ket{\\phi} = \\sum_{j=0}^nb_iB_i$$\n",
    "\n",
    "Y si quisieramos entonces representar nuestros qubits en un mismo estado podemos:\n",
    "\n",
    "$$\\ket{\\psi\\phi} = \\sum_{0\\leq i\\leq m, 1\\leq j \\leq m }^n(a_i*bj)A_i\\otimes B_i$$\n",
    "\n",
    "Nuestros productos tensoriales nos permitirán representar esto, es decir lo anterior representa nuestro qubit en alta dimensionalidad, mostrando la información junta. Operando por sus bases correspondientes apra los dos vectores:\n",
    "\n",
    "$$\\ket{\\psi\\phi} = a_0b_0\\ket{0} \\otimes \\ket{0} + a_0b_1\\ket{0} \\otimes \\ket{1} + a_1b_0\\ket{1} \\otimes \\ket{0} + a_1b_1\\ket{1} \\otimes \\ket{1}$$\n",
    "\n",
    "Una vez resolvemos los productos tensoriales para neustras bases obtenemos una base para nuestros qubits representados en un mismo estado\n",
    "\n",
    "$$\\ket{\\psi\\phi} = a_0b_0\\ket{00} + a_0b_1\\ket{01} + a_1b_0\\ket{10} + a_1b_1\\ket{11}$$\n",
    "\n",
    "\n",
    "## Estados de Bell\n",
    "\n",
    "¿Es posible representar todos los qubits así?\n",
    "\n",
    "No, es imposible para algunso estados\n",
    "\n",
    "Como estos:\n",
    "\n",
    "$$\\ket{B_0}= \\frac{1}{\\sqrt{2}}\\ket{00} + \\frac{1}{\\sqrt{2}}\\ket{11}$$\n",
    "$$\\ket{B_0}= \\frac{1}{\\sqrt{2}}\\ket{01} + \\frac{1}{\\sqrt{2}}\\ket{10}$$\n",
    "\n",
    "$$\\ket{B_0}= \\frac{1}{\\sqrt{2}}\\ket{00} - \\frac{1}{\\sqrt{2}}\\ket{11}$$\n",
    "$$\\ket{B_0}= \\frac{1}{\\sqrt{2}}\\ket{01} - \\frac{1}{\\sqrt{2}}\\ket{10}$$\n",
    "\n",
    "Para entender esto físicamente, tenemso dos esferas que cada una posee nuestro qubit., de acuerdo a los estaos de Bell, si yo en una sfera tengo un $\\ket{0}$ en la otra esfera tengo el mismo estado obligatoriamente, esto abre el concepto de qubits entrelazados."
   ]
  },
  {
   "cell_type": "code",
   "execution_count": 2,
   "metadata": {},
   "outputs": [],
   "source": [
    "from qiskit import *\n",
    "import qiskit.visualization as viz\n",
    "import numpy as np\n",
    "import matplotlib.pyplot as plt"
   ]
  },
  {
   "cell_type": "markdown",
   "metadata": {},
   "source": [
    "Revisemos:\n",
    "\n",
    "\n",
    "-- Aquí será bueno mostrar la matriz de CNOT y también remitirse a la animación  seccion 2 numero 18. Para mostrar como a medida que los qubits van pasando por las compuertas este toma un estado positivo, gracias a la compuerta de Hadamard y cualquier medición que hagamos en un qubit, nos dará igual para el qubit entrelazado.\n"
   ]
  },
  {
   "cell_type": "code",
   "execution_count": 3,
   "metadata": {},
   "outputs": [
    {
     "data": {
      "text/plain": [
       "<qiskit.circuit.instructionset.InstructionSet at 0x183e3b84970>"
      ]
     },
     "execution_count": 3,
     "metadata": {},
     "output_type": "execute_result"
    }
   ],
   "source": [
    "circuit = QuantumCircuit(2,2)\n",
    "circuit.h(0)\n",
    "circuit.cx(0,1)\n",
    "circuit.measure(0,0)\n",
    "circuit.measure(1,1)"
   ]
  },
  {
   "cell_type": "code",
   "execution_count": 18,
   "metadata": {},
   "outputs": [
    {
     "data": {
      "image/png": "[encoded data removed]",
      "text/plain": [
       "<Figure size 327.252x204.68 with 1 Axes>"
      ]
     },
     "execution_count": 18,
     "metadata": {},
     "output_type": "execute_result"
    }
   ],
   "source": [
    "circuit.draw(output='mpl')\n"
   ]
  },
  {
   "cell_type": "code",
   "execution_count": 8,
   "metadata": {},
   "outputs": [],
   "source": []
  },
  {
   "cell_type": "code",
   "execution_count": 13,
   "metadata": {},
   "outputs": [],
   "source": [
    "def entanglenment_random(circuit, backend, times=10):\n",
    "    # outcomes\n",
    "    measures = []\n",
    "    for j in range(0,times):\n",
    "        outcome =  execute(circuit,backend).result()\n",
    "        values = outcome.get_counts()\n",
    "\n",
    "        for i in values.keys():\n",
    "            measures.append(i)  \n",
    "    \n",
    "    return measures"
   ]
  },
  {
   "cell_type": "markdown",
   "metadata": {},
   "source": [
    "El siguiente loop demeustra como sin importar cuantas veces lo ejecute, siempre tendremos estas parejas en la que si un qubit es 0 o 1 el otro estado lo es también $\\ket{0}$ y $\\ket{1}$ respectivamente."
   ]
  },
  {
   "cell_type": "code",
   "execution_count": 17,
   "metadata": {},
   "outputs": [
    {
     "name": "stdout",
     "output_type": "stream",
     "text": [
      "['11', '11', '00', '11', '00', '00', '00', '11', '11', '11']\n",
      "['11', '11', '00', '00', '00', '00', '11', '11', '00', '11']\n",
      "['11', '00', '00', '11', '00', '11', '11', '00', '11', '00']\n",
      "['11', '00', '00', '00', '11', '00', '11', '00', '00', '11']\n",
      "['00', '11', '00', '00', '11', '00', '11', '11', '00', '00']\n",
      "['00', '00', '11', '11', '11', '00', '00', '11', '00', '00']\n",
      "['11', '00', '11', '11', '11', '00', '11', '11', '00', '00']\n",
      "['00', '00', '11', '00', '11', '11', '11', '11', '11', '11']\n",
      "['00', '11', '00', '00', '11', '11', '11', '00', '00', '00']\n",
      "['11', '00', '00', '11', '11', '00', '00', '11', '00', '00']\n"
     ]
    }
   ],
   "source": [
    "for i in range(0,10):\n",
    "    r = entanglenment_random(circuit,backend)\n",
    "    print(r)"
   ]
  },
  {
   "cell_type": "markdown",
   "metadata": {},
   "source": [
    "Cada vez que ejecutamos la función, los valores que obtenemos si bien son aleatorios, ahora están entrelazados."
   ]
  },
  {
   "cell_type": "code",
   "execution_count": 15,
   "metadata": {},
   "outputs": [
    {
     "data": {
      "text/plain": [
       "['11', '11', '11', '11', '11', '11', '11', '00', '11', '00']"
      ]
     },
     "execution_count": 15,
     "metadata": {},
     "output_type": "execute_result"
    }
   ],
   "source": []
  },
  {
   "cell_type": "markdown",
   "metadata": {},
   "source": [
    "# Bell Test (Curar y Ubicar)\n",
    "\n",
    "\n",
    "El test de Bell demuestra que las medidas de un estado entrelazado no pueden ser explicados mediante ninguna teoría de la varaible oculta y que deben de existir correlaciones más allá de lo clásico.\n",
    "\n"
   ]
  },
  {
   "cell_type": "code",
   "execution_count": null,
   "metadata": {},
   "outputs": [],
   "source": []
  },
  {
   "cell_type": "markdown",
   "metadata": {},
   "source": [
    "\n",
    "\n"
   ]
  }
 ],
 "metadata": {
  "kernelspec": {
   "display_name": "Python 3.10.7 ('env_q': venv)",
   "language": "python",
   "name": "python3"
  },
  "language_info": {
   "codemirror_mode": {
    "name": "ipython",
    "version": 3
   },
   "file_extension": ".py",
   "mimetype": "text/x-python",
   "name": "python",
   "nbconvert_exporter": "python",
   "pygments_lexer": "ipython3",
   "version": "3.10.7"
  },
  "orig_nbformat": 4,
  "vscode": {
   "interpreter": {
    "hash": "8b67013ac374f4b42048093c7cda6ecb1bc8f42e0fe6eb5e90aaa96a0b03ad14"
   }
  }
 },
 "nbformat": 4,
 "nbformat_minor": 2
}
