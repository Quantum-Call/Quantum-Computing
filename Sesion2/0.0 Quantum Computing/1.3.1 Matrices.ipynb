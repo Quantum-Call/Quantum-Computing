{
 "cells": [
  {
   "cell_type": "code",
   "execution_count": 1,
   "metadata": {},
   "outputs": [],
   "source": [
    "import numpy as np\n",
    "import matplotlib.pyplot as plt\n",
    "import seaborn as sns\n",
    "sns.set_theme()"
   ]
  },
  {
   "cell_type": "markdown",
   "metadata": {},
   "source": [
    "# Matrices\n",
    "\n",
    "\n",
    "\n",
    "Aquí el propósito será expresa lo que es una matriz en concepto, y mostrar como lo hago represento un vetor o fila en numpy. \n",
    "\n",
    "Expresar las matrices en términos complejos que tenemos y hacer ejercicios con las matrices.\n",
    "\n",
    "_________\n",
    "\n",
    "Las matrices son esenciales para comprender las computaciones a nivel cuántico. ¿Qué es una matriz?, puede ser descrito como una tabla de números, en órden de estructurar una matriz, usamos filas y columnas, de $n$ dimensiones. Es decir un arreglo rectangular de números. Podemos pensar en **bra** y **ket** como dos tipos especiales de matrices en las que tenemos una sola fila y una sola columna respectivamente.\n",
    "\n",
    "# Matrix\n",
    "\n",
    "\\begin{bmatrix}\n",
    "1 & 2 & 3\\\\\n",
    "0 & 1 & 2\n",
    "\\end{bmatrix}\n",
    "\n",
    "\n",
    "- Una matriz también puede usar números complejos dentro.\n",
    "\n",
    "\\begin{bmatrix}\n",
    "1+2i & 2\\\\\n",
    "0 & 1+10i\\\\\n",
    "1 & 2-3i\n",
    "\\end{bmatrix}\n",
    "\n",
    "## Operaciones Matriciales.\n",
    "\n",
    "Las oepraciones matriciales no dependen del número que está en las filas y columnas, es decir, no importa si es real, imaginario, flotante o complejo, se suman componente a componente.\n",
    "\n",
    "\n",
    "$$\\begin{bmatrix}1+2i & 2\\\\3 & 2-5i\\end{bmatrix} - \\begin{bmatrix}2&4\\\\5&3\\end{bmatrix}=\\begin{bmatrix}-1+2i&-2\\\\-2&-1-5i\\end{bmatrix}$$\n",
    "\n",
    "\n",
    "Puedo operar sin problemas por un escalar complejo.\n",
    "\n",
    "\n",
    "$$ 1+2i * \\begin{bmatrix}2\\\\5\\end{bmatrix}=\\begin{bmatrix}-2+4i\\\\-5+10i\\end{bmatrix}$$\n"
   ]
  },
  {
   "cell_type": "markdown",
   "metadata": {},
   "source": [
    "## Producto matricial\n",
    "\n",
    "\n",
    "Dentro de las operaciones matriciales, el producto entre matrices es la operación más común en el cómputo cuántico.\n",
    "En el producto matricial multiplicamos una fila por columna así:\n",
    "\n",
    "$$\\begin{bmatrix}0&2\\\\3&1\\end{bmatrix}\\times\\begin{bmatrix}2&4\\\\5&3\\end{bmatrix}=\\begin{bmatrix}10&6\\\\11&15\\end{bmatrix}$$\n",
    "\n",
    "La primera fila de la matriz $n$ se multiplica por la primera columna de la matriz $m$ y el resultado se suma:\n",
    "\n",
    "$$\\begin{bmatrix}\\color{blue}0&\\color{blue}2\\\\3&1\\end{bmatrix}\\times\\begin{bmatrix}\\color{blue}2&4\\\\\\color{blue}5&3\\end{bmatrix}=\\begin{bmatrix}\\color{blue}10&6\\\\11&15\\end{bmatrix}$$\n",
    "\n",
    "Esta misma operación  con la segunda columna de la matriz $m$\n",
    "\n",
    "\n",
    "$$\\begin{bmatrix}\\color{blue}0&\\color{blue}2\\\\3&1\\end{bmatrix}\\times\\begin{bmatrix}2&\\color{blue}4\\\\5&\\color{blue}3\\end{bmatrix}=\\begin{bmatrix}10&\\color{blue}6\\\\11&15\\end{bmatrix}$$\n",
    "\n",
    "Cada componente se multiplica y sus resultados se suman.\n",
    "\n",
    "- $0*2 + 2*5 = 10$\n",
    "- $0*4 + 2*3=6$\n",
    "- $3*2 +1*5 = 11$\n",
    "- $3*4 + 1*3=15$\n",
    "\n",
    "\n",
    "Hay que tener en cuenta ara que estas operaciones se den el número de columnas y filas que deben existir una relación entre las dimensiones. Al mirar la columna la cantidad de columnas de la priemra matriz, y las filas de la segunda matriz, sabre si puedo operarlas, deben ser d ela misma dimension.\n",
    "\n",
    "Las dimensiones del resultado de la multiplicación de la matriz lo obtengo al mirar (rojo), quiere decir que si multiplico una matriz $3x2*2x1$ el resutlado será de una matriz de $3x1$\n",
    "\n",
    "- $M=\\color{red}3 x \\color{blue}2$\n",
    "- $N=\\color{blue}2 x \\color{red}1$\n",
    "\n",
    "\n",
    "$$\\begin{bmatrix}0&2\\\\3&1\\\\9&8\\end{bmatrix}\\times\\begin{bmatrix}2\\\\5\\end{bmatrix}=\\begin{bmatrix}10\\\\11\\\\58\\end{bmatrix}$$\n",
    "\n",
    "\n",
    "Es  importante entender que estas operaciones no son comutativas, debido a que no cumple nuestro principio de columna-fila. Es decir: $MxN!=NxM$ "
   ]
  },
  {
   "cell_type": "markdown",
   "metadata": {},
   "source": [
    "Dada una matriz general $m*n$ podemos decir que cada fila podemos expresarla como un **bra** y cada columna como un **ket** , es decir tenemos en la matriz anterior una matriz M de tres **bras** apilados y dos **kets** uno al lado del otro.\n",
    "\n",
    "Por ejemplo nuestro producto de matrices usará esta idea anterior, es decir el producto de $MN$ calculado a partir de M que consiste en bras, y N que consite en Kets. Es importante manter siempre presente que **los bras van a la izquierda de los kets**\n",
    "\n",
    "\n",
    "$$ M = \\begin{bmatrix} \\bra{a_1}\\\\\\bra{a_2}\\end{bmatrix}$$\n",
    "\n",
    "$$ N = \\begin{bmatrix} \\ket{b_1}&&\\ket{b_2}\\end{bmatrix}$$\n",
    "\n",
    "Donde:\n",
    "\n",
    "- $\\bra{a_1} = \\begin{bmatrix} 1 && 4 && 5 &&3 \\end{bmatrix}$\n",
    "- $\\bra{a_2} = \\begin{bmatrix} 2 && 1 && 2 &&8 \\end{bmatrix}$\n",
    "- $\\ket{b_1} = \\begin{bmatrix} 7 \\\\ 6 \\\\ 1 \\\\4 \\end{bmatrix}$\n",
    "- $\\ket{b_2} = \\begin{bmatrix} 1 \\\\ 5 \\\\ 8 \\\\9 \\end{bmatrix}$"
   ]
  },
  {
   "cell_type": "markdown",
   "metadata": {},
   "source": [
    "El producto de lo anterior $MN$ es calculado como sigue a continuación:\n",
    "\n",
    "$$MN= \\begin{bmatrix} \\bra{a_1}\\\\\\bra{a_2}\\end{bmatrix} \\begin{bmatrix} \\ket{b_1}&&\\ket{b_2}\\end{bmatrix}=\\begin{bmatrix} \\braket{a_1|b_1}&&\\braket{a_1|b_2}\\\\\\braket{a_2|b_1}&&\\braket{a_2|b_2}\\end{bmatrix}$$"
   ]
  },
  {
   "cell_type": "markdown",
   "metadata": {},
   "source": [
    "$$MN= \\begin{bmatrix}1*7 + 6*4 +5*1 +3*4&&1*1+4*5+5*8+3*9\\\\2*7+1*6+2*1+8*4&&2*1+1*5+2*8+8*9 \\end{bmatrix}$$"
   ]
  },
  {
   "cell_type": "markdown",
   "metadata": {},
   "source": [
    "$$MN=\\begin{bmatrix}48 &&88\\\\54&&95 \\end{bmatrix}$$"
   ]
  },
  {
   "cell_type": "markdown",
   "metadata": {},
   "source": [
    "Vamos en la página 32-\n",
    "\n",
    "\n",
    "- Las matrices deben tener el mismo númeor de filas y columnas para poderse operar. \n",
    "- La multiplicación no es comuntativa.\n",
    "\n",
    "Hasta acá hablamos de que como puedo integrar la notación de bras y kets a nuestras matrices, como podemos exprear un vector cualquiera en sus vectores base y como a partir de eso y de las \"tablas flecha\" tenemos cálculos que podemos usar para ahorrarnos tiempos de cálculo.\n",
    "\n",
    "En la página 32 del texto voy donde se esta buscando expresar la generalización de la expresión anterior"
   ]
  },
  {
   "cell_type": "markdown",
   "metadata": {},
   "source": [
    "# Inner Out product"
   ]
  },
  {
   "cell_type": "code",
   "execution_count": null,
   "metadata": {},
   "outputs": [],
   "source": [
    "def inner(A,B):\n",
    "    return A*np.matrix(B).getH()\n",
    "\n",
    "def outer(A,B):\n",
    "    return np.outer(A,B)\n",
    "\n",
    "\n",
    "inner(x,x) # matrix([[4.+0.j]])\n",
    "outer(x,x) # array([[0.+2.j, 0.+2.j],  [0.+2.j, 0.+2.j]])"
   ]
  },
  {
   "cell_type": "markdown",
   "metadata": {},
   "source": [
    "# Tensor Product\n",
    "\n",
    "El producto tensorial no es una multiplicación de matrices. Es un patrón de operación, que sucede de la siguiente forma:"
   ]
  },
  {
   "cell_type": "markdown",
   "metadata": {},
   "source": [
    "\n",
    "\n",
    "$$\\begin{bmatrix}x\\\\y&\\end{bmatrix} \\otimes \\begin{bmatrix}z\\\\q\\end{bmatrix}=\\begin{bmatrix}xz\\\\xq\\\\yz\\\\yq\\end{bmatrix}$$\n"
   ]
  },
  {
   "cell_type": "markdown",
   "metadata": {},
   "source": [
    "\n",
    "$$\\begin{bmatrix}1\\\\3&\\end{bmatrix} \\otimes \\begin{bmatrix}0\\\\3\\\\4\\end{bmatrix}=\\begin{bmatrix}0\\\\3\\\\4\\\\0\\\\9\\\\12\\end{bmatrix}$$\n"
   ]
  },
  {
   "cell_type": "markdown",
   "metadata": {},
   "source": [
    "# Identity Matrix (I)\n",
    "\n",
    "La matriz identidad es el \"número 1\" en las matrices, es decir, en los números que conocemos, todo número multiplicado por 1 me devuelve el mismo número, ahora, la matriz identidad tiene esta propiedad  y otras que veremos más adelante.\n",
    "\n",
    "\n",
    "$$\\begin{bmatrix}0&2\\\\6&7\\end{bmatrix} \\times \\begin{bmatrix}1&0\\\\0&1\\end{bmatrix}=\\begin{bmatrix}0&2\\\\6&7\\end{bmatrix} $$\n",
    "\n",
    "Esta matriz se caracteriza por esa diagonal de 1, y demás valores en 0.\n",
    "\n",
    "# Inverse Matrix\n",
    "\n",
    "Así como en los números reales tenemos que la inversa de cualquier número real $a^{-1}=\\Large\\frac{1}{a}$, en las matrices opera de la misma forma y tenemos el siguiente principio, la matriz A por su inversa es igual a la identidad.\n",
    "$$AA^{-1} = I$$\n"
   ]
  },
  {
   "cell_type": "markdown",
   "metadata": {},
   "source": [
    "# Transponse\n",
    "\n",
    "La transpuesta de una matriz es el cambio de filas por columnas:\n",
    "\n",
    "$$\\begin{bmatrix}0&2\\\\3&1\\end{bmatrix}^{T}=\\begin{bmatrix}0&3\\\\2&1\\end{bmatrix}$$\n",
    "\n",
    "Es importante entender que esta operación de la transpuesta la usaremos ocasionalmente conjunto el complejo conjugado dentro de los cálculos en el cómputo cuántico, también es de interes saber que el producto de dos matrices transpuestas es igual al producto matricial transpuesto:\n",
    "\n",
    "$$(XY)^{T}=X^{T}Y^{T}$$\n",
    "\n",
    "$$(\\begin{bmatrix}0&2\\\\3&1\\end{bmatrix}\\times\\begin{bmatrix}2&4\\\\5&3\\end{bmatrix})^{T}=\\begin{bmatrix}10&6\\\\11&15\\end{bmatrix}$$\n",
    "\n",
    "$$...$$\n",
    "\n",
    "$$\\begin{bmatrix}0&2\\\\3&1\\end{bmatrix}^{T}\\times\\begin{bmatrix}2&4\\\\5&3\\end{bmatrix}^{T}=\\begin{bmatrix}10&6\\\\11&15\\end{bmatrix}$$\n",
    "\n",
    "______\n",
    "\n",
    "Recordemos que los vectores fila y columna , o bra y ket, son un tipo espcial de matriz, con lo cual también podemos afirmar que:\n",
    "\n",
    "$$\\bra{a} = \\ket{a}^T$$\n",
    "\n",
    "y también es cierto qué:\n",
    "\n",
    "$$\\ket{a} = \\bra{a}^T$$\n",
    "\n",
    "\n",
    "# Complex Conjugate of Matrix\n",
    "\n",
    "El complejo conjugado de una matriz funciona exactamente igual a los números complejos al cambiar de signo.\n",
    "\n",
    "$$\\begin{bmatrix}1+5i&i\\\\3&2-3i\\end{bmatrix}^{*}=\\begin{bmatrix}1-5i&-i\\\\3&2+3i\\end{bmatrix}$$\n",
    "\n",
    "\n",
    "# Adjoint  or \"Tranpose-Complex-Conjugate\".\n",
    "\n",
    "Esta es una combinación entre la transpuesta y el complejo conjugado, una operación que veremos a menos en el cómputo cuántico. En esta operación tenemos la siguiente propiedad:\n",
    "\n",
    "$$X^{+}=(X^{*})^{T}=(X^{T})^{*}$$\n",
    "\n",
    "\n",
    "- Ejemplo:\n",
    "$$\\begin{bmatrix}1+5i&i\\\\3&2-3i\\end{bmatrix}^{+}=\\begin{bmatrix}1-5i&3\\\\-i&2+3i\\end{bmatrix}$$\n",
    "\n",
    "\n",
    "\n",
    "\n",
    "\n"
   ]
  },
  {
   "cell_type": "markdown",
   "metadata": {},
   "source": [
    "# Linear Transformations\n",
    "\n",
    "Puedo ver las transformaciones lineales así, por ejemplo quiero escalar $f(x,y)$ en 2 unidades, $f(2x,y)$. Gráficamente el resultado es el siguiente:\n",
    "\n",
    "![img](https://upload.wikimedia.org/wikipedia/commons/thumb/4/43/Streckung_eines_Vektors.gif/155px-Streckung_eines_Vektors.gif)\n",
    "\n",
    "Es decir puedo realizar la siguiente generalización:\n",
    "$$x_2=Ax_1 + By_1$$\n",
    "$$y_2=Cx_2 + Dy_2$$\n",
    "\n",
    "Escrito de una forma matricial:\n",
    "\n",
    "\n",
    "$$\\begin{bmatrix}x_2\\\\y_2\\end{bmatrix}=\\begin{bmatrix}A&B\\\\C&D\\end{bmatrix}\\times\\begin{bmatrix}x_1\\\\y_1\\end{bmatrix}$$\n",
    "\n",
    "Para entender las tranformaciones lineales en el cómptuo cuántico es importante entender ciertos términos espaciales podemos expresar que una matriz transpuesta-conjugada es igual a la inversa podemos tmabién hacerlo con la \"**Matriz Unitaria**\":\n",
    "\n",
    "\n",
    "## Unitary Matrix\n",
    "\n",
    "$$X^{+}=X^{-1}$$\n",
    "$$XX^{+} = XX^{-1} =I$$\n",
    "\n",
    "Es decir es una operación que representa las **operaciones reversibles** en cómputo cuántico, por  ejemplo estas operaciones se usan mucho cuando ponemos en superposición y necesitamos sacarlo del estado de sueprposición.\n",
    "\n",
    "$$\\begin{bmatrix}\\frac{1}{\\sqrt{2}}&\\frac{1}{\\sqrt{2}}\\\\\\frac{1}{\\sqrt{2}}&\\frac{-1}{\\sqrt{2}}\\end{bmatrix}\\times\\begin{bmatrix}\\frac{1}{\\sqrt{2}}&\\frac{1}{\\sqrt{2}}\\\\\\frac{1}{\\sqrt{2}}&\\frac{-1}{\\sqrt{2}}\\end{bmatrix}=\\begin{bmatrix}1&0\\\\0&1\\end{bmatrix}$$\n",
    "\n",
    "\n",
    "## Hermitian Matrix\n",
    "\n",
    "Tenemos una matriz hermitica si $X^{+}=X$ , es decir, si la **transpuesta-conjugada** de una matriz es igual a la matriz, esto representa las $\\begin{bmatrix}3&2+6i\\\\1+3i&4\\end{bmatrix}$ en cómputo cuántico\n",
    "\n",
    "\n",
    "$$\\begin{bmatrix}3&2+6i\\\\1+3i&4\\end{bmatrix}^{+} = \\begin{bmatrix}3&2+6i\\\\1+3i&4\\end{bmatrix}$$\n",
    "\n"
   ]
  },
  {
   "cell_type": "markdown",
   "metadata": {},
   "source": [
    "Las transformaciones lineales son muy diversas, existen rotacionales, proyecciones, reflexiones, compresiones, escalamientos y demás, ejemplo de una tranformación lineal rotacional. Es decir, el vector estado incial parte desde 0.7, y se le aplica una rotación en 45°,  en cómputo cuántico lidiaremos mucho con transformaciones de un vector estado, entre 0 y 1. en este caso estamos efectuando una rotación de ese \"Vector state\" en otro \"vector state\"\n",
    "\n",
    "$$\\begin{bmatrix}0.7\\\\0.7\\end{bmatrix}=\\begin{bmatrix}cos(45)&-sin(45)\\\\sin(45)&cos(45)\\end{bmatrix}\\times\\begin{bmatrix}1\\\\0\\end{bmatrix}$$\n",
    "\n",
    "\n",
    "Es decir cuando estamos operando con compuertas cuánticas lógicas y qbits cuánticos estaremos realizando transformaciones lineales."
   ]
  }
 ],
 "metadata": {
  "kernelspec": {
   "display_name": "Python 3.10.7 ('env_q': venv)",
   "language": "python",
   "name": "python3"
  },
  "language_info": {
   "codemirror_mode": {
    "name": "ipython",
    "version": 3
   },
   "file_extension": ".py",
   "mimetype": "text/x-python",
   "name": "python",
   "nbconvert_exporter": "python",
   "pygments_lexer": "ipython3",
   "version": "3.10.7"
  },
  "orig_nbformat": 4,
  "vscode": {
   "interpreter": {
    "hash": "5c5f65bf42d6206e1c57117f942b147f5b7a64862f1f50f57b3fc6d1c3142406"
   }
  }
 },
 "nbformat": 4,
 "nbformat_minor": 2
}
