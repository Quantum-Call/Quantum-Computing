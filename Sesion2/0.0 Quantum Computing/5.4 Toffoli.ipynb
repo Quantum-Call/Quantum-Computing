{
 "cells": [
  {
   "cell_type": "markdown",
   "metadata": {},
   "source": [
    "# Toffoli, SWAP and Phase\n",
    "\n",
    "\n",
    "Tffoli es conocido como CCNOT gate debido a que tiene 3 Cubits y un cambio de cero a uno y viscersa condicional,\n",
    "SWAp simplemente me cambia de valor por cero o uno. \n",
    "En el Pase Shift tenemos que cambia de acuerdo a una rotación en notación Euler."
   ]
  },
  {
   "cell_type": "markdown",
   "metadata": {},
   "source": [
    "El reto de este notebook es lograr que se evidence en las bloch sphere los cambios que suceden cuando aplciamos las compeurtas."
   ]
  },
  {
   "cell_type": "markdown",
   "metadata": {},
   "source": []
  },
  {
   "cell_type": "code",
   "execution_count": 8,
   "metadata": {},
   "outputs": [],
   "source": [
    "from qiskit import *\n",
    "import qiskit.visualization as viz\n",
    "import numpy as np\n",
    "import matplotlib.pyplot as plt\n",
    "import pandas as pd\n",
    "import seaborn as sns\n",
    "sns.set_theme()"
   ]
  },
  {
   "cell_type": "code",
   "execution_count": 9,
   "metadata": {},
   "outputs": [],
   "source": [
    "q = QuantumRegister(7)\n",
    "c = ClassicalRegister(7)\n",
    "quantumC = QuantumCircuit(q, c)\n",
    "backend = Aer.get_backend(\"qasm_simulator\")"
   ]
  },
  {
   "cell_type": "code",
   "execution_count": 10,
   "metadata": {},
   "outputs": [
    {
     "data": {
      "text/plain": [
       "<qiskit.circuit.instructionset.InstructionSet at 0x26964d4c5e0>"
      ]
     },
     "execution_count": 10,
     "metadata": {},
     "output_type": "execute_result"
    }
   ],
   "source": [
    "quantumC.ccx(0,1,2)\n",
    "quantumC.swap(3,4)\n",
    "quantumC.h(6)\n",
    "quantumC.cp(np.pi/3,5,6)\n"
   ]
  },
  {
   "cell_type": "code",
   "execution_count": 11,
   "metadata": {},
   "outputs": [
    {
     "data": {
      "text/plain": [
       "<qiskit.circuit.instructionset.InstructionSet at 0x26964d4e860>"
      ]
     },
     "execution_count": 11,
     "metadata": {},
     "output_type": "execute_result"
    }
   ],
   "source": [
    "initialized_state =  [0 for i in range(0, 2**7)]\n",
    "initialized_state[107] = 1\n",
    "quantumC.initialize(initialized_state, q)"
   ]
  },
  {
   "cell_type": "code",
   "execution_count": 12,
   "metadata": {},
   "outputs": [
    {
     "ename": "QiskitError",
     "evalue": "'No statevector for experiment \"None\"'",
     "output_type": "error",
     "traceback": [
      "\u001b[1;31m---------------------------------------------------------------------------\u001b[0m",
      "\u001b[1;31mKeyError\u001b[0m                                  Traceback (most recent call last)",
      "File \u001b[1;32mc:\\Users\\jefai\\Documents\\Cerebrum\\Learning_Notebooks\\NoteBooks\\Curso de Quamtum\\env_q\\lib\\site-packages\\qiskit\\result\\result.py:314\u001b[0m, in \u001b[0;36mResult.get_statevector\u001b[1;34m(self, experiment, decimals)\u001b[0m\n\u001b[0;32m    312\u001b[0m \u001b[39mtry\u001b[39;00m:\n\u001b[0;32m    313\u001b[0m     \u001b[39mreturn\u001b[39;00m postprocess\u001b[39m.\u001b[39mformat_statevector(\n\u001b[1;32m--> 314\u001b[0m         \u001b[39mself\u001b[39;49m\u001b[39m.\u001b[39;49mdata(experiment)[\u001b[39m\"\u001b[39;49m\u001b[39mstatevector\u001b[39;49m\u001b[39m\"\u001b[39;49m], decimals\u001b[39m=\u001b[39mdecimals\n\u001b[0;32m    315\u001b[0m     )\n\u001b[0;32m    316\u001b[0m \u001b[39mexcept\u001b[39;00m \u001b[39mKeyError\u001b[39;00m \u001b[39mas\u001b[39;00m ex:\n",
      "\u001b[1;31mKeyError\u001b[0m: 'statevector'",
      "\nThe above exception was the direct cause of the following exception:\n",
      "\u001b[1;31mQiskitError\u001b[0m                               Traceback (most recent call last)",
      "Cell \u001b[1;32mIn [12], line 1\u001b[0m\n\u001b[1;32m----> 1\u001b[0m viz\u001b[38;5;241m.\u001b[39mplot_bloch_multivector(execute(quantumC, backend)\u001b[38;5;241m.\u001b[39mresult()\u001b[38;5;241m.\u001b[39mget_statevector())\n",
      "File \u001b[1;32mc:\\Users\\jefai\\Documents\\Cerebrum\\Learning_Notebooks\\NoteBooks\\Curso de Quamtum\\env_q\\lib\\site-packages\\qiskit\\result\\result.py:317\u001b[0m, in \u001b[0;36mResult.get_statevector\u001b[1;34m(self, experiment, decimals)\u001b[0m\n\u001b[0;32m    313\u001b[0m     \u001b[39mreturn\u001b[39;00m postprocess\u001b[39m.\u001b[39mformat_statevector(\n\u001b[0;32m    314\u001b[0m         \u001b[39mself\u001b[39m\u001b[39m.\u001b[39mdata(experiment)[\u001b[39m\"\u001b[39m\u001b[39mstatevector\u001b[39m\u001b[39m\"\u001b[39m], decimals\u001b[39m=\u001b[39mdecimals\n\u001b[0;32m    315\u001b[0m     )\n\u001b[0;32m    316\u001b[0m \u001b[39mexcept\u001b[39;00m \u001b[39mKeyError\u001b[39;00m \u001b[39mas\u001b[39;00m ex:\n\u001b[1;32m--> 317\u001b[0m     \u001b[39mraise\u001b[39;00m QiskitError(\u001b[39mf\u001b[39m\u001b[39m'\u001b[39m\u001b[39mNo statevector for experiment \u001b[39m\u001b[39m\"\u001b[39m\u001b[39m{\u001b[39;00m\u001b[39mrepr\u001b[39m(experiment)\u001b[39m}\u001b[39;00m\u001b[39m\"\u001b[39m\u001b[39m'\u001b[39m) \u001b[39mfrom\u001b[39;00m \u001b[39mex\u001b[39;00m\n",
      "\u001b[1;31mQiskitError\u001b[0m: 'No statevector for experiment \"None\"'"
     ]
    }
   ],
   "source": [
    "viz.plot_bloch_multivector(execute(quantumC, backend).result().get_statevector())"
   ]
  },
  {
   "cell_type": "code",
   "execution_count": null,
   "metadata": {},
   "outputs": [
    {
     "data": {
      "image/png": "[encoded data removed]",
      "text/plain": [
       "<Figure size 389.136x702.333 with 1 Axes>"
      ]
     },
     "execution_count": 4,
     "metadata": {},
     "output_type": "execute_result"
    }
   ],
   "source": [
    "quantumC.draw(output='mpl')"
   ]
  },
  {
   "cell_type": "code",
   "execution_count": null,
   "metadata": {},
   "outputs": [
    {
     "ename": "QiskitError",
     "evalue": "'No statevector for experiment \"None\"'",
     "output_type": "error",
     "traceback": [
      "\u001b[1;31m---------------------------------------------------------------------------\u001b[0m",
      "\u001b[1;31mKeyError\u001b[0m                                  Traceback (most recent call last)",
      "File \u001b[1;32mc:\\Users\\jefai\\Documents\\Cerebrum\\Learning_Notebooks\\NoteBooks\\Curso de Quamtum\\env_q\\lib\\site-packages\\qiskit\\result\\result.py:314\u001b[0m, in \u001b[0;36mResult.get_statevector\u001b[1;34m(self, experiment, decimals)\u001b[0m\n\u001b[0;32m    312\u001b[0m \u001b[39mtry\u001b[39;00m:\n\u001b[0;32m    313\u001b[0m     \u001b[39mreturn\u001b[39;00m postprocess\u001b[39m.\u001b[39mformat_statevector(\n\u001b[1;32m--> 314\u001b[0m         \u001b[39mself\u001b[39;49m\u001b[39m.\u001b[39;49mdata(experiment)[\u001b[39m\"\u001b[39;49m\u001b[39mstatevector\u001b[39;49m\u001b[39m\"\u001b[39;49m], decimals\u001b[39m=\u001b[39mdecimals\n\u001b[0;32m    315\u001b[0m     )\n\u001b[0;32m    316\u001b[0m \u001b[39mexcept\u001b[39;00m \u001b[39mKeyError\u001b[39;00m \u001b[39mas\u001b[39;00m ex:\n",
      "\u001b[1;31mKeyError\u001b[0m: 'statevector'",
      "\nThe above exception was the direct cause of the following exception:\n",
      "\u001b[1;31mQiskitError\u001b[0m                               Traceback (most recent call last)",
      "Cell \u001b[1;32mIn [5], line 1\u001b[0m\n\u001b[1;32m----> 1\u001b[0m viz\u001b[38;5;241m.\u001b[39mplot_bloch_multivector(execute(quantumC, backend)\u001b[38;5;241m.\u001b[39mresult()\u001b[38;5;241m.\u001b[39mget_statevector())\n",
      "File \u001b[1;32mc:\\Users\\jefai\\Documents\\Cerebrum\\Learning_Notebooks\\NoteBooks\\Curso de Quamtum\\env_q\\lib\\site-packages\\qiskit\\result\\result.py:317\u001b[0m, in \u001b[0;36mResult.get_statevector\u001b[1;34m(self, experiment, decimals)\u001b[0m\n\u001b[0;32m    313\u001b[0m     \u001b[39mreturn\u001b[39;00m postprocess\u001b[39m.\u001b[39mformat_statevector(\n\u001b[0;32m    314\u001b[0m         \u001b[39mself\u001b[39m\u001b[39m.\u001b[39mdata(experiment)[\u001b[39m\"\u001b[39m\u001b[39mstatevector\u001b[39m\u001b[39m\"\u001b[39m], decimals\u001b[39m=\u001b[39mdecimals\n\u001b[0;32m    315\u001b[0m     )\n\u001b[0;32m    316\u001b[0m \u001b[39mexcept\u001b[39;00m \u001b[39mKeyError\u001b[39;00m \u001b[39mas\u001b[39;00m ex:\n\u001b[1;32m--> 317\u001b[0m     \u001b[39mraise\u001b[39;00m QiskitError(\u001b[39mf\u001b[39m\u001b[39m'\u001b[39m\u001b[39mNo statevector for experiment \u001b[39m\u001b[39m\"\u001b[39m\u001b[39m{\u001b[39;00m\u001b[39mrepr\u001b[39m(experiment)\u001b[39m}\u001b[39;00m\u001b[39m\"\u001b[39m\u001b[39m'\u001b[39m) \u001b[39mfrom\u001b[39;00m \u001b[39mex\u001b[39;00m\n",
      "\u001b[1;31mQiskitError\u001b[0m: 'No statevector for experiment \"None\"'"
     ]
    }
   ],
   "source": [
    "viz.plot_bloch_multivector(execute(quantumC, backend).result().get_statevector())"
   ]
  },
  {
   "cell_type": "code",
   "execution_count": null,
   "metadata": {},
   "outputs": [],
   "source": []
  },
  {
   "cell_type": "code",
   "execution_count": null,
   "metadata": {},
   "outputs": [],
   "source": []
  }
 ],
 "metadata": {
  "kernelspec": {
   "display_name": "Python 3.10.7 ('env_q': venv)",
   "language": "python",
   "name": "python3"
  },
  "language_info": {
   "codemirror_mode": {
    "name": "ipython",
    "version": 3
   },
   "file_extension": ".py",
   "mimetype": "text/x-python",
   "name": "python",
   "nbconvert_exporter": "python",
   "pygments_lexer": "ipython3",
   "version": "3.10.7"
  },
  "orig_nbformat": 4,
  "vscode": {
   "interpreter": {
    "hash": "8b67013ac374f4b42048093c7cda6ecb1bc8f42e0fe6eb5e90aaa96a0b03ad14"
   }
  }
 },
 "nbformat": 4,
 "nbformat_minor": 2
}
