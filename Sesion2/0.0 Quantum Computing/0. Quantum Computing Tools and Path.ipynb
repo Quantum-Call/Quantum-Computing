{
 "cells": [
  {
   "cell_type": "markdown",
   "metadata": {},
   "source": [
    "# De la luz al cómputo cuántico\n",
    "\n",
    "\n",
    "Artículo resumen del libro de química sobre la teoría electrones, átomos, luz, experimentos stein gerlach, interferometro.\n",
    "Es decir contrar un breve relato sobre la pregunta, las respuestas contradictorias, el consenso sobre la acontradicción que reuslta ser fenómno, la idea de computar a nivel cuántico de Feyman, los alcances de la teoría en la práctica.\n"
   ]
  },
  {
   "cell_type": "markdown",
   "metadata": {},
   "source": []
  },
  {
   "cell_type": "markdown",
   "metadata": {},
   "source": [
    "# Iniciando en computación Cuántica\n",
    "\n",
    "En el estudio del cómputo cuántico existen diversas herramientas que te facilitarán estudiar este mundo, la mayoría de las herramientas están en constante desarrollo y esfuerzo por parte de las empresas que investigan y desarrollan este cómputo:\n",
    "\n",
    "## Roadmap\n",
    "\n",
    "\n",
    "#### Prerequisitos:\n",
    "\n",
    "\n",
    "\n",
    "#### Referentes:\n",
    "\n",
    "- [ibm]()\n",
    "- [pennylane]()\n",
    "- [xanadu]()\n",
    "- [riggeti]()\n",
    "\n",
    "\n",
    "#### Cursos:"
   ]
  },
  {
   "cell_type": "markdown",
   "metadata": {},
   "source": [
    "\n",
    "# Estado del Arte\n",
    "\n",
    "¿Existe alguna forma de mostrar la data que se va generando sobre cómputo cuántico? Es decir puede ser el grafo de los estudios bibliográficos sobre cosas que se escriben acerca del tema.\n",
    "\n",
    "Es posible hacer una animación de Time Series de cómo van emergiendo noticias en la web. Como si fuera un detector.\n",
    "\n",
    "Pensar en un RSS de noticias.\n",
    "\n",
    "En un Scrapper sobre data de Quantum Related."
   ]
  },
  {
   "cell_type": "markdown",
   "metadata": {},
   "source": []
  },
  {
   "cell_type": "markdown",
   "metadata": {},
   "source": []
  },
  {
   "cell_type": "markdown",
   "metadata": {},
   "source": []
  },
  {
   "cell_type": "markdown",
   "metadata": {},
   "source": []
  },
  {
   "cell_type": "markdown",
   "metadata": {},
   "source": []
  },
  {
   "cell_type": "code",
   "execution_count": null,
   "metadata": {},
   "outputs": [],
   "source": []
  }
 ],
 "metadata": {
  "kernelspec": {
   "display_name": "Python 3.10.7 64-bit",
   "language": "python",
   "name": "python3"
  },
  "language_info": {
   "name": "python",
   "version": "3.10.7"
  },
  "orig_nbformat": 4,
  "vscode": {
   "interpreter": {
    "hash": "da058f71fdee8b4e70f06f340fda40f45f412995ac79e49a865730b30aec30c6"
   }
  }
 },
 "nbformat": 4,
 "nbformat_minor": 2
}
