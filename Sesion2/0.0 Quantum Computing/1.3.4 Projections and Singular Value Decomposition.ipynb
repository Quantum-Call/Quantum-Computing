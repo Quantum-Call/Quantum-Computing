{
 "cells": [
  {
   "cell_type": "markdown",
   "metadata": {},
   "source": [
    "\n",
    "# Revisar\n",
    "\n",
    "# Proyecciones\n",
    "\n",
    "Un proyección es una extensión de la \"sombra\" proyectada de un elemento en una superficie,  en nuestro contexto una proyección puede aplicarse a un vector, sobre diferentes planos,  es decir, busco expresar un vector que tiene cierta posición, en otra posición.\n",
    "\n",
    "Estamos proyectando sobre el eje x.\n",
    "$$P_x(P_x\\vec{v})=(P_x\\vec{v_c})$$\n",
    "\n",
    "Otra propiedad:\n",
    "\n",
    "$$P^2=P$$\n",
    "\n",
    "$$P=\\begin{bmatrix}1&0\\\\0&0\\end{bmatrix}$$\n",
    "\n",
    "Tomemos por ejemplo una matriz:\n",
    "\n",
    "$$G_v=\\begin{bmatrix}\\sin{t}\\\\\\cos{t}\\\\t\\end{bmatrix}$$\n",
    "\n",
    "(La representación visual de esto es una espiral.)\n",
    "\n",
    "La proyección sobre los planos x,y para el vector, no cambian su valor, cambia P.\n",
    "\n",
    "$$P_{xy}G_v=\\begin{bmatrix}\\sin{t}\\\\\\cos{t}\\\\t\\end{bmatrix}$$\n",
    "\n",
    "$$P_{xy}=\\begin{bmatrix}1&0&0\\\\0&1&0\\\\0&0&0\\end{bmatrix}$$\n",
    "\n",
    "\n",
    "Consideremos nuestro vector $\\vec{v_c}$ en sus bases y el vector P:\n",
    "\n",
    "$$\\vec{v_c}= a_0\\ket{0} + a_1\\ket{1}$$\n",
    "$$P\\vec{v_c}=\\begin{bmatrix}1&0\\\\0&0\\end{bmatrix}\\vec{v_c}= a_0\\ket{0}$$\n",
    "\n",
    "\n",
    "A nuestro vector actual le podemos aplicar nuestras operaciones de complejo conjugado y adjunta. Al aplicar el vector fila o bra :$\\bra{v}$\n",
    "\n",
    "$$\\bra{v}P\\ket{v} = \\bra{v}\\begin{bmatrix}1&0\\\\0&0\\end{bmatrix}\\ket{v} = (a_0\\ket{0})U^{\\dag}a_0\\ket{0}$$\n",
    "\n",
    "Sabemos que $\\braket{0|0}=1$ tenemos que la distancia es 1.\n",
    "\n",
    "\n",
    "- Tenemos una f´romula para extraer el largo d elos coeficientes:\n",
    "\n",
    "(rEVISAR ESTE TEMA CON LUPA)\n",
    "\n",
    "\n",
    "# Expectation Value\n",
    "\n",
    "\n",
    "$$E(A) = \\sum_{i=0}^na_ip(a_i)$$\n",
    "\n",
    "En un espacio cualquiera esto hambla de la posibilida dde un evento a tenga una probabilidad p de ocurrir. Si tomamos una modba balanceada la siguiente ecuación:\n",
    "\n",
    "$$E(C) = 0*p(0) + 1*p(1) $$\n",
    "\n",
    "Cambia a esta ecuación, que expresa la probabilidad justa de obtener o 0 o 1:\n",
    "\n",
    "$$E(C) = 0*p(0.5) + 1*p(0.5)  $$\n",
    "\n",
    "\n",
    "# Singular Value Decomposition SVD\n",
    "\n",
    "Al representar una matriz con su diagonal y eigenvalues, teníamos que era fácil de lograr cuando una matriz es cuadrada.Sin embargo no todas las matrices lo son, para estp usamos el SVD. Lo que haremos será multiplciar por una transpuesta para crear una matriz cuadrada que tenga diagonal:\n",
    "\n",
    "$$A^{t}A=VDC^-1$$\n",
    "\n",
    "Esto resulta en un conjunto de eigenvalues y eigencetors diferentes para la nueva matriz:\n",
    "\n",
    "$$A\\vec{v} = \\sigma\\vec{v}$$\n",
    "$$A=U\\Sigma U^{\\dag}$$\n",
    "\n",
    "Tomando entonces la transpuesta de A:\n",
    "\n",
    "$$A^{t}A=(U\\Sigma U^{\\dag})^{T}(V\\Sigma V^{\\dag})$$\n",
    "\n",
    "De lo anterior, tenemos que $UU^{\\dag}= I$ de lo cual obtenemos que nuestros eigenvalues nuevos son el cuadrado de los nteriors....\n",
    "\n",
    "(Esto se peude representar de manera gráfica)"
   ]
  },
  {
   "cell_type": "code",
   "execution_count": null,
   "metadata": {},
   "outputs": [],
   "source": [
    "V = np.array(\n",
    "    [\n",
    "        [1/sqrt(2), 1/sqrt(2), 1/sqrt(2), 1/sqrt(2)],\n",
    "    ])"
   ]
  },
  {
   "cell_type": "markdown",
   "metadata": {},
   "source": [
    "# Representación columnas"
   ]
  },
  {
   "cell_type": "code",
   "execution_count": null,
   "metadata": {},
   "outputs": [],
   "source": [
    "axes = []\n",
    "axes.append(np.array(\n",
    "    [\n",
    "        [1, 0, 0, 0],\n",
    "    ]))\n",
    "axes.append(np.array(\n",
    "    [\n",
    "        [0, 1, 0, 0],\n",
    "    ]))\n",
    "axes.append(np.array(\n",
    "    [\n",
    "        [0, 0, 1, 0],\n",
    "    ]))\n",
    "axes.append(np.array(\n",
    "    [\n",
    "        [0, 0, 0, 1],\n",
    "    ]))"
   ]
  },
  {
   "cell_type": "code",
   "execution_count": null,
   "metadata": {},
   "outputs": [],
   "source": [
    "def proj(V, axis):\n",
    "    return np.dot(V, np.dot(outer(axis, axis), np.transpose(V)))"
   ]
  },
  {
   "cell_type": "markdown",
   "metadata": {},
   "source": [
    "# Demostracion con ecuaciones de lo anterior"
   ]
  },
  {
   "cell_type": "code",
   "execution_count": null,
   "metadata": {},
   "outputs": [],
   "source": [
    "proj(V, axes[0])"
   ]
  },
  {
   "cell_type": "code",
   "execution_count": null,
   "metadata": {},
   "outputs": [],
   "source": [
    "length = 0\n",
    "for i in axes:\n",
    "    length += proj(V, i)\n",
    "length = sqrt(length)"
   ]
  },
  {
   "cell_type": "code",
   "execution_count": null,
   "metadata": {},
   "outputs": [],
   "source": [
    "length"
   ]
  },
  {
   "cell_type": "markdown",
   "metadata": {},
   "source": [
    "# Preguntas:\n",
    "\n",
    "Puedo poner estas operaciones en un gráfico que me permita evidenciar que pasó? Puede ser en Qiskit y ponerlos como vectores y una esfera de Bloch."
   ]
  },
  {
   "cell_type": "code",
   "execution_count": null,
   "metadata": {},
   "outputs": [],
   "source": [
    "M = np.array(\n",
    "    [\n",
    "        [47, 13, -34],\n",
    "        [-41, 4, 0],\n",
    "        [28, 58, 41],\n",
    "    ])"
   ]
  },
  {
   "cell_type": "code",
   "execution_count": null,
   "metadata": {},
   "outputs": [],
   "source": [
    "def svd(M):\n",
    "    return np.linalg.svd(M)"
   ]
  },
  {
   "cell_type": "code",
   "execution_count": null,
   "metadata": {},
   "outputs": [],
   "source": [
    "P, Q, R = svd(M)"
   ]
  }
 ],
 "metadata": {
  "kernelspec": {
   "display_name": "Python 3.8.8 ('env_q': venv)",
   "language": "python",
   "name": "python3"
  },
  "language_info": {
   "name": "python",
   "version": "3.8.8"
  },
  "orig_nbformat": 4,
  "vscode": {
   "interpreter": {
    "hash": "bd6e4bacb7db89c65224064565ee233b61b65f87508f025a56f4dfe92ea41ac3"
   }
  }
 },
 "nbformat": 4,
 "nbformat_minor": 2
}
