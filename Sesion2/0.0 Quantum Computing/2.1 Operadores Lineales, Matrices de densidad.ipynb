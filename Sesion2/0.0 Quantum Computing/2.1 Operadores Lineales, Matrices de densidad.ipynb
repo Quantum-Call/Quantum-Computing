{
 "cells": [
  {
   "cell_type": "code",
   "execution_count": 17,
   "metadata": {},
   "outputs": [],
   "source": [
    "from qiskit import *\n",
    "from qiskit import quantum_info\n",
    "import qiskit.visualization as viz\n",
    "import numpy as np\n",
    "import matplotlib.pyplot as plt\n"
   ]
  },
  {
   "cell_type": "markdown",
   "metadata": {},
   "source": [
    "# Operadores Lineales\n",
    "\n"
   ]
  },
  {
   "cell_type": "markdown",
   "metadata": {},
   "source": [
    "Todas las compeurta cuánticas son operadores lineales que se reprensant con una matriz. Es decir funciones que nos llevan de un espacio a otro espacio."
   ]
  },
  {
   "cell_type": "markdown",
   "metadata": {},
   "source": [
    "## Density Operator\n",
    "\n",
    "$$\\ket{\\psi} = a_0\\ket{0} + a_1\\ket{1}$$\n",
    "$$p_{\\psi}=\\ket{\\psi}\\bra{\\psi}$$\n",
    "$$p_{\\psi}=\\begin{bmatrix}a_0^*a_0&a_1^*a_0\\\\a_0^*a_1&a_1^*a_1\\end{bmatrix}$$\n",
    "\n",
    "Propiedades del operador densidad:\n",
    "\n",
    "- La traza o suma de la diagonal principal es 1:\n",
    "\n",
    "$$Tr(p_{\\psi}=1)$$\n",
    "\n",
    "- Si multiplicamos esta matriz por si misma, dara la misma matriz,es posible proyectarse:\n",
    "\n",
    "$$p_{\\psi}^2= p_{\\psi}$$\n",
    "\n",
    "- La adjunta es igual a si misma:\n",
    "\n",
    "$$p_{\\psi}^{\\dag}= p_{\\psi}$$\n",
    "\n",
    "- Valores mayores que cero:\n",
    "\n",
    "$$p_{\\psi}>0$$\n",
    "\n",
    "### Matriz de densidad de un estao cuántico puro.\n",
    "\n",
    "- Si queremos expectation values de las mediciones, multiplicamos nuestra matriz $p_{\\psi}$ por una **matriz de densidad** y a esto le tomamos su traza:\n",
    "\n",
    "$$\\braket{A}=Tr(Ap_{\\psi})$$\n",
    "\n",
    "$$\\braket{M_0}=Tr(M_0p_{\\psi})$$"
   ]
  },
  {
   "cell_type": "markdown",
   "metadata": {},
   "source": [
    "Ejemplo:\n",
    "\n",
    "Tenemos un qubit en el estado de superposición y queremos calcular la matriz de densidad de este Qubit\n",
    "\n",
    "$$\\ket{\\psi}=\\frac{1}{\\sqrt{2}}\\ket{0}+\\frac{1}{\\sqrt{2}}\\ket{1}$$\n",
    "\n",
    "Nuestro valor $p_{\\psi}$ es una matriz :\n",
    "\n",
    "$$p_{\\psi}=\\begin{bmatrix}\\frac{1}{2}&\\frac{1}{2}\\\\\\frac{1}{2}&\\frac{1}{2}\\end{bmatrix}$$\n",
    "...."
   ]
  },
  {
   "cell_type": "markdown",
   "metadata": {},
   "source": [
    "# Matriz de densidad\n",
    "\n",
    "Veamos un que pasa cuando tenemos dos qubits juntos y queremos tener una matriz de densidad de un estado puro en superposición:\n",
    "\n",
    "$$\\ket{\\psi\\phi}=c_1\\ket{00}+c_1\\ket{01}+c_2\\ket{10}+c_2\\ket{11}$$\n",
    "\n",
    "La matriz $p_{\\psi\\phi}$ estaría definida por el producto externo de:\n",
    "\n",
    "$$p_{\\psi\\phi} = \\ket{\\psi} \\bra{\\phi}$$\n",
    "\n",
    "$$p_{\\psi\\phi}=\\begin{bmatrix}c_0^*c_0&c_1^*c_0&c_2^*c_0&c_3^*c_0\\\\c_0^*c_1&c_1^*c_1&c_2^*c_1&c_3^*c_1\\\\c_0^*c_2&c_1^*c_2&c_2^*c_2&c_3^*c_2\\\\c_0^*c_3&c_1^*c_3&c_2^*c_3&c_3^*c_3\\end{bmatrix}=p_{\\phi}\\otimes p_{\\phi}$$\n",
    "\n",
    "Podemos realizar el calclulo de la matriz de densidad para un qubit en entrelazado, en los diferrentes estados de Bell, tomemos como ejemplo la siguiente matriz:\n",
    "\n",
    "$$\\ket{B_0}=\\frac{1}{\\sqrt{2}}\\ket{00}+\\frac{1}{\\sqrt{2}}\\ket{11}$$\n",
    "\n",
    "$$p_{B_0}=\\ket{B_0} \\bra{B_0}$$\n",
    "$$p_{B_0}=\\begin{bmatrix}\\frac{1}{2}&0&0&\\frac{1}{2}\\\\0&0&0&0\\\\\\frac{1}{2}&0&0&0\\\\\\frac{1}{2}&0&0&\\frac{1}{2}\\end{bmatrix}$$\n",
    "\n",
    "Podemos calcular el estado de bell-1 $B_1$:\n",
    "\n",
    "\n",
    "$$\\ket{B_1}=\\frac{1}{\\sqrt{2}}\\ket{01}+\\frac{1}{\\sqrt{2}}\\ket{10}$$\n",
    "\n",
    "$$p_{B_1}=\\ket{B_1} \\bra{B_1}$$\n",
    "$$p_{B_1}=\\begin{bmatrix}0&0&0&0\\\\0&\\frac{1}{2}&\\frac{1}{2}&0\\\\0&\\frac{1}{2}&\\frac{1}{2}&0\\\\0&0&0&0\\end{bmatrix}$$\n",
    "\n",
    "\n"
   ]
  },
  {
   "cell_type": "markdown",
   "metadata": {},
   "source": [
    "## Estados Mixtos\n",
    "\n",
    "Es importante notar qu eno siempre tendremos nuestro estado de maenra pura, es decir  imaginemo suna caja con multiples estados, pero estos no se encuentran en superposición\n",
    "\n",
    "Tenemos un 50% para qubits en un estado $\\ket{0}$ y 50% para $\\ket{1}$, ¿Como calcular la matriz de densidad?\n",
    "Es posible si multiplicamos la probabilidad de tomar un qubit de estos por nuestra matriz cero:\n",
    "\n",
    "$$p_o = \\begin{bmatrix}\\frac{1}{2}&0\\\\0&\\frac{1}{2}\\end{bmatrix} $$\n",
    "\n",
    "$$\\ket{0}\\bra{0} =\\begin{bmatrix}1&0\\\\0&0\\end{bmatrix}$$\n",
    "\n",
    "$$\\ket{1}\\bra{1} =\\begin{bmatrix}0&0\\\\0&1\\end{bmatrix}$$\n",
    "\n",
    "$$p_{\\psi} = \\begin{bmatrix}\\frac{1}{2}&\\frac{1}{2}\\\\\\frac{1}{2}&\\frac{1}{2}\\end{bmatrix} $$\n",
    "\n",
    "Aquí tenemos un qubit con un estado fijo $\\ket{\\psi}$ y nuestro otro qubit tiene un 50% de ser 0 o 1.\n",
    "\n",
    "\n",
    "¿Porqué nacen estos estados mixtos?"
   ]
  },
  {
   "cell_type": "markdown",
   "metadata": {},
   "source": [
    "## Compuerta cuántica aplciada a una matriz de densidad\n",
    "\n",
    "\n",
    "Tenenemos un qubit en estado puro en determinado circuito, y queremos operar su matriz de densidad con una compuerta cuántica $U$ cualquiera:\n",
    "\n",
    "- Density matrix: $p$\n",
    "\n",
    "$$p=\\ket{\\psi}\\bra{\\psi}$$\n",
    "\n",
    "- Quantum Gate $U$\n",
    "\n",
    "$$UpU^{\\dag}=U\\ket{\\psi}\\bra{\\psi}U^{\\dag}=  (U\\ket{\\psi}^{\\dag})(U\\ket{\\psi}^{\\dag}) $$"
   ]
  },
  {
   "cell_type": "code",
   "execution_count": 10,
   "metadata": {},
   "outputs": [],
   "source": [
    "qr = QuantumRegister(2)\n",
    "qc = QuantumCircuit(qr)"
   ]
  },
  {
   "cell_type": "code",
   "execution_count": 11,
   "metadata": {},
   "outputs": [
    {
     "data": {
      "image/png": "[encoded data removed]",
      "text/plain": [
       "<Figure size 129.823x144.48 with 1 Axes>"
      ]
     },
     "execution_count": 11,
     "metadata": {},
     "output_type": "execute_result"
    }
   ],
   "source": [
    "qc.draw(output='mpl')"
   ]
  },
  {
   "cell_type": "markdown",
   "metadata": {},
   "source": [
    "La función initialize del circuito..."
   ]
  },
  {
   "cell_type": "code",
   "execution_count": 12,
   "metadata": {},
   "outputs": [
    {
     "data": {
      "image/png": "[encoded data removed]",
      "text/plain": [
       "<Figure size 220.123x144.48 with 1 Axes>"
      ]
     },
     "execution_count": 12,
     "metadata": {},
     "output_type": "execute_result"
    }
   ],
   "source": [
    "qc.initialize([0,0,1,0], qr)\n",
    "qc.draw(output='mpl')"
   ]
  },
  {
   "cell_type": "markdown",
   "metadata": {},
   "source": [
    "Antes de superponer a nuestro qubit,¿podemos encontrar nuestra matri de densidad?"
   ]
  },
  {
   "cell_type": "code",
   "execution_count": 13,
   "metadata": {},
   "outputs": [
    {
     "name": "stdout",
     "output_type": "stream",
     "text": [
      "Statevector([0.+0.j, 0.+0.j, 1.+0.j, 0.+0.j],\n",
      "            dims=(2, 2))\n"
     ]
    }
   ],
   "source": [
    "backend = Aer.get_backend('statevector_simulator')\n",
    "initial_state = execute(qc, backend).result().get_statevector()\n",
    "initial_state"
   ]
  },
  {
   "cell_type": "markdown",
   "metadata": {},
   "source": [
    "Añadimos las compuertas de hadarmad y cnot gate"
   ]
  },
  {
   "cell_type": "code",
   "execution_count": 14,
   "metadata": {},
   "outputs": [
    {
     "data": {
      "image/png": "[encoded data removed]",
      "text/plain": [
       "<Figure size 340.523x144.48 with 1 Axes>"
      ]
     },
     "execution_count": 14,
     "metadata": {},
     "output_type": "execute_result"
    }
   ],
   "source": [
    "qc.h(0)\n",
    "qc.cx(0,1)\n",
    "qc.draw(output='mpl')"
   ]
  },
  {
   "cell_type": "code",
   "execution_count": 15,
   "metadata": {},
   "outputs": [
    {
     "name": "stdout",
     "output_type": "stream",
     "text": [
      "Statevector([0.        +0.j, 0.70710678+0.j, 0.70710678+0.j,\n",
      "             0.        +0.j],\n",
      "            dims=(2, 2))\n"
     ]
    }
   ],
   "source": [
    "# Bell state:\n",
    "bell_state = execute(qc, backend).result().get_statevector()\n",
    "bell_state"
   ]
  },
  {
   "cell_type": "code",
   "execution_count": 18,
   "metadata": {},
   "outputs": [
    {
     "name": "stdout",
     "output_type": "stream",
     "text": [
      "DensityMatrix([[0.+0.j, 0.+0.j, 0.+0.j, 0.+0.j],\n",
      "               [0.+0.j, 0.+0.j, 0.+0.j, 0.+0.j],\n",
      "               [0.+0.j, 0.+0.j, 1.+0.j, 0.+0.j],\n",
      "               [0.+0.j, 0.+0.j, 0.+0.j, 0.+0.j]],\n",
      "              dims=(2, 2))\n"
     ]
    }
   ],
   "source": [
    "# Calculamos matriz de densidad\n",
    "quantum_info.DensityMatrix(initial_state)"
   ]
  },
  {
   "cell_type": "code",
   "execution_count": 23,
   "metadata": {},
   "outputs": [
    {
     "name": "stdout",
     "output_type": "stream",
     "text": [
      "DensityMatrix([[0. +0.j, 0. +0.j, 0. +0.j, 0. +0.j],\n",
      "               [0. +0.j, 0.5+0.j, 0.5+0.j, 0. +0.j],\n",
      "               [0. +0.j, 0.5+0.j, 0.5+0.j, 0. +0.j],\n",
      "               [0. +0.j, 0. +0.j, 0. +0.j, 0. +0.j]],\n",
      "              dims=(2, 2))\n"
     ]
    }
   ],
   "source": [
    "# Calculamos matriz de densidad\n",
    "quantum_info.DensityMatrix(bell_state)"
   ]
  },
  {
   "cell_type": "code",
   "execution_count": null,
   "metadata": {},
   "outputs": [],
   "source": [
    "\n"
   ]
  },
  {
   "cell_type": "code",
   "execution_count": null,
   "metadata": {},
   "outputs": [],
   "source": []
  },
  {
   "cell_type": "code",
   "execution_count": null,
   "metadata": {},
   "outputs": [],
   "source": []
  }
 ],
 "metadata": {
  "kernelspec": {
   "display_name": "Python 3.8.8 ('env_q': venv)",
   "language": "python",
   "name": "python3"
  },
  "language_info": {
   "codemirror_mode": {
    "name": "ipython",
    "version": 3
   },
   "file_extension": ".py",
   "mimetype": "text/x-python",
   "name": "python",
   "nbconvert_exporter": "python",
   "pygments_lexer": "ipython3",
   "version": "3.8.8"
  },
  "orig_nbformat": 4,
  "vscode": {
   "interpreter": {
    "hash": "bd6e4bacb7db89c65224064565ee233b61b65f87508f025a56f4dfe92ea41ac3"
   }
  }
 },
 "nbformat": 4,
 "nbformat_minor": 2
}
