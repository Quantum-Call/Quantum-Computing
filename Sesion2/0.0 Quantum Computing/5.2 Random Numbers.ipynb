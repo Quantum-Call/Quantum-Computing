{
 "cells": [
  {
   "cell_type": "code",
   "execution_count": 1,
   "metadata": {},
   "outputs": [],
   "source": [
    "from qiskit import *\n",
    "import pandas as pd\n",
    "import numpy as np\n",
    "import matplotlib.pyplot as plt\n",
    "import seaborn as sns\n",
    "\n"
   ]
  },
  {
   "cell_type": "code",
   "execution_count": 2,
   "metadata": {},
   "outputs": [],
   "source": [
    "sns.set_theme()"
   ]
  },
  {
   "cell_type": "markdown",
   "metadata": {},
   "source": [
    "# Random Numbers\n",
    "\n",
    "Queremos crear números aleatorios que sean verdaderamente aleatorios, "
   ]
  },
  {
   "cell_type": "code",
   "execution_count": 13,
   "metadata": {},
   "outputs": [],
   "source": [
    "def qr_numbers(n):\n",
    "    # n : Number qubits and Clasical bits\n",
    "    # Función retorna el objeto circuito y la representación de matplotlib.\n",
    "    circuit = QuantumCircuit(n,n)\n",
    "    for i in range(0, int(n)):\n",
    "        circuit.h(i)\n",
    "        circuit.measure(i,i)\n",
    "    return circuit, circuit.draw(output='mpl')\n",
    "    "
   ]
  },
  {
   "cell_type": "code",
   "execution_count": 32,
   "metadata": {},
   "outputs": [],
   "source": [
    "circuit, representation = qr_numbers(10)"
   ]
  },
  {
   "cell_type": "code",
   "execution_count": 33,
   "metadata": {},
   "outputs": [
    {
     "data": {
      "text/plain": [
       "<qiskit.circuit.quantumcircuit.QuantumCircuit at 0x205d3aa0b80>"
      ]
     },
     "execution_count": 33,
     "metadata": {},
     "output_type": "execute_result"
    }
   ],
   "source": [
    "circuit"
   ]
  },
  {
   "cell_type": "code",
   "execution_count": 34,
   "metadata": {},
   "outputs": [
    {
     "data": {
      "text/plain": [
       "Result(backend_name='statevector_simulator', backend_version='0.10.4', qobj_id='5a6473da-d95f-412a-a471-18681c278d11', job_id='af217d49-81c2-4172-83c7-309bc4d8e99e', success=True, results=[ExperimentResult(shots=1, success=True, meas_level=2, data=ExperimentResultData(counts={'0x2d9': 1}, statevector=Statevector([0.+0.j, 0.+0.j, 0.+0.j, ..., 0.+0.j, 0.+0.j, 0.+0.j],\n",
       "            dims=(2, 2, 2, 2, 2, 2, 2, 2, 2, 2))), header=QobjExperimentHeader(clbit_labels=[['c', 0], ['c', 1], ['c', 2], ['c', 3], ['c', 4], ['c', 5], ['c', 6], ['c', 7], ['c', 8], ['c', 9]], creg_sizes=[['c', 10]], global_phase=0.0, memory_slots=10, metadata={}, n_qubits=10, name='circuit-1291', qreg_sizes=[['q', 10]], qubit_labels=[['q', 0], ['q', 1], ['q', 2], ['q', 3], ['q', 4], ['q', 5], ['q', 6], ['q', 7], ['q', 8], ['q', 9]]), status=DONE, seed_simulator=1210372106, metadata={'batched_shots_optimization': False, 'method': 'statevector', 'active_input_qubits': [0, 1, 2, 3, 4, 5, 6, 7, 8, 9], 'device': 'CPU', 'remapped_qubits': False, 'num_qubits': 10, 'num_clbits': 10, 'input_qubit_map': [[0, 0], [1, 1], [2, 2], [3, 3], [4, 4], [5, 5], [6, 6], [7, 7], [8, 8], [9, 9]], 'measure_sampling': False, 'noise': 'ideal', 'parallel_shots': 1, 'parallel_state_update': 4, 'fusion': {'enabled': True, 'threshold': 14, 'max_fused_qubits': 5, 'applied': False}, 'result_subtypes': {'statevector': 'single'}, 'result_types': {'statevector': 'save_statevector'}}, time_taken=0.0011745)], date=2022-09-05T06:38:00.695015, status=COMPLETED, header=QobjHeader(backend_name='statevector_simulator', backend_version='0.10.4'), metadata={'parallel_experiments': 1, 'omp_enabled': True, 'max_memory_mb': 8091, 'max_gpu_memory_mb': 0, 'mpi_rank': 0, 'time_taken_load_qobj': 0.0002123, 'num_mpi_processes': 1, 'time_taken_execute': 0.0012486, 'time_taken': 0.0014703}, time_taken=0.002000570297241211)"
      ]
     },
     "execution_count": 34,
     "metadata": {},
     "output_type": "execute_result"
    }
   ],
   "source": [
    "backend = Aer.get_backend('statevector_simulator')\n",
    "outcome = execute(circuit, backend).result()\n",
    "outcome"
   ]
  },
  {
   "cell_type": "code",
   "execution_count": 39,
   "metadata": {},
   "outputs": [
    {
     "data": {
      "image/png": "[encoded data removed]",
      "text/plain": [
       "<Figure size 748.797x686.28 with 1 Axes>"
      ]
     },
     "execution_count": 39,
     "metadata": {},
     "output_type": "execute_result"
    }
   ],
   "source": [
    "representation"
   ]
  },
  {
   "cell_type": "markdown",
   "metadata": {},
   "source": [
    "# NOTAS PARA CURAR\n",
    "\n",
    "Ir armando u módulo de  funciones de utilidad  para mejorar el trabajo que estoy haciendo de explicar, es decir, funciones para crear reportes, gráficos frecuentes ymás.\n",
    "Aquí estaría muy bien escribir con las funciones de state city para visualizar como los outcomes de cada ejecución me traen diferentes probabilidades"
   ]
  },
  {
   "cell_type": "markdown",
   "metadata": {},
   "source": [
    "Aqui sería muy interesante hacer lo siguiente, generar una distribución aleatoria con numpy de un conjunto de datos, y graficar la distribución.\n",
    "\n",
    "Posteriormente, generar números aleatorios cuánticmanete y graficarlos compara las gráficas."
   ]
  },
  {
   "cell_type": "code",
   "execution_count": 35,
   "metadata": {},
   "outputs": [
    {
     "data": {
      "text/plain": [
       "{'1011011001': 1}"
      ]
     },
     "execution_count": 35,
     "metadata": {},
     "output_type": "execute_result"
    }
   ],
   "source": [
    "outcome.get_counts()"
   ]
  },
  {
   "cell_type": "code",
   "execution_count": 36,
   "metadata": {},
   "outputs": [
    {
     "data": {
      "text/plain": [
       "{'0110011001': 1}"
      ]
     },
     "execution_count": 36,
     "metadata": {},
     "output_type": "execute_result"
    }
   ],
   "source": [
    "outcome = execute(circuit, backend).result()\n",
    "outcome\n",
    "outcome.get_counts()"
   ]
  },
  {
   "cell_type": "code",
   "execution_count": 40,
   "metadata": {},
   "outputs": [],
   "source": [
    "measure = []\n",
    "for j in range(0,100):\n",
    "    outcome = execute(circuit, backend).result()\n",
    "    hist = outcome.get_counts()\n",
    "    for i in hist.keys():\n",
    "        measure.append(int(i,2))"
   ]
  },
  {
   "cell_type": "code",
   "execution_count": 41,
   "metadata": {},
   "outputs": [
    {
     "data": {
      "text/plain": [
       "[192,\n",
       " 945,\n",
       " 234,\n",
       " 388,\n",
       " 7,\n",
       " 998,\n",
       " 352,\n",
       " 973,\n",
       " 663,\n",
       " 613,\n",
       " 204,\n",
       " 297,\n",
       " 335,\n",
       " 106,\n",
       " 156,\n",
       " 739,\n",
       " 541,\n",
       " 893,\n",
       " 456,\n",
       " 208,\n",
       " 386,\n",
       " 331,\n",
       " 278,\n",
       " 157,\n",
       " 784,\n",
       " 514,\n",
       " 729,\n",
       " 896,\n",
       " 164,\n",
       " 934,\n",
       " 235,\n",
       " 1020,\n",
       " 77,\n",
       " 595,\n",
       " 996,\n",
       " 965,\n",
       " 12,\n",
       " 115,\n",
       " 579,\n",
       " 389,\n",
       " 682,\n",
       " 986,\n",
       " 107,\n",
       " 497,\n",
       " 8,\n",
       " 654,\n",
       " 935,\n",
       " 74,\n",
       " 166,\n",
       " 349,\n",
       " 935,\n",
       " 302,\n",
       " 150,\n",
       " 637,\n",
       " 827,\n",
       " 995,\n",
       " 439,\n",
       " 476,\n",
       " 926,\n",
       " 355,\n",
       " 431,\n",
       " 623,\n",
       " 633,\n",
       " 825,\n",
       " 111,\n",
       " 32,\n",
       " 955,\n",
       " 977,\n",
       " 377,\n",
       " 732,\n",
       " 41,\n",
       " 986,\n",
       " 849,\n",
       " 169,\n",
       " 221,\n",
       " 456,\n",
       " 806,\n",
       " 961,\n",
       " 779,\n",
       " 240,\n",
       " 436,\n",
       " 571,\n",
       " 78,\n",
       " 643,\n",
       " 698,\n",
       " 175,\n",
       " 63,\n",
       " 966,\n",
       " 701,\n",
       " 382,\n",
       " 464,\n",
       " 740,\n",
       " 585,\n",
       " 398,\n",
       " 740,\n",
       " 493,\n",
       " 456,\n",
       " 1017,\n",
       " 83,\n",
       " 616]"
      ]
     },
     "execution_count": 41,
     "metadata": {},
     "output_type": "execute_result"
    }
   ],
   "source": [
    "measure"
   ]
  },
  {
   "cell_type": "code",
   "execution_count": 44,
   "metadata": {},
   "outputs": [
    {
     "name": "stderr",
     "output_type": "stream",
     "text": [
      "a:\\Cerebrum\\Learning_Notebooks\\NoteBooks\\Curso de Quamtum\\env_q\\lib\\site-packages\\seaborn\\distributions.py:2619: FutureWarning: `distplot` is a deprecated function and will be removed in a future version. Please adapt your code to use either `displot` (a figure-level function with similar flexibility) or `histplot` (an axes-level function for histograms).\n",
      "  warnings.warn(msg, FutureWarning)\n"
     ]
    },
    {
     "data": {
      "text/plain": [
       "<AxesSubplot:ylabel='Density'>"
      ]
     },
     "execution_count": 44,
     "metadata": {},
     "output_type": "execute_result"
    },
    {
     "data": {
      "image/png": "[encoded data removed]",
      "text/plain": [
       "<Figure size 432x288 with 1 Axes>"
      ]
     },
     "metadata": {
      "needs_background": "light"
     },
     "output_type": "display_data"
    }
   ],
   "source": [
    "quantum_numbers = np.array(measure)\n",
    "sns.distplot(quantum_numbers)\n"
   ]
  },
  {
   "cell_type": "code",
   "execution_count": 51,
   "metadata": {},
   "outputs": [
    {
     "name": "stderr",
     "output_type": "stream",
     "text": [
      "a:\\Cerebrum\\Learning_Notebooks\\NoteBooks\\Curso de Quamtum\\env_q\\lib\\site-packages\\seaborn\\distributions.py:2619: FutureWarning: `distplot` is a deprecated function and will be removed in a future version. Please adapt your code to use either `displot` (a figure-level function with similar flexibility) or `histplot` (an axes-level function for histograms).\n",
      "  warnings.warn(msg, FutureWarning)\n"
     ]
    },
    {
     "data": {
      "text/plain": [
       "<AxesSubplot:ylabel='Density'>"
      ]
     },
     "execution_count": 51,
     "metadata": {},
     "output_type": "execute_result"
    },
    {
     "data": {
      "image/png": "[encoded data removed]",
      "text/plain": [
       "<Figure size 432x288 with 1 Axes>"
      ]
     },
     "metadata": {
      "needs_background": "light"
     },
     "output_type": "display_data"
    },
    {
     "ename": "",
     "evalue": "",
     "output_type": "error",
     "traceback": [
      "\u001b[1;31mEl Kernel se bloqueó al ejecutar código en la celda actual o en una celda anterior. Revise el código de las celdas para identificar una posible causa del error. Haga clic <a href='https://aka.ms/vscodeJupyterKernelCrash'>aquí</a> para obtener más información. Vea el [registro] de Jupyter (command:jupyter.viewOutput) para obtener más detalles."
     ]
    }
   ],
   "source": [
    "clasical_numbers = np.random.choice(100,100,100)\n",
    "sns.distplot(clasical_numbers)"
   ]
  },
  {
   "cell_type": "code",
   "execution_count": null,
   "metadata": {},
   "outputs": [],
   "source": []
  }
 ],
 "metadata": {
  "kernelspec": {
   "display_name": "Python 3.8.8 ('env_q': venv)",
   "language": "python",
   "name": "python3"
  },
  "language_info": {
   "codemirror_mode": {
    "name": "ipython",
    "version": 3
   },
   "file_extension": ".py",
   "mimetype": "text/x-python",
   "name": "python",
   "nbconvert_exporter": "python",
   "pygments_lexer": "ipython3",
   "version": "3.8.8"
  },
  "orig_nbformat": 4,
  "vscode": {
   "interpreter": {
    "hash": "bd6e4bacb7db89c65224064565ee233b61b65f87508f025a56f4dfe92ea41ac3"
   }
  }
 },
 "nbformat": 4,
 "nbformat_minor": 2
}
