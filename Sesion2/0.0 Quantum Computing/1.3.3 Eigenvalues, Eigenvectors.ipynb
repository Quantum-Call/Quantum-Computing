{
 "cells": [
  {
   "cell_type": "markdown",
   "metadata": {},
   "source": [
    "# Eigenvalues, Eigenvectors and Diagonalization\n",
    "\n",
    "### Eigenvalue: \n",
    "\n",
    "Supongamos que tenemos una matriz $A$ en la que al multiplicarse por un vector. $\\vec{v}$:\n",
    "\n",
    "$$A\\vec{v} = \\lambda \\vec{v}$$\n",
    "\n",
    "Para encontrar estos valores propios podemos partir de lo siguiente:\n",
    "\n",
    "$$(A-\\lambda I)\\vec{v}=0$$\n",
    "\n",
    "$$det(A-\\lambda I)\\vec{v}=0$$\n",
    "\n",
    "Restaremos a la matriz este valor lambda:\n",
    "\n",
    "$$A-\\lambda I=\\begin{bmatrix}1&1\\\\0&2\\end{bmatrix} - \\begin{bmatrix}\\lambda&0\\\\0&\\lambda\\end{bmatrix}$$\n",
    "\n",
    "$$A-\\lambda I=\\begin{bmatrix}1-\\lambda&1\\\\0&2-\\lambda\\end{bmatrix}$$\n",
    "\n",
    "\n",
    "Si tomamos el determinante tendríamos que, los valores propios o eigenvalues son $\\lambda_1=1 y\\lambda_2=2$\n",
    "\n",
    "$$det(A-\\lambda I)=(1-\\lambda)(2-\\lambda)=0$$"
   ]
  },
  {
   "cell_type": "markdown",
   "metadata": {},
   "source": [
    "### Eigenvectors:\n",
    "\n",
    "$$A\\vec{v} = \\lambda \\vec{v}$$\n",
    "Para calcular los eigenvectors, requerimos tomar los $\\lambda$ y reemplazarlos en la formula y operarlos, así:\n",
    "\n",
    "- Para $\\lambda_1$\n",
    "$$A-\\lambda I=\\begin{bmatrix}1-1&1\\\\0&2-1\\end{bmatrix} $$\n",
    "\n",
    "- Para $\\lambda_2$\n",
    "$$A-\\lambda I=\\begin{bmatrix}1-2&1\\\\0&2-2\\end{bmatrix} $$\n",
    "\n",
    "\n",
    "El reto es encontrar un vector tal que multiplicado por nuestras matrices resultantes me retornen $0$:\n",
    "\n",
    "- Para $\\lambda_1$\n",
    "$$\\begin{bmatrix}0&1\\\\0&1\\end{bmatrix}\\begin{bmatrix}\\vec{v_1}\\\\\\vec{v_1}\\end{bmatrix}=\\vec{0}$$\n",
    "- Para $\\lambda_2$\n",
    "$$\\begin{bmatrix}-1&1\\\\0&0\\end{bmatrix}\\begin{bmatrix}\\vec{v_1}\\\\\\vec{v_1}\\end{bmatrix}=\\vec{0}$$\n",
    "\n",
    "Estos vectores son:\n",
    "\n",
    "- Para $\\lambda_1$\n",
    "$$\\begin{bmatrix}0&1\\\\0&1\\end{bmatrix}\\begin{bmatrix}1\\\\0\\end{bmatrix}=\\vec{0}$$\n",
    "- Para $\\lambda_2$\n",
    "$$\\begin{bmatrix}-1&1\\\\0&0\\end{bmatrix}\\begin{bmatrix}1\\\\1\\end{bmatrix}=\\vec{0}$$"
   ]
  },
  {
   "cell_type": "markdown",
   "metadata": {},
   "source": [
    "#### Diagonalización\n",
    "\n",
    "Para ciertas matrices podemos describirlas en términos de sus eigenvalues y eigenvectors:\n",
    "\n",
    "$$A = PDP^{-1}$$\n",
    "\n",
    "$$A = \\begin{bmatrix}\\vec{v_1}&\\vec{v_2}\\end{bmatrix}\\begin{bmatrix}\\lambda_1&0\\\\0&\\lambda_2\\end{bmatrix}P^{-1}$$\n",
    "\n",
    "\n",
    "$$A = \\begin{bmatrix}1&1\\\\0&1\\end{bmatrix} \\begin{bmatrix}\\lambda_1&0\\\\0&\\lambda_2\\end{bmatrix}P^{-1}$$\n",
    "\n",
    "Para calcular la inversa de P, usaremos una matriz aumentada que surge de usar la identidad:\n",
    "\n",
    "$$IP^{-1} = \\begin{bmatrix}1&0&|&1&-1\\\\0&1&|&0&1\\end{bmatrix}$$\n",
    "\n",
    "Ahora tenemos esta expresion para neustra matriz A:\n",
    "\n",
    "$$A = \\begin{bmatrix}1&1\\\\0&1\\end{bmatrix} \\begin{bmatrix}\\lambda_1&0\\\\0&\\lambda_2\\end{bmatrix}\\begin{bmatrix}1&-1\\\\0&1\\end{bmatrix}$$"
   ]
  },
  {
   "cell_type": "code",
   "execution_count": 1,
   "metadata": {},
   "outputs": [],
   "source": [
    "from qiskit import *\n",
    "import pandas as pd\n",
    "import numpy as np\n",
    "import matplotlib.pyplot as plt\n",
    "import seaborn as sns"
   ]
  },
  {
   "cell_type": "code",
   "execution_count": 2,
   "metadata": {},
   "outputs": [],
   "source": [
    "# Given M matrix:\n",
    "\n",
    "M = np.array([\n",
    "    [12,41,-12],\n",
    "    [-41,13,5],\n",
    "    [11,1,7],\n",
    "])\n"
   ]
  },
  {
   "cell_type": "code",
   "execution_count": 7,
   "metadata": {},
   "outputs": [],
   "source": [
    "def get_eigenvalues(Matrix):\n",
    "    return np.linalg.eigvals(Matrix)\n",
    "\n",
    "def get_eigenvectors(Matrix):\n",
    "    # Returns eigenvalues and eigenvectors.\n",
    "    w, v = np.linalg.eig(M)\n",
    "    return w, v\n"
   ]
  },
  {
   "cell_type": "code",
   "execution_count": 8,
   "metadata": {},
   "outputs": [
    {
     "data": {
      "text/plain": [
       "array([11.53487689+42.42555873j, 11.53487689-42.42555873j,\n",
       "        8.93024622 +0.j        ])"
      ]
     },
     "execution_count": 8,
     "metadata": {},
     "output_type": "execute_result"
    }
   ],
   "source": [
    "get_eigenvalues(M)"
   ]
  },
  {
   "cell_type": "code",
   "execution_count": 9,
   "metadata": {},
   "outputs": [
    {
     "data": {
      "text/plain": [
       "(array([11.53487689+42.42555873j, 11.53487689-42.42555873j,\n",
       "         8.93024622 +0.j        ]),\n",
       " array([[0.7089834 +0.j        , 0.7089834 -0.j        ,\n",
       "         0.14280469+0.j        ],\n",
       "        [0.00228901+0.68092115j, 0.00228901-0.68092115j,\n",
       "         0.26815642+0.j        ],\n",
       "        [0.03530116-0.18010417j, 0.03530116+0.18010417j,\n",
       "         0.95273236+0.j        ]]))"
      ]
     },
     "execution_count": 9,
     "metadata": {},
     "output_type": "execute_result"
    },
    {
     "ename": "",
     "evalue": "",
     "output_type": "error",
     "traceback": [
      "\u001b[1;31mEl Kernel se bloqueó al ejecutar código en la celda actual o en una celda anterior. Revise el código de las celdas para identificar una posible causa del error. Haga clic <a href='https://aka.ms/vscodeJupyterKernelCrash'>aquí</a> para obtener más información. Vea el [registro] de Jupyter (command:jupyter.viewOutput) para obtener más detalles."
     ]
    }
   ],
   "source": [
    "get_eigenvectors(M)"
   ]
  },
  {
   "cell_type": "code",
   "execution_count": null,
   "metadata": {},
   "outputs": [],
   "source": []
  },
  {
   "cell_type": "code",
   "execution_count": null,
   "metadata": {},
   "outputs": [],
   "source": []
  }
 ],
 "metadata": {
  "kernelspec": {
   "display_name": "Python 3.8.8 ('env_q': venv)",
   "language": "python",
   "name": "python3"
  },
  "language_info": {
   "codemirror_mode": {
    "name": "ipython",
    "version": 3
   },
   "file_extension": ".py",
   "mimetype": "text/x-python",
   "name": "python",
   "nbconvert_exporter": "python",
   "pygments_lexer": "ipython3",
   "version": "3.8.8"
  },
  "orig_nbformat": 4,
  "vscode": {
   "interpreter": {
    "hash": "bd6e4bacb7db89c65224064565ee233b61b65f87508f025a56f4dfe92ea41ac3"
   }
  }
 },
 "nbformat": 4,
 "nbformat_minor": 2
}
