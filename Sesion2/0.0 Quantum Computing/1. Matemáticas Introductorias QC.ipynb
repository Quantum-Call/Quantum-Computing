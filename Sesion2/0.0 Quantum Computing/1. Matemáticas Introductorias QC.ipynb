{
 "cells": [
  {
   "cell_type": "markdown",
   "metadata": {},
   "source": [
    "# Matemáticas para Cómputo Cuántico.\n",
    "\n"
   ]
  },
  {
   "cell_type": "markdown",
   "metadata": {},
   "source": [
    "Explicación sobre la matemática y la simología que se usará:\n",
    "$$\\begin{equation} \\vert \\psi \\rangle = \\frac{1}{2} \\vert 0\\rangle - \\frac{\\sqrt{3}i}{2} \\vert 1\\rangle, \\end{equation}$$"
   ]
  },
  {
   "cell_type": "markdown",
   "metadata": {},
   "source": [
    "\n"
   ]
  },
  {
   "cell_type": "code",
   "execution_count": null,
   "metadata": {},
   "outputs": [],
   "source": []
  }
 ],
 "metadata": {
  "kernelspec": {
   "display_name": "Python 3.10.7 ('env_q': venv)",
   "language": "python",
   "name": "python3"
  },
  "language_info": {
   "codemirror_mode": {
    "name": "ipython",
    "version": 3
   },
   "file_extension": ".py",
   "mimetype": "text/x-python",
   "name": "python",
   "nbconvert_exporter": "python",
   "pygments_lexer": "ipython3",
   "version": "3.10.7"
  },
  "orig_nbformat": 4,
  "vscode": {
   "interpreter": {
    "hash": "5c5f65bf42d6206e1c57117f942b147f5b7a64862f1f50f57b3fc6d1c3142406"
   }
  }
 },
 "nbformat": 4,
 "nbformat_minor": 2
}
