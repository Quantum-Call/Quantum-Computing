{
 "cells": [
  {
   "cell_type": "markdown",
   "metadata": {},
   "source": [
    "# Mecánica Cuántica\n",
    "\n",
    "## Postulado I de la mecánica Cuántica\n",
    "\n",
    "### Hilbert Space.\n",
    "\n",
    "- Un espacio de Hilbert  puede representarse como la suma de la decomposición de las bases multiplicado por sus coeficientes, debe ser linealmente independiente, Span cover space, Mutuamente ortogonal.\n",
    "\n",
    "\n",
    "$$\\ket{\\psi} = \\sum_{i=1}^{n}a_i\\ket{B_i}$$\n",
    "\n",
    "\n",
    "\n",
    "### Postulado II de la mecánica Cuántica\n",
    "\n",
    "\n",
    "### Super Operators, Euler Fórmula.\n",
    "\n",
    "\n",
    "\n",
    "Ya sabemos que al pasar un quibit por una compuerta cuántica nos devuelve un qubit, esto toma tiempo y podemos expresarlo así:\n",
    "\n",
    "$$\\ket{\\psi_0} = \\ket{\\psi_t}$$\n",
    "\n",
    "Un qubit en cualquier estado en el tiempo después puede ser representado mediante una matriz unitaria. Es decir a medida que pasa el tiempo el qubi puede pasar por muchas compuertas:\n",
    "\n",
    "$$U_nU_4U_3U_2U_1\\ket{\\psi_0}\\ket{\\psi_t}$$\n",
    "\n",
    "Puedo exprear a este conjunto de operaciones o compeurtas U mediante:\n",
    "\n",
    "$$\\epsilon\\ket{\\psi_0}\\ket{\\psi_t}$$\n",
    "\n",
    "\n",
    "¿Cómo asegurar que las operaciones U, son unitarias?, tomando la adjunta en ambos lados de la ecuación:\n",
    "\n",
    "$$\\epsilon=(U_4U_3U_2U_1)$$\n",
    "\n",
    "$$\\epsilon^{\\dag}=(U_4^{T}U_3^{T}U_2^{T}U_1^{T})^{*}$$\n",
    "\n",
    "- Tomamos la transpuesta y luego el complejo conjugado\n",
    "\n",
    "$$\\epsilon^{\\dag}=(U_1^{\\dag}U_2^{\\dag}U_3^{\\dag}U_4^{\\dag})$$\n",
    "\n",
    "- Aqui tenemos un producto interno que tenemos es una matriz unitaria.\n",
    "$$\\epsilon^{\\dag}\\epsilon=U_1^{\\dag}U_2^{\\dag}U_3^{\\dag}(U_4^{\\dag}U_4)U_3U_2U_1$$"
   ]
  },
  {
   "cell_type": "markdown",
   "metadata": {},
   "source": [
    "El  super operador  es epsilon, que recoge todas las U aplicadas y peude representarse como una matriz unitaria también.\n",
    "\n",
    "$$\\epsilon^{\\dag}\\epsilon=I$$"
   ]
  },
  {
   "cell_type": "markdown",
   "metadata": {},
   "source": [
    "# Euler Formula\n",
    "\n",
    "Es una forma de representar un número complejo en términos rotacionales y trigonométricos:\n",
    "\n",
    "$$a+b_i = Re^{i\\theta} = R * (\\cos{\\theta}+\\sin{\\theta})$$\n",
    "\n",
    "Lo que quiere decir es que podemos reemplazar los coeficientes de las bases por expresiones de la fórmula de Euler para hablar del cambio de fase.\n",
    "\n",
    "\n",
    "$$\\ket{\\psi}=a_1\\begin{bmatrix}1\\\\0\\end{bmatrix}+a_2\\begin{bmatrix}0\\\\1\\end{bmatrix}$$\n",
    "\n",
    "Para phase shifts:\n",
    "\n",
    "$$\\ket{\\psi}=R_1e^{i\\theta}\\begin{bmatrix}1\\\\0\\end{bmatrix}+R_2e^{i\\theta}\\begin{bmatrix}0\\\\1\\end{bmatrix}$$"
   ]
  },
  {
   "cell_type": "markdown",
   "metadata": {},
   "source": [
    "## Postulado III de la mecánica cuántica\n",
    "\n",
    "Observables.\n",
    "\n",
    "\"Todos los obserbables están asociados a eigenvalues cuando se mide.\"\n",
    "\n",
    "Digamos que tenemos un una matriz $B$ que representará nuestro obserbable.\n",
    "\n",
    "$$B\\ket{\\psi} = \\lambda\\ket{\\psi}$$\n",
    "\n",
    "Si aplciamos la operación adjoint y multiplicamos obtendremos con números real que representa nuestro obserbable.\n",
    "\n",
    "$$\\bra{\\psi}B\\ket{\\psi} = \\lambda^{dag}\\lambda$$\n",
    "\n",
    "### Born Rule:\n",
    "\n",
    "\n",
    "$$E(M)=\\sum_{i=0}^{n}ca_i^*a_i $$\n",
    "\n",
    "\n",
    "Para esto vamos a necesitar el outer-product. Digamos qu tenemos una Matriz M:\n",
    "\n",
    "$$\\bra{v}M\\ket{v}=\\bra{v}\\ket{0}\\bra{0}\\ket{v}=a_0^*a_0$$\n",
    "\n",
    "$$M_0=\\ket{0}\\bra{0}$$\n",
    "$$M_1=\\ket{1}\\bra{1}$$\n",
    "\n",
    "Tomamos el expecattion value:\n",
    "\n",
    "$$E(M)= c_0a_0^*a_0 + c_1a_1^*a_1$$\n",
    "$$E(M)= c_0\\bra{v}\\ket{0}\\bra{0}\\ket{v} + c_1\\bra{v}\\ket{1}\\bra{1}\\ket{v}$$\n",
    "\n",
    "Si hacemos una medición usando el operador para medir, obtendremos un expecation value de ello:\n",
    "\n",
    "$$M =\\sum_{i=0}^n\\lambda_i\\ket{\\lambda_i}\\bra{\\lambda_i}$$\n"
   ]
  },
  {
   "cell_type": "markdown",
   "metadata": {},
   "source": [
    "Ejemplo:\n",
    "\n",
    "Medir el siguiente estado de Qubit:\n",
    "\n",
    "$$\\ket{\\psi}=\\frac{i}{\\sqrt{5}}\\begin{bmatrix}1\\\\0\\end{bmatrix} + \\frac{2}{\\sqrt{5}}\\begin{bmatrix}0\\\\1\\end{bmatrix}$$\n",
    "\n",
    "Para medir calcularemos:\n",
    "\n",
    "$$\\bra{\\psi}M\\ket{\\psi}$$"
   ]
  },
  {
   "cell_type": "markdown",
   "metadata": {},
   "source": [
    "### Curar este contenido..."
   ]
  },
  {
   "cell_type": "code",
   "execution_count": null,
   "metadata": {},
   "outputs": [],
   "source": []
  }
 ],
 "metadata": {
  "kernelspec": {
   "display_name": "Python 3.8.8 ('env_q': venv)",
   "language": "python",
   "name": "python3"
  },
  "language_info": {
   "name": "python",
   "version": "3.8.8"
  },
  "orig_nbformat": 4,
  "vscode": {
   "interpreter": {
    "hash": "bd6e4bacb7db89c65224064565ee233b61b65f87508f025a56f4dfe92ea41ac3"
   }
  }
 },
 "nbformat": 4,
 "nbformat_minor": 2
}
