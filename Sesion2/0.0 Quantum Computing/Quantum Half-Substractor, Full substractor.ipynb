{
 "cells": [
  {
   "cell_type": "markdown",
   "metadata": {},
   "source": [
    "# Quantum Half-Substractor, Full substractor"
   ]
  },
  {
   "cell_type": "markdown",
   "metadata": {},
   "source": [
    "\n",
    "\n",
    "Estas operacioens son familiares en circuitos digitales,  pero peuden ser llevadas al cómputo cuántic.\n",
    "https://www.youtube.com/watch?v=SV4VTYWxKV4&ab_channel=NesoAcademy\n",
    "\n",
    "https://qiskit.org/textbook/ch-states/atoms-computation.html\n",
    "\n",
    "https://quantumcomputing.stackexchange.com/questions/1654/how-do-i-add-11-using-a-quantum-computer"
   ]
  },
  {
   "cell_type": "code",
   "execution_count": 25,
   "metadata": {},
   "outputs": [],
   "source": [
    "from qiskit import *\n",
    "import qiskit.visualization as visualization\n",
    "import numpy as np\n",
    "import matplotlib.pyplot as plt\n",
    "import pandas as pd\n",
    "import seaborn as sns\n",
    "import random \n",
    "sns.set_theme()"
   ]
  },
  {
   "cell_type": "code",
   "execution_count": 26,
   "metadata": {},
   "outputs": [],
   "source": [
    "backend = Aer.get_backend('statevector_simulator')"
   ]
  },
  {
   "cell_type": "code",
   "execution_count": 27,
   "metadata": {},
   "outputs": [
    {
     "ename": "SyntaxError",
     "evalue": "incomplete input (2517921269.py, line 2)",
     "output_type": "error",
     "traceback": [
      "\u001b[1;36m  Cell \u001b[1;32mIn [27], line 2\u001b[1;36m\u001b[0m\n\u001b[1;33m    return visualization.plot_bloch_multivector(execute(quantumC, backend).result().get_statevector()\u001b[0m\n\u001b[1;37m                                                                                                     ^\u001b[0m\n\u001b[1;31mSyntaxError\u001b[0m\u001b[1;31m:\u001b[0m incomplete input\n"
     ]
    }
   ],
   "source": [
    "def getBloch(quantumC):\n",
    "    return visualization.plot_bloch_multivector(execute(quantumC, backend).result()\\\n",
    "        .get_statevector())"
   ]
  },
  {
   "cell_type": "code",
   "execution_count": 28,
   "metadata": {},
   "outputs": [],
   "source": [
    "def stateGenerator(state):\n",
    "    state = state[::-1]\n",
    "    current = int(state, 2)\n",
    "    newState = [0 for i in range(0, 2**(len(state)))]\n",
    "    newState[current] = 1\n",
    "    return newState"
   ]
  },
  {
   "cell_type": "code",
   "execution_count": 29,
   "metadata": {},
   "outputs": [],
   "source": [
    "def getMeasure(quantumC, n):\n",
    "    measures = []\n",
    "    for i in range(0, n):\n",
    "        outcome = execute(quantumC, backend).result()\n",
    "        hist = outcome.get_counts()\n",
    "        for i in hist.keys():\n",
    "            measures.append(i)\n",
    "    return measures"
   ]
  },
  {
   "cell_type": "code",
   "execution_count": 30,
   "metadata": {},
   "outputs": [],
   "source": [
    "def makeCirc(n, m):\n",
    "    initState = ''\n",
    "    for i in range(0, n-m):\n",
    "        initState += str(random.randint(0, 1))\n",
    "    for i in range(0, m):\n",
    "        initState += str(0)\n",
    "    print(initState)\n",
    "    qr = QuantumRegister(n)\n",
    "    qc = ClassicalRegister(n)\n",
    "    circ = QuantumCircuit(qr, qc)\n",
    "    initializedState = stateGenerator(initState)\n",
    "    circ.initialize(initializedState, qr)\n",
    "    return circ"
   ]
  },
  {
   "cell_type": "code",
   "execution_count": 31,
   "metadata": {},
   "outputs": [
    {
     "name": "stdout",
     "output_type": "stream",
     "text": [
      "0000\n"
     ]
    }
   ],
   "source": [
    "circ = makeCirc(4, 1)\n",
    "#getBloch(circ)"
   ]
  },
  {
   "cell_type": "code",
   "execution_count": 32,
   "metadata": {},
   "outputs": [],
   "source": [
    "circ.csx(1, 3)\n",
    "circ.cx(0, 1)\n",
    "circ.csx(2, 3)\n",
    "circ.csx(0, 3)\n",
    "circ.cx(1, 2)\n",
    "circ.crx(-np.pi/2, 2, 3)\n",
    "\n",
    "for i in range(0, 4):\n",
    "    circ.measure(i, i)"
   ]
  },
  {
   "cell_type": "code",
   "execution_count": 33,
   "metadata": {},
   "outputs": [
    {
     "data": {
      "image/png": "[encoded data removed]",
      "text/plain": [
       "<Figure size 1225.65x451.5 with 1 Axes>"
      ]
     },
     "execution_count": 33,
     "metadata": {},
     "output_type": "execute_result"
    }
   ],
   "source": [
    "circ.draw('mpl')"
   ]
  },
  {
   "cell_type": "code",
   "execution_count": 34,
   "metadata": {},
   "outputs": [
    {
     "data": {
      "text/plain": [
       "'0000'"
      ]
     },
     "execution_count": 34,
     "metadata": {},
     "output_type": "execute_result"
    }
   ],
   "source": [
    "getMeasure(circ, 1)[0][::-1]"
   ]
  },
  {
   "cell_type": "code",
   "execution_count": 39,
   "metadata": {},
   "outputs": [
    {
     "data": {
      "text/plain": [
       "<qiskit.circuit.instructionset.InstructionSet at 0x21c99da2650>"
      ]
     },
     "execution_count": 39,
     "metadata": {},
     "output_type": "execute_result"
    }
   ],
   "source": [
    "circ = QuantumCircuit(4)\n",
    "circ.csx(1, 3)\n",
    "circ.cx(0, 1)\n",
    "circ.csx(2, 3)\n",
    "circ.csx(0, 3)\n",
    "circ.cx(1, 2)\n",
    "circ.crx(-np.pi/2, 2, 3)"
   ]
  },
  {
   "cell_type": "code",
   "execution_count": 40,
   "metadata": {},
   "outputs": [],
   "source": [
    "fullAdder = circ.to_gate(label=' Adder')"
   ]
  },
  {
   "cell_type": "code",
   "execution_count": 41,
   "metadata": {},
   "outputs": [
    {
     "data": {
      "text/plain": [
       "<qiskit.circuit.instructionset.InstructionSet at 0x21c99da14b0>"
      ]
     },
     "execution_count": 41,
     "metadata": {},
     "output_type": "execute_result"
    }
   ],
   "source": [
    "circ2 = QuantumCircuit(8)\n",
    "circ2.append(fullAdder, [0, 1, 2, 3])"
   ]
  },
  {
   "cell_type": "code",
   "execution_count": 42,
   "metadata": {},
   "outputs": [
    {
     "data": {
      "image/png": "[encoded data removed]",
      "text/plain": [
       "<Figure size 287.496x702.333 with 1 Axes>"
      ]
     },
     "execution_count": 42,
     "metadata": {},
     "output_type": "execute_result"
    }
   ],
   "source": [
    "circ2.draw('mpl')"
   ]
  },
  {
   "cell_type": "code",
   "execution_count": null,
   "metadata": {},
   "outputs": [],
   "source": []
  },
  {
   "cell_type": "code",
   "execution_count": null,
   "metadata": {},
   "outputs": [],
   "source": []
  },
  {
   "cell_type": "code",
   "execution_count": null,
   "metadata": {},
   "outputs": [],
   "source": []
  },
  {
   "cell_type": "code",
   "execution_count": null,
   "metadata": {},
   "outputs": [],
   "source": []
  }
 ],
 "metadata": {
  "kernelspec": {
   "display_name": "Python 3.10.7 ('env_q': venv)",
   "language": "python",
   "name": "python3"
  },
  "language_info": {
   "codemirror_mode": {
    "name": "ipython",
    "version": 3
   },
   "file_extension": ".py",
   "mimetype": "text/x-python",
   "name": "python",
   "nbconvert_exporter": "python",
   "pygments_lexer": "ipython3",
   "version": "3.10.7"
  },
  "orig_nbformat": 4,
  "vscode": {
   "interpreter": {
    "hash": "5c5f65bf42d6206e1c57117f942b147f5b7a64862f1f50f57b3fc6d1c3142406"
   }
  }
 },
 "nbformat": 4,
 "nbformat_minor": 2
}
