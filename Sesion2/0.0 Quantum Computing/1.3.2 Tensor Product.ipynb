{
 "cells": [
  {
   "cell_type": "markdown",
   "metadata": {},
   "source": [
    "# Tensor Products\n",
    "\n",
    "Supongamos que tenemos dos qubits $\\ket{\\psi}\\ket{\\phi}$ estos si queremos representarlos cada uno en dos dimensiones, al multiplicarlo estos estan dentro de un espacio de Hilbert $H^4$.\n",
    "\n",
    "Si queremos representar esta cuarta dimensión en 2 dimensiones tendríamos que multiplicar los componentes de $\\ket{\\phi}$ por cada uno de los componentes de $\\ket{\\psi}$. o Tenerlos como $\\ket{\\psi\\phi}$\n",
    "\n",
    "$$\\begin{bmatrix}\\psi_1\\\\\\psi_2\\end{bmatrix}\\otimes\\begin{bmatrix}\\phi_1\\\\\\phi_2\\end{bmatrix} =\\begin{bmatrix}\\psi_1\\phi_1\\\\\\psi_1\\phi_1\\\\\\psi_2\\phi_1\\\\\\psi_2\\phi_2\\end{bmatrix} $$\n",
    "\n"
   ]
  },
  {
   "cell_type": "markdown",
   "metadata": {},
   "source": [
    "# Matrices Unitarias\n",
    "\n",
    "Tiene 3 propiedades.\n",
    "\n",
    "1. Obtenemos una matriz unitaria si multiplicamos una matriz por la adjunta de la matriz y obtenemos la identidad.\n",
    "\n",
    "\n",
    "$$U^{\\dag}U= I$$\n",
    "\n",
    "\n",
    "2. Si el determinante d ela matriz es 1. \n",
    "\n",
    "$$det(U)=1$$\n",
    "\n",
    "\n",
    ">Esto es relevante porque todas las compeurtas cuánticas son matrices unitarias."
   ]
  },
  {
   "cell_type": "code",
   "execution_count": 1,
   "metadata": {},
   "outputs": [],
   "source": [
    "import numpy as np"
   ]
  },
  {
   "cell_type": "code",
   "execution_count": 5,
   "metadata": {},
   "outputs": [],
   "source": [
    "# Hadamar gate\n",
    "\n",
    "H = np.array(\n",
    "    [\n",
    "        [-1/(2**0.5),1/(2**0.5)],\n",
    "        [1/(2**0.5),1/(2**0.5)],\n",
    "    ]\n",
    ")"
   ]
  },
  {
   "cell_type": "code",
   "execution_count": 16,
   "metadata": {},
   "outputs": [],
   "source": [
    "def IsUnitary(Matrix):\n",
    "    r = np.eye(np.shape(Matrix)[0]) # Número de filas. Determinandte?\n",
    "    b = np.matrix(Matrix).getH() * Matrix # UU=1\n",
    "    return np.allclose(r,b) # Revisa si dos matrices son iguales"
   ]
  },
  {
   "cell_type": "code",
   "execution_count": 17,
   "metadata": {},
   "outputs": [
    {
     "data": {
      "text/plain": [
       "True"
      ]
     },
     "execution_count": 17,
     "metadata": {},
     "output_type": "execute_result"
    }
   ],
   "source": [
    "IsUnitary(H)"
   ]
  },
  {
   "cell_type": "code",
   "execution_count": 21,
   "metadata": {},
   "outputs": [
    {
     "data": {
      "text/plain": [
       "array([[ 0.5, -0.5, -0.5,  0.5],\n",
       "       [-0.5, -0.5,  0.5,  0.5],\n",
       "       [-0.5,  0.5, -0.5,  0.5],\n",
       "       [ 0.5,  0.5,  0.5,  0.5]])"
      ]
     },
     "execution_count": 21,
     "metadata": {},
     "output_type": "execute_result"
    }
   ],
   "source": [
    "# Tensor product\n",
    "np.kron(H,H)"
   ]
  },
  {
   "cell_type": "code",
   "execution_count": null,
   "metadata": {},
   "outputs": [],
   "source": []
  }
 ],
 "metadata": {
  "kernelspec": {
   "display_name": "Python 3.10.7 ('env_q': venv)",
   "language": "python",
   "name": "python3"
  },
  "language_info": {
   "codemirror_mode": {
    "name": "ipython",
    "version": 3
   },
   "file_extension": ".py",
   "mimetype": "text/x-python",
   "name": "python",
   "nbconvert_exporter": "python",
   "pygments_lexer": "ipython3",
   "version": "3.10.7"
  },
  "orig_nbformat": 4,
  "vscode": {
   "interpreter": {
    "hash": "5c5f65bf42d6206e1c57117f942b147f5b7a64862f1f50f57b3fc6d1c3142406"
   }
  }
 },
 "nbformat": 4,
 "nbformat_minor": 2
}
