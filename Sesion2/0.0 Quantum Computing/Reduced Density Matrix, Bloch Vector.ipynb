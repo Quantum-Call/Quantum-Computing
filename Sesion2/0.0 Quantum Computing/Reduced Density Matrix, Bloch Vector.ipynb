{
 "cells": [
  {
   "cell_type": "markdown",
   "metadata": {},
   "source": [
    "# Reduced Density Matrix\n",
    "\n"
   ]
  },
  {
   "cell_type": "markdown",
   "metadata": {},
   "source": [
    "Digamos que tenemos una matriz de densidad que representa multiples qubits:\n",
    "\n",
    "$$PAB=\\begin{bmatrix}c_0^{*}c_0&c_1^{*}c_0&c_2^{*}c_0&c_3^{*}c_0\\\\c_0^{*}c_1&c_1^{*}c_1&c_2^{*}c_1&c_3^{*}c_1\\\\c_0^{*}c_2&c_1^{*}c_2&c_2^{*}c_2&c_3^{*}c_2\\\\c_0^{*}c_3&c_1^{*}c_3&c_2^{*}c_3&c_3^{*}c_3\\end{bmatrix}$$"
   ]
  },
  {
   "cell_type": "markdown",
   "metadata": {},
   "source": [
    "Podemos representar los qubits de manera individual como:\n",
    "\n",
    "$$pa= \\begin{bmatrix}a_0^{*}a_0&a_1^{*}a_0\\\\a_0^{*}a_1&a_1^{*}a_1\\end{bmatrix}$$\n",
    "$$pb= \\begin{bmatrix}b_0^{*}b_0&b_1^{*}b_0\\\\b_0^{*}b_1&b_1^{*}b_1\\end{bmatrix}$$\n",
    "\n",
    "El proceso de encontrar estos se llama traza parcial:\n",
    "\n",
    "$$PA= \\begin{bmatrix}Tr\\begin{pmatrix} c_0^*c_0 & c_1^*c_0 \\\\ c_0^*c_1 & c_1^*c_1\\end{pmatrix} & Tr\\begin{pmatrix} c_2^*c_0 & c_3^*c_0 \\\\ c_2^*c_1 & c_3^*c_1\\end{pmatrix}  \\\\ Tr\\begin{pmatrix} c_0^*c_2 & c_1^*c_2 \\\\ c_0^*c_3 & c_1^*c_3\\end{pmatrix}  & Tr\\begin{pmatrix} c_2^*c_2 & c_3^*c_2 \\\\ c_2^*c_3 & c_3^*c_3\\end{pmatrix} \\end{bmatrix}$$\n",
    "\n",
    "\n",
    "$$PB = \\begin{bmatrix}Tr\\begin{pmatrix} c_0^*c_0 & c_2^*c_0 \\\\ c_0^*c_2 & c_2^*c_2\\end{pmatrix} & Tr\\begin{pmatrix} c_1^*c_0 & c_3^*c_0 \\\\ c_1^*c_2 & c_3^*c_1\\end{pmatrix}  \\\\ Tr\\begin{pmatrix} c_0^*c_1 & c_2^*c_1 \\\\ c_0^*c_3 & c_2^*c_3\\end{pmatrix}  & Tr\\begin{pmatrix} c_1^*c_1 & c_3^*c_1 \\\\ c_1^*c_3 & c_3^*c_3\\end{pmatrix} \\end{bmatrix}$$\n",
    "\n",
    "\n",
    "## Trazas parciales\n",
    "\n",
    "Representación matemática de las trazas parciales:\n",
    "\n",
    "$$p_A = \\sum_{i=1}^{n} (\\mathbb{I}\\otimes\\bra{i})p_{AB}(\\mathbb{I}\\otimes\\ket{i})$$\n",
    "$$p_B = \\sum_{j=1}^{m} (\\bra{j}\\otimes\\mathbb{I})p_{AB}(\\ket{j}\\otimes\\mathbb{I}))$$\n",
    "\n",
    "Una propiedad de estas matriz de densidades es que podemos  encontrar el $x,y ,z$ de nuestro Bloch Vector, tenemos un vector positivo\n",
    "\n",
    "$$p_{\\psi} = \\begin{bmatrix} \\frac{1}{2} & \\frac{1}{2} \\\\ \\frac{1}{2} & \\frac{1}{2}\\end{bmatrix} \\ \\ \\ \\ \\ \\ \\ket{\\psi} = \\ket{+}$$\n",
    "\n",
    "Podemos encotnrar sus componentes de la siguiente manera:\n",
    "\n",
    "\n",
    "$$x = Tr(p_{\\psi}\\sigma_x) = Tr(\\begin{bmatrix} \\frac{1}{2} & \\frac{1}{2} \\\\ \\frac{1}{2} & \\frac{1}{2}\\end{bmatrix}\\begin{bmatrix} 0 & 1 \\\\ 1 & 0\\end{bmatrix})  \\ \\ \\ \\ \\ \\ \\ x \\in \\{\\ket{+}, \\ket{-}\\}$$\n",
    "\n",
    "$$y = Tr(p_{\\psi}\\sigma_y) = Tr(\\begin{bmatrix} \\frac{1}{2} & \\frac{1}{2} \\\\ \\frac{1}{2} & \\frac{1}{2}\\end{bmatrix}\\begin{bmatrix} 0 & -i \\\\ i & 0\\end{bmatrix}) \\ \\ \\ \\ \\ \\ \\ y \\in \\{\\ket{i}, \\ket{-i}\\}$$\n",
    "\n",
    "$$z = Tr(p_{\\psi}\\sigma_z) = Tr(\\begin{bmatrix} \\frac{1}{2} & \\frac{1}{2} \\\\ \\frac{1}{2} & \\frac{1}{2}\\end{bmatrix}\\begin{bmatrix} 1 & 0 \\\\ 0 & -1\\end{bmatrix}) \\ \\ \\ \\ \\ \\ \\ z \\in \\{\\ket{0}, \\ket{1}\\}$$\n",
    "\n",
    "\n",
    "Debido a que 1 representa una posición negativa es comprensible que tengamos ese Ket positovo\n",
    "\n",
    "$$ x = Tr(p_{\\psi}\\sigma_x) = Tr(\\begin{bmatrix} 0 & 0 \\\\ 0 & 1\\end{bmatrix}\\begin{bmatrix} 0 & 1 \\\\ 1 & 0\\end{bmatrix})  \\ \\ \\ \\ \\ \\ \\ x \\in \\{\\ket{+}, \\ket{-}\\}$$\n",
    "$$y = Tr(p_{\\psi}\\sigma_y) = Tr(\\begin{bmatrix} 0 & 0 \\\\ 0 & 1\\end{bmatrix}\\begin{bmatrix} 0 & -i \\\\ i & 0\\end{bmatrix}) \\ \\ \\ \\ \\ \\ \\ y \\in \\{\\ket{i}, \\ket{-i}\\}$$\n",
    "$$z = Tr(p_{\\psi}\\sigma_z) = Tr(\\begin{bmatrix} 0 & 0 \\\\ 0 & 1\\end{bmatrix}\\begin{bmatrix} 1 & 0 \\\\ 0 & -1\\end{bmatrix}) \\ \\ \\ \\ \\ \\ \\ z \\in \\{\\ket{0}, \\ket{1}\\}$$\n",
    "-----\n",
    "$$x = Tr(p_{\\psi}\\sigma_x) = Tr(\\begin{bmatrix} 0 & 0 \\\\ 1 & 0\\end{bmatrix})\\ \\ \\ \\ \\ \\ \\ x \\in \\{\\ket{+}, \\ket{-}\\}$$\n",
    "$$y = Tr(p_{\\psi}\\sigma_y) = Tr(\\begin{bmatrix} 0 & 0 \\\\ -i & 0\\end{bmatrix})\\ \\ \\ \\ \\ \\ \\ y \\in \\{\\ket{i}, \\ket{-i}\\}\"$$\n",
    "$$z = Tr(p_{\\psi}\\sigma_z) = Tr(\\begin{bmatrix} 0 & 0 \\\\ 0 & -1\\end{bmatrix})\\ \\ \\ \\ \\ \\ \\ z \\in \\{\\ket{0}, \\ket{1}\\}$$\n",
    "-----\n",
    "$$x = Tr(p_{\\psi}\\sigma_x) = 0\\ \\ \\ \\ \\ \\ \\ x \\in \\{\\ket{+}, \\ket{-}\\}$$\n",
    "$$y = Tr(p_{\\psi}\\sigma_y) = 0\\ \\ \\ \\ \\ \\ \\ y \\in \\{\\ket{i}, \\ket{-i}\\}$$\n",
    "$$z = Tr(p_{\\psi}\\sigma_z) = -1\\ \\ \\ \\ \\ \\ \\ z \\in \\{\\ket{0}, \\ket{1}\\}$$\n",
    "\n",
    "\n",
    "\n",
    "## Bloch sphere - Mixed State.\n",
    "\n",
    "\n",
    "Cuando buscamos realizar las mimsmas trazas parciales para un estado del tipo:\n",
    "\n",
    "$$p_{\\psi} = \\begin{bmatrix} 0.5 & 0 \\\\ 0 & 0.5 \\end{bmatrix} \\ \\ \\ \\ \\ \\ \\ket{\\psi} = \\ket{1} \\ \\ or \\ \\  \\ket{0}$$\n",
    "\n",
    "Si buscamos las trazas y operamos\n",
    "\n",
    "$$x = Tr(p_{\\psi}\\sigma_x) = Tr(\\begin{bmatrix} 0.5 & 0 \\\\ 0 & 0.5\\end{bmatrix}\\begin{bmatrix} 0 & 1 \\\\ 1 & 0\\end{bmatrix})  \\ \\ \\ \\ \\ \\ \\ x \\in \\{\\ket{+}, \\ket{-}\\}$$\n",
    "$$y = Tr(p_{\\psi}\\sigma_y) = Tr(\\begin{bmatrix} 0.5 & 0 \\\\ 0 & 0.5\\end{bmatrix}\\begin{bmatrix} 0 & -i \\\\ i & 0\\end{bmatrix}) \\ \\ \\ \\ \\ \\ \\ y \\in \\{\\ket{i}, \\ket{-i}\\}$$\n",
    "$$z = Tr(p_{\\psi}\\sigma_z) = Tr(\\begin{bmatrix} 0.5 & 0 \\\\ 0 & 0.5\\end{bmatrix}\\begin{bmatrix} 1 & 0 \\\\ 0 & -1\\end{bmatrix}) \\ \\ \\ \\ \\ \\ \\ z \\in \\{\\ket{0}, \\ket{1}\\}$$\n",
    "\n",
    "\n",
    "$$x = Tr(p_{\\psi}\\sigma_x) = Tr(\\begin{bmatrix} 0 & 0.5 \\\\ 0.5 & 0\\end{bmatrix})\\ \\ \\ \\ \\ \\ \\ x \\in \\{\\ket{+}, \\ket{-}\\}$$\n",
    "$$\"y = Tr(p_{\\psi}\\sigma_y) = Tr(\\begin{bmatrix} 0 & i/2 \\\\ -i/2 & 0\\end{bmatrix})\\ \\ \\ \\ \\ \\ \\ y \\in \\{\\ket{i}, \\ket{-i}\\}$$\n",
    "$$z = Tr(p_{\\psi}\\sigma_z) = Tr(\\begin{bmatrix} 0.5 & 0 \\\\ 0 & -0.5\\end{bmatrix})\\ \\ \\ \\ \\ \\ \\ z \\in \\{\\ket{0}, \\ket{1}\\}$$\n",
    "\n",
    "Obtenemos estas matrices donde todas las trazas son cero.\n",
    "\n",
    "$$x = Tr(p_{\\psi}\\sigma_x) = 0\\ \\ \\ \\ \\ \\ \\ x \\in \\{\\ket{+}, \\ket{-}\\}$$\n",
    "$$y = Tr(p_{\\psi}\\sigma_y) = 0\\ \\ \\ \\ \\ \\ \\ y \\in \\{\\ket{i}, \\ket{-i}\\}$$\n",
    "$$z = Tr(p_{\\psi}\\sigma_z) = 0\\ \\ \\ \\ \\ \\ \\ z \\in \\{\\ket{0}, \\ket{1}\\}$$\n",
    "\n",
    "Tener el determinanto igual a cero significa que el estado el quibot es puro, cuano es diferente de cero sabemos que es un estado mixto.\n",
    "\n",
    "$$det(p_{\\psi}) \\neq 0 \\ \\ Mixed State \\ \\ \\ \\ \\ \\ det(p_{\\psi}) = 0 \\ \\  Pure State$$\n",
    "\n",
    "\n",
    "1. Estados mixtos representan el promedio de la Bloch Sphere\n",
    "2. Estados mixtos Bloch Vectors están dentro de la Bloch Sphere\n",
    "\n"
   ]
  },
  {
   "cell_type": "code",
   "execution_count": 2,
   "metadata": {},
   "outputs": [],
   "source": [
    "from qiskit import *\n",
    "import qiskit.visualization as viz\n",
    "import numpy as np\n",
    "import matplotlib.pyplot as plt\n",
    "import pandas as pd\n",
    "import seaborn as sns\n",
    "sns.set_theme()"
   ]
  },
  {
   "cell_type": "code",
   "execution_count": 1,
   "metadata": {},
   "outputs": [
    {
     "ename": "NameError",
     "evalue": "name 'QuantumRegister' is not defined",
     "output_type": "error",
     "traceback": [
      "\u001b[1;31m---------------------------------------------------------------------------\u001b[0m",
      "\u001b[1;31mNameError\u001b[0m                                 Traceback (most recent call last)",
      "Cell \u001b[1;32mIn [1], line 1\u001b[0m\n\u001b[1;32m----> 1\u001b[0m qr \u001b[38;5;241m=\u001b[39m QuantumRegister(\u001b[38;5;241m2\u001b[39m)\n\u001b[0;32m      2\u001b[0m qc \u001b[38;5;241m=\u001b[39m QuantumCircuit(qr)\n\u001b[0;32m      3\u001b[0m qc\u001b[38;5;241m.\u001b[39minitialize([\u001b[38;5;241m0\u001b[39m, \u001b[38;5;241m0\u001b[39m, \u001b[38;5;241m1\u001b[39m, \u001b[38;5;241m0\u001b[39m], qr)\n",
      "\u001b[1;31mNameError\u001b[0m: name 'QuantumRegister' is not defined"
     ]
    }
   ],
   "source": [
    "qr = QuantumRegister(2)\n",
    "qc = QuantumCircuit(qr)\n",
    "qc.initialize([0, 0, 1, 0], qr)\n",
    "qc.h(0)\n",
    "qc.draw('mpl')\n",
    "#bell state\n",
    "state = execute(qc, backend).result().get_statevector()\n",
    "quantum_info.DensityMatrix(state)\n"
   ]
  },
  {
   "cell_type": "code",
   "execution_count": null,
   "metadata": {},
   "outputs": [],
   "source": [
    "def getDensity(quantumCircuit):\n",
    "    return np.matrix(quantum_info.DensityMatrix(execute(quantumCircuit, backend).result().get_statevector()).data)\n",
    "\n",
    "getDensity(qc)"
   ]
  },
  {
   "cell_type": "code",
   "execution_count": null,
   "metadata": {},
   "outputs": [],
   "source": [
    "quantum_info.partial_trace(state, [0])"
   ]
  },
  {
   "cell_type": "code",
   "execution_count": null,
   "metadata": {},
   "outputs": [],
   "source": [
    "def getPTrace(quantumCircuit, n):\n",
    "    return quantum_info.partial_trace(execute(quantumCircuit, backend).result().get_statevector(), [n])\n",
    "    \n",
    "getPTrace(qc, 0)\n"
   ]
  },
  {
   "cell_type": "code",
   "execution_count": null,
   "metadata": {},
   "outputs": [],
   "source": [
    "def getRx(pd):\n",
    "    sigmaX = np.matrix([[0, 1], [1, 0]])\n",
    "    return np.trace(pd.data*sigmaX)\n",
    "\n",
    "getRx(getPTrace(qc, 1))"
   ]
  },
  {
   "cell_type": "code",
   "execution_count": null,
   "metadata": {},
   "outputs": [],
   "source": [
    "def getRy(pd):\n",
    "    sigmaY = np.matrix([[0, -1j], [1j, 0]])\n",
    "    return np.trace(pd.data*sigmaY)\n",
    "\n"
   ]
  },
  {
   "cell_type": "code",
   "execution_count": null,
   "metadata": {},
   "outputs": [],
   "source": [
    "def getRz(pd):\n",
    "    sigmaZ = np.matrix([[1, 0], [0, -1]])\n",
    "    return np.trace(pd.data*sigmaZ)\n",
    "\n",
    "getRy(getPTrace(qc, 0))"
   ]
  },
  {
   "cell_type": "code",
   "execution_count": null,
   "metadata": {},
   "outputs": [],
   "source": []
  }
 ],
 "metadata": {
  "kernelspec": {
   "display_name": "Python 3.10.7 ('env_q': venv)",
   "language": "python",
   "name": "python3"
  },
  "language_info": {
   "codemirror_mode": {
    "name": "ipython",
    "version": 3
   },
   "file_extension": ".py",
   "mimetype": "text/x-python",
   "name": "python",
   "nbconvert_exporter": "python",
   "pygments_lexer": "ipython3",
   "version": "3.10.7"
  },
  "orig_nbformat": 4,
  "vscode": {
   "interpreter": {
    "hash": "5c5f65bf42d6206e1c57117f942b147f5b7a64862f1f50f57b3fc6d1c3142406"
   }
  }
 },
 "nbformat": 4,
 "nbformat_minor": 2
}
