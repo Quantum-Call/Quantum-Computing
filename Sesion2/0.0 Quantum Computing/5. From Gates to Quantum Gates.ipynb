{
 "cells": [
  {
   "cell_type": "code",
   "execution_count": 4,
   "metadata": {},
   "outputs": [],
   "source": [
    "from qiskit import *\n",
    "import qiskit.visualization"
   ]
  },
  {
   "cell_type": "markdown",
   "metadata": {},
   "source": [
    "# From Clasical to Quantum Gates\n",
    "\n",
    "Esta es la base fundamental de los circuitos cuánticos, entender las compeurtas lógicas clásicas será crucial para comprender las analogías con las compuertas cuánticas.\n",
    "\n",
    "- Ver nuevamente el capitulo de compuertas lógicas y resumir a detalle.\n",
    "- Resolver las ecuaciones u operaciones de producto para comprobar por mi mismo como es que operan las compuertas, o productos matriciales, entre el qubit y la compuerta.\n",
    "\n"
   ]
  },
  {
   "cell_type": "markdown",
   "metadata": {},
   "source": [
    "## Logic Gate\n",
    "\n",
    "Las computeras lógicas son un modelo idealizadoe de cómputo, o de un dispositivo electrónico que implementa funciones boleanas, es decir operciones del tipo AND, OR."
   ]
  },
  {
   "cell_type": "markdown",
   "metadata": {},
   "source": [
    "## Quantum Gates"
   ]
  },
  {
   "cell_type": "markdown",
   "metadata": {},
   "source": [
    "## X Gate (NOT) \n",
    "\n",
    "Esta compuerta es parecida a la negación en las compuertas lógicas,un qubit cualquiera $\\begin{bmatrix}a\\\\b\\end{bmatrix}$ realiza un producto matricial con la columna matriz que cambia el valor el quibit de 1 a 0 o 0 a 1\n",
    "\n",
    "$$X= \\begin{bmatrix}0&1\\\\1&0\\end{bmatrix}$$\n",
    "\n",
    "$$X \\ket{1} = \\begin{bmatrix}0&1\\\\1&0\\end{bmatrix}*\\begin{bmatrix}0\\\\1\\end{bmatrix} = \\ket{0}$$\n",
    "$$X \\ket{0} = \\begin{bmatrix}0&1\\\\1&0\\end{bmatrix}*\\begin{bmatrix}1\\\\0\\end{bmatrix} = \\ket{1}$$"
   ]
  },
  {
   "cell_type": "markdown",
   "metadata": {},
   "source": [
    "# YZ Pauli's Gate\n",
    "\n",
    "$$Y Pauli Y \\begin{bmatrix}0&-i\\\\i&0\\end{bmatrix}$$\n",
    "$$Z Pauli Z \\begin{bmatrix}1&0\\\\0&-1\\end{bmatrix}$$"
   ]
  },
  {
   "cell_type": "markdown",
   "metadata": {},
   "source": [
    "# H (Hadamar's Gate)\n",
    "\n",
    "Es una compuerta que me permite poner un quibit en un estado superpuesto. Es una de las compuertas más relevantes en el circuito cuántico. Al aplicarla al qbit me devuelve un 50% de probabilidades\n",
    "\n",
    "$$ Hadamard = \\frac{1}{\\sqrt{2}}\\begin{bmatrix}1&1\\\\1&-1\\end{bmatrix}$$\n",
    "$$ H \\ket{0} \\frac{1}{\\sqrt{2}} (\\ket{0} +\\ket{1)}$$\n",
    "$$ H \\ket{1} \\frac{1}{\\sqrt{2}} (\\ket{0} -\\ket{1)}$$\n",
    "\n",
    "El qubit superpuesto en Qiskit se vería de esta forma:\n",
    "\n",
    "![img](_assets/Hadamard_gate.png)\n",
    "\n",
    "Por ejemplo la demostración matemática compuerta de Hadamard operada un un qubit $q_0$:\n",
    "\n",
    "$$q_0=\\begin{bmatrix}1\\\\0\\end{bmatrix}$$\n",
    "$$\\frac{1}{\\sqrt{2}}\\begin{bmatrix}1&1\\\\1&-1\\end{bmatrix}*\\begin{bmatrix}1\\\\0\\end{bmatrix}=\\begin{bmatrix}\\frac{1}{\\sqrt{2}}\\\\\\frac{1}{\\sqrt{2}}\\end{bmatrix}$$\n"
   ]
  },
  {
   "cell_type": "markdown",
   "metadata": {},
   "source": [
    "# CNOT Control Not\n",
    "\n",
    "Esta compuerta la veremos en muchas ocasiones junto con la compuerta de Hadamard, esta compuerta aplica lo que es parecido a la compuerta lógica XOR, donde las operaciones devuelven 1 cuando cuando solo  una de las 2 entradas es 0\n",
    "La matriz se ve así:\n",
    "\n",
    "$$\\begin{bmatrix}1&0&0&0\\\\0&0&0&1\\\\0&0&1&0\\\\0&1&0&0\\end{bmatrix}$$\n",
    "\n",
    "Si por ejemplo operamos:\n",
    "\n",
    "$$CNOT\\ket{00} =\\ket{00}$$\n",
    "$$\\color{blue}CNOT\\ket{01} =\\ket{11}$$\n",
    "$$CNOT\\ket{10} =\\ket{10}$$\n",
    "$$CNOT\\ket{11} =\\ket{01}$$\n",
    "\n",
    "$$\\color{blue}\\begin{bmatrix}1&0&0&0\\\\0&0&0&1\\\\0&0&1&0\\\\0&1&0&0\\end{bmatrix}*\\begin{bmatrix}0\\\\1\\\\0\\\\0\\end{bmatrix}=\\begin{bmatrix}0\\\\0\\\\0\\\\1\\end{bmatrix}$$\n",
    "\n",
    "Es decir esta operación sucede en 2 qubits, no en 1, porque si no no tendría las dos condiciones para operar.\n",
    "\n"
   ]
  },
  {
   "cell_type": "markdown",
   "metadata": {},
   "source": [
    "# Hadamard & CNOT\n",
    "\n",
    "Si tengo una cantidad determinada de qbits, la compuerta de $H$ solo aplica para $q_0$, el $q_n$ no está en estados de superposición, para llegar a esto, debemos usar un producto tensorial que nos permita realizar una operación parecida a el no exlusivo, o XOR.\n",
    "\n",
    "Tenemos que para un qbit en estado un estado down:\n",
    "\n",
    "$$\\begin{bmatrix}1\\\\0\\end{bmatrix}$$\n",
    "\n",
    "$$\\ket{0} \\otimes \\ket{+}$$\n",
    "Realizando un producto tensorial podemos \"extender\" este estado de superposición o representado como $\\ket{+}$ o $\\ket{-}$. El signo representa la fase.\n",
    "\n",
    "\n",
    "$$\\begin{bmatrix}1\\\\0\\end{bmatrix}\\otimes\\begin{bmatrix}\\frac{1}{\\sqrt{2}}\\\\\\frac{1}{\\sqrt{2}}\\end{bmatrix}\\begin{bmatrix}\\frac{1}{\\sqrt{2}}\\\\\\frac{1}{\\sqrt{2}}\\\\0\\\\0\\end{bmatrix}$$\n",
    "\n",
    "Para ver el estado total de la operación anterior debo aplicar la compuerta CNOT, la columna matricial que está resaltada en azul es el estado de Entaglement\n",
    "\n",
    "\n",
    "\n",
    "$$\\begin{bmatrix}1&0&0&0\\\\0&0&0&1\\\\0&0&1&0\\\\0&1&0&0\\end{bmatrix}*\\begin{bmatrix}\\frac{1}{\\sqrt{2}}\\\\\\frac{1}{\\sqrt{2}}\\\\0\\\\0\\end{bmatrix} = \\color{blue}\\begin{bmatrix}\\frac{1}{\\sqrt{2}}\\\\0\\\\0\\\\\\frac{1}{\\sqrt{2}}\\end{bmatrix}$$\n",
    "\n",
    "\n",
    "La compuerta de Hadamard y la compuerta CNOT son muy usadas, debido a que estoy buscando llegar al estado: \"**superpuesto-entrelazado**\", es decir, donde tengo los siguientes Ket.\n",
    "\n",
    "$$\\frac{1}{\\sqrt{2}}(\\ket{00} +\\ket{11})$$\n",
    "\n",
    "\n"
   ]
  },
  {
   "cell_type": "markdown",
   "metadata": {},
   "source": [
    "![img](_assets/Hadamard_cnot.png)"
   ]
  },
  {
   "cell_type": "markdown",
   "metadata": {},
   "source": [
    "# Measurement\n",
    "\n",
    "\n",
    "En el composer de Qiskit particularmente  tenemos que en circuito con dos qbits, superpuesto y entrelazado la compuerta de medir al medir hace que perdamos la información previa y que colapse en 0 o 1 en la cuerda $c_2$ que representa los bits clásicos:\n",
    "\n",
    "![img](_assets/Measurment.PNG)"
   ]
  },
  {
   "cell_type": "markdown",
   "metadata": {},
   "source": [
    "# Toffoli\n",
    "\n",
    "La compuerta de Toffoli es una compuerta de 3 qubits con dos controles y un objetivo. Genera una operación X en el objetivo si los dos controles estan en $\\ket{1}$.\n",
    "El resultado final del objetivo es igual ya sea a AND o NAND de os dos controles, dependiendo de si el estado inicial del objetivo fue $\\ket{0}$ o $\\ket{1}$.\n",
    "Toffoli puede pensarse como un **\"controlled-controlled-NOT\"** también se llama **CCX**"
   ]
  },
  {
   "cell_type": "code",
   "execution_count": 5,
   "metadata": {},
   "outputs": [
    {
     "data": {
      "text/html": [
       "<pre style=\"word-wrap: normal;white-space: pre;background: #fff0;line-height: 1.1;font-family: &quot;Courier New&quot;,Courier,monospace\">          \n",
       "q_0: ──■──\n",
       "       │  \n",
       "q_1: ──■──\n",
       "     ┌─┴─┐\n",
       "q_2: ┤ X ├\n",
       "     └───┘</pre>"
      ],
      "text/plain": [
       "          \n",
       "q_0: ──■──\n",
       "       │  \n",
       "q_1: ──■──\n",
       "     ┌─┴─┐\n",
       "q_2: ┤ X ├\n",
       "     └───┘"
      ]
     },
     "execution_count": 5,
     "metadata": {},
     "output_type": "execute_result"
    }
   ],
   "source": [
    "qc = QuantumCircuit(3)\n",
    "\n",
    "a,b,t = 0,1,2\n",
    "qc.ccx(a,b,t)\n",
    "qc.draw()"
   ]
  },
  {
   "cell_type": "markdown",
   "metadata": {},
   "source": [
    "Si estamos buscando tener un $\\ket{111}$. Necesitamos que todo tena el mismo valor,  es decir la compuerta no se ejecuta si $q_0$ y $q_1$ están  en $\\ket{1}$"
   ]
  },
  {
   "cell_type": "code",
   "execution_count": 6,
   "metadata": {},
   "outputs": [
    {
     "data": {
      "text/html": [
       "<pre style=\"word-wrap: normal;white-space: pre;background: #fff0;line-height: 1.1;font-family: &quot;Courier New&quot;,Courier,monospace\">     ┌───┐     \n",
       "q_0: ┤ X ├──■──\n",
       "     ├───┤  │  \n",
       "q_1: ┤ X ├──■──\n",
       "     └───┘┌─┴─┐\n",
       "q_2: ─────┤ X ├\n",
       "          └───┘\n",
       "c: 3/══════════\n",
       "               </pre>"
      ],
      "text/plain": [
       "     ┌───┐     \n",
       "q_0: ┤ X ├──■──\n",
       "     ├───┤  │  \n",
       "q_1: ┤ X ├──■──\n",
       "     └───┘┌─┴─┐\n",
       "q_2: ─────┤ X ├\n",
       "          └───┘\n",
       "c: 3/══════════\n",
       "               "
      ]
     },
     "execution_count": 6,
     "metadata": {},
     "output_type": "execute_result"
    }
   ],
   "source": [
    "qreg_q = QuantumRegister(3, 'q')\n",
    "creg_c = ClassicalRegister(3, 'c')\n",
    "circuit = QuantumCircuit(qreg_q, creg_c)\n",
    "\n",
    "circuit.x(qreg_q[0])\n",
    "circuit.x(qreg_q[1])\n",
    "circuit.ccx(qreg_q[0], qreg_q[1], qreg_q[2])\n",
    "circuit.draw()"
   ]
  },
  {
   "cell_type": "markdown",
   "metadata": {},
   "source": [
    "![img](_assets/Toffoli.png)"
   ]
  },
  {
   "cell_type": "code",
   "execution_count": null,
   "metadata": {},
   "outputs": [],
   "source": [
    "## x "
   ]
  }
 ],
 "metadata": {
  "kernelspec": {
   "display_name": "Python 3.8.8 ('env_q': venv)",
   "language": "python",
   "name": "python3"
  },
  "language_info": {
   "codemirror_mode": {
    "name": "ipython",
    "version": 3
   },
   "file_extension": ".py",
   "mimetype": "text/x-python",
   "name": "python",
   "nbconvert_exporter": "python",
   "pygments_lexer": "ipython3",
   "version": "3.8.8"
  },
  "orig_nbformat": 4,
  "vscode": {
   "interpreter": {
    "hash": "bd6e4bacb7db89c65224064565ee233b61b65f87508f025a56f4dfe92ea41ac3"
   }
  }
 },
 "nbformat": 4,
 "nbformat_minor": 2
}
