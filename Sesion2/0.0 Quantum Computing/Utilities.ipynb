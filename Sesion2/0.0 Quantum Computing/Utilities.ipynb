{
 "cells": [
  {
   "cell_type": "code",
   "execution_count": 1,
   "metadata": {},
   "outputs": [],
   "source": [
    "from qiskit import *"
   ]
  },
  {
   "cell_type": "code",
   "execution_count": 4,
   "metadata": {},
   "outputs": [
    {
     "data": {
      "text/plain": [
       "[AerSimulator('aer_simulator'),\n",
       " AerSimulator('aer_simulator_statevector'),\n",
       " AerSimulator('aer_simulator_density_matrix'),\n",
       " AerSimulator('aer_simulator_stabilizer'),\n",
       " AerSimulator('aer_simulator_matrix_product_state'),\n",
       " AerSimulator('aer_simulator_extended_stabilizer'),\n",
       " AerSimulator('aer_simulator_unitary'),\n",
       " AerSimulator('aer_simulator_superop'),\n",
       " QasmSimulator('qasm_simulator'),\n",
       " StatevectorSimulator('statevector_simulator'),\n",
       " UnitarySimulator('unitary_simulator'),\n",
       " PulseSimulator('pulse_simulator')]"
      ]
     },
     "execution_count": 4,
     "metadata": {},
     "output_type": "execute_result"
    }
   ],
   "source": [
    "Aer.backends()"
   ]
  },
  {
   "cell_type": "code",
   "execution_count": 6,
   "metadata": {},
   "outputs": [
    {
     "ename": "IBMQProviderError",
     "evalue": "'No provider matches the specified criteria: hub = ibm-q, group = None, project = None'",
     "output_type": "error",
     "traceback": [
      "\u001b[1;31m---------------------------------------------------------------------------\u001b[0m",
      "\u001b[1;31mIBMQProviderError\u001b[0m                         Traceback (most recent call last)",
      "\u001b[1;32ma:\\Cerebrum\\Learning_Notebooks\\NoteBooks\\Curso de Quamtum\\Quantum Computing\\Utilities.ipynb Celda 3\u001b[0m in \u001b[0;36m<cell line: 1>\u001b[1;34m()\u001b[0m\n\u001b[1;32m----> <a href='vscode-notebook-cell:/a%3A/Cerebrum/Learning_Notebooks/NoteBooks/Curso%20de%20Quamtum/Quantum%20Computing/Utilities.ipynb#W3sZmlsZQ%3D%3D?line=0'>1</a>\u001b[0m provider \u001b[39m=\u001b[39m IBMQ\u001b[39m.\u001b[39;49mget_provider(\u001b[39m\"\u001b[39;49m\u001b[39mibm-q\u001b[39;49m\u001b[39m\"\u001b[39;49m)\n\u001b[0;32m      <a href='vscode-notebook-cell:/a%3A/Cerebrum/Learning_Notebooks/NoteBooks/Curso%20de%20Quamtum/Quantum%20Computing/Utilities.ipynb#W3sZmlsZQ%3D%3D?line=1'>2</a>\u001b[0m provider\u001b[39m.\u001b[39mbackends()\n",
      "File \u001b[1;32ma:\\Cerebrum\\Learning_Notebooks\\NoteBooks\\Curso de Quamtum\\env_q\\lib\\site-packages\\qiskit\\providers\\ibmq\\ibmqfactory.py:423\u001b[0m, in \u001b[0;36mIBMQFactory.get_provider\u001b[1;34m(self, hub, group, project)\u001b[0m\n\u001b[0;32m    420\u001b[0m providers \u001b[39m=\u001b[39m \u001b[39mself\u001b[39m\u001b[39m.\u001b[39mproviders(hub, group, project)\n\u001b[0;32m    422\u001b[0m \u001b[39mif\u001b[39;00m \u001b[39mnot\u001b[39;00m providers:\n\u001b[1;32m--> 423\u001b[0m     \u001b[39mraise\u001b[39;00m IBMQProviderError(\u001b[39m'\u001b[39m\u001b[39mNo provider matches the specified criteria: \u001b[39m\u001b[39m'\u001b[39m\n\u001b[0;32m    424\u001b[0m                             \u001b[39m'\u001b[39m\u001b[39mhub = \u001b[39m\u001b[39m{}\u001b[39;00m\u001b[39m, group = \u001b[39m\u001b[39m{}\u001b[39;00m\u001b[39m, project = \u001b[39m\u001b[39m{}\u001b[39;00m\u001b[39m'\u001b[39m\n\u001b[0;32m    425\u001b[0m                             \u001b[39m.\u001b[39mformat(hub, group, project))\n\u001b[0;32m    426\u001b[0m \u001b[39mif\u001b[39;00m \u001b[39mlen\u001b[39m(providers) \u001b[39m>\u001b[39m \u001b[39m1\u001b[39m:\n\u001b[0;32m    427\u001b[0m     \u001b[39mraise\u001b[39;00m IBMQProviderError(\u001b[39m'\u001b[39m\u001b[39mMore than one provider matches the specified criteria.\u001b[39m\u001b[39m'\u001b[39m\n\u001b[0;32m    428\u001b[0m                             \u001b[39m'\u001b[39m\u001b[39mhub = \u001b[39m\u001b[39m{}\u001b[39;00m\u001b[39m, group = \u001b[39m\u001b[39m{}\u001b[39;00m\u001b[39m, project = \u001b[39m\u001b[39m{}\u001b[39;00m\u001b[39m'\u001b[39m\n\u001b[0;32m    429\u001b[0m                             \u001b[39m.\u001b[39mformat(hub, group, project))\n",
      "\u001b[1;31mIBMQProviderError\u001b[0m: 'No provider matches the specified criteria: hub = ibm-q, group = None, project = None'"
     ]
    }
   ],
   "source": [
    "#provider = IBMQ\n",
    "provider.backends()"
   ]
  },
  {
   "cell_type": "code",
   "execution_count": null,
   "metadata": {},
   "outputs": [],
   "source": []
  }
 ],
 "metadata": {
  "kernelspec": {
   "display_name": "Python 3.10.7 64-bit",
   "language": "python",
   "name": "python3"
  },
  "language_info": {
   "codemirror_mode": {
    "name": "ipython",
    "version": 3
   },
   "file_extension": ".py",
   "mimetype": "text/x-python",
   "name": "python",
   "nbconvert_exporter": "python",
   "pygments_lexer": "ipython3",
   "version": "3.10.7"
  },
  "orig_nbformat": 4,
  "vscode": {
   "interpreter": {
    "hash": "da058f71fdee8b4e70f06f340fda40f45f412995ac79e49a865730b30aec30c6"
   }
  }
 },
 "nbformat": 4,
 "nbformat_minor": 2
}
