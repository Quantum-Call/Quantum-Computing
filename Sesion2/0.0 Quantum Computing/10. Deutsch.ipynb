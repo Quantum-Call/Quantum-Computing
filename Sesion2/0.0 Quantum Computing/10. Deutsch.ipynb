{
 "cells": [
  {
   "cell_type": "markdown",
   "metadata": {},
   "source": [
    "https://github.com/atilsamancioglu?tab=repositories&q=QX&type=&language=&sort="
   ]
  },
  {
   "cell_type": "markdown",
   "metadata": {},
   "source": [
    "# Deutsch Algorithm\n",
    "\n",
    "Es un algoritmo que nos permitirá entender las ventajas del cómputo cuántico, sobre computadores clásicos. Trabajamos con dos funciones que reciben valores de 0 o 1, y tienen 4 posibles estados, [`0,0`],[`0,1`],[`1,0`], [`1,1`], a aquellos valores que no dependen de las entradas y resultan en ambos valores iguales se les dice constantes, a a quellos que el input si afecta, se les llama balanceados.\n",
    "\n",
    "Digamos que tenemos dos qubits, **input register**, **output register**, $\\ket{x}$ y $\\ket{y}$ los cuales inteactúan con una función $U_f$, o una caja negra. El simbolo $\\oplus$ significa que está sucediendo una suma, o el operador XOR\n",
    "\n",
    "\n",
    "$$\\ket{x} \\ket{y}  \\xrightarrow{\\text{U}}\\ket{x} \\ket{y \\oplus  f(x)}$$\n",
    "$$  \\xrightarrow{\\text{U}}\\ket{x} \\ket{y \\oplus f(x)}\\oplus f(x)$$\n",
    "$$\\ket{x} \\ket{y \\oplus 0}$$\n",
    "$$\\ket{x} \\ket{y}$$\n",
    "\n",
    "\n",
    "\n"
   ]
  },
  {
   "cell_type": "markdown",
   "metadata": {},
   "source": [
    "Vamos a realizar una arpoximación incorrecta para llegar a una respuesta correcta, como podemos ver en el diagrama, U corresponde a una caja negra."
   ]
  },
  {
   "cell_type": "code",
   "execution_count": 1,
   "metadata": {},
   "outputs": [],
   "source": [
    "from qiskit import *\n",
    "from qiskit.tools.visualization import circuit_drawer"
   ]
  },
  {
   "cell_type": "code",
   "execution_count": 2,
   "metadata": {},
   "outputs": [
    {
     "data": {
      "image/png": "[encoded data removed]",
      "text/plain": [
       "<Figure size 206.852x144.48 with 1 Axes>"
      ]
     },
     "execution_count": 2,
     "metadata": {},
     "output_type": "execute_result"
    }
   ],
   "source": [
    "# Customize function X for U\n",
    "qc = QuantumCircuit(1, name='U')\n",
    "qc.x(0)\n",
    "custom_gate = qc.to_instruction()\n",
    "\n",
    "new_circ = QuantumCircuit(2)\n",
    "new_circ.h(0)\n",
    "\n",
    "new_circ.append(custom_gate, [0])\n",
    "new_circ.draw(output='mpl', style={'backgroundcolor': '#EEEEEE'})"
   ]
  },
  {
   "cell_type": "markdown",
   "metadata": {},
   "source": [
    "Supongamos que partimos de dos qubits con estados $\\ket{+}$  $\\ket{0}$. De operar de esta manera tenemos que si aplicamos la función U a los estados sucede:\n",
    "\n",
    "$$U_f (\\ket{+}\\otimes\\ket{0})  \\xrightarrow U_f \\left(\\frac{1}{\\sqrt{2}}\\ket{0} + \\ket{1}\\right) \\otimes\\ket{0}$$\n",
    "\n",
    "$$\\frac{1}{\\sqrt{2}} U_f \\ket{0} \\otimes \\ket{0} + \\frac{1}{\\sqrt{2}} U_f \\ket{1} \\otimes \\ket{0}$$\n",
    "\n",
    "$$\\frac{1}{\\sqrt{2}} \\ket{0} f(0) \\oplus \\ket{0} + \\frac{1}{\\sqrt{2}} \\ket{1}f(1)  \\oplus \\ket{0}$$\n"
   ]
  },
  {
   "cell_type": "markdown",
   "metadata": {},
   "source": [
    "- Cuando la compeurta XOR se aplica a 0, devuelve 0. La expresión final tiene f(0) y f(1), no nos sirve porque solo tiene una probabilidad de 50%. Debemos de aplicar la compuerta de Hadamard al segundo qubit."
   ]
  },
  {
   "cell_type": "markdown",
   "metadata": {},
   "source": [
    "## Algoritmo Deutsch\n",
    "\n"
   ]
  },
  {
   "cell_type": "markdown",
   "metadata": {},
   "source": [
    "Supongamos que tenemos dos qubits en los estados superpuestos de $\\ket{+}$ $\\ket{-}$. A ambos se le aplica una compuerta Hadamard y X, junto la función U."
   ]
  },
  {
   "cell_type": "code",
   "execution_count": 3,
   "metadata": {},
   "outputs": [],
   "source": [
    "n = 2\n",
    "q = QuantumRegister(n)\n",
    "c = ClassicalRegister(n)\n",
    "qc = QuantumCircuit(q,c)"
   ]
  },
  {
   "cell_type": "code",
   "execution_count": 4,
   "metadata": {},
   "outputs": [
    {
     "data": {
      "image/png": "[encoded data removed]",
      "text/plain": [
       "<Figure size 520.833x204.68 with 1 Axes>"
      ]
     },
     "execution_count": 4,
     "metadata": {},
     "output_type": "execute_result"
    }
   ],
   "source": [
    "qc.h(q)\n",
    "qc.x(q[1])\n",
    "qc.barrier()\n",
    "\n",
    "# U function\n",
    "custom_circ = QuantumCircuit(1, name='U')\n",
    "custom_gate = custom_circ.to_instruction()\n",
    "qc.append(custom_gate,[0])\n",
    "\n",
    "qc.barrier()\n",
    "qc.measure(q,c)\n",
    "qc.draw(output='mpl', style={'backgroundcolor': '#EEEEEE'})"
   ]
  },
  {
   "cell_type": "markdown",
   "metadata": {},
   "source": [
    "Los qubits en su estado inicial.\n",
    "$$\\ket{+} \\ket{-}$$\n",
    "\n",
    "Los qubits con ambas compuertas operando.\n",
    "$$ \\ket{\\psi_1}= \\frac{1}{2} \\left(\\ket{0}+\\ket{1}\\right)\\otimes\\left(\\ket{0}-\\ket{1}\\right)$$\n",
    "\n",
    "$$ \\ket{\\psi_1}= \\frac{1}{2} \\left(\\ket{0}\\ket{0}-\\ket{0}\\ket{1}+\\ket{1}\\ket{0}-\\ket{1}\\ket{1}\\right)$$\n",
    "\n",
    "\n",
    "$$ \\ket{\\psi_1}= \\frac{1}{2} \\left(\\ket{0}\\ket{0}-\\ket{0}\\ket{1}+\\ket{1}\\ket{0}-\\ket{1}\\ket{1}\\right)$$\n"
   ]
  },
  {
   "cell_type": "markdown",
   "metadata": {},
   "source": [
    "En este algortimo no importa el segundo Quebit e suna forma de obtener siempre el valro de 1, el 100% de las veces usando un qubit auxiliar. En este algoritmo no importa saber cual es la función U."
   ]
  },
  {
   "cell_type": "code",
   "execution_count": 5,
   "metadata": {},
   "outputs": [],
   "source": [
    "from qiskit.tools.visualization import plot_histogram"
   ]
  },
  {
   "cell_type": "code",
   "execution_count": 6,
   "metadata": {},
   "outputs": [
    {
     "data": {
      "image/png": "[encoded data removed]",
      "text/plain": [
       "<Figure size 206.852x204.68 with 1 Axes>"
      ]
     },
     "execution_count": 6,
     "metadata": {},
     "output_type": "execute_result"
    }
   ],
   "source": [
    "circuit = QuantumCircuit(2,1)\n",
    "circuit.i(0)\n",
    "circuit.h(0)\n",
    "circuit.x(1)\n",
    "circuit.h(1)\n",
    "circuit.draw(output='mpl')"
   ]
  },
  {
   "cell_type": "code",
   "execution_count": 7,
   "metadata": {},
   "outputs": [
    {
     "data": {
      "image/png": "[encoded data removed]",
      "text/plain": [
       "<Figure size 447.652x204.68 with 1 Axes>"
      ]
     },
     "execution_count": 7,
     "metadata": {},
     "output_type": "execute_result"
    }
   ],
   "source": [
    "circuit.barrier()\n",
    "circuit.cx(0,1)\n",
    "circuit.barrier()\n",
    "circuit.h(0)\n",
    "\n",
    "circuit.draw(output='mpl')\n"
   ]
  },
  {
   "cell_type": "code",
   "execution_count": 8,
   "metadata": {},
   "outputs": [
    {
     "data": {
      "image/png": "[encoded data removed]",
      "text/plain": [
       "<Figure size 507.852x204.68 with 1 Axes>"
      ]
     },
     "execution_count": 8,
     "metadata": {},
     "output_type": "execute_result"
    }
   ],
   "source": [
    "# Para ejcutar necsitamos añadir la comperta de mecicion\n",
    "circuit.measure(0,0)\n",
    "circuit.draw(output='mpl')"
   ]
  },
  {
   "cell_type": "code",
   "execution_count": 9,
   "metadata": {},
   "outputs": [
    {
     "data": {
      "image/png": "[encoded data removed]",
      "text/plain": [
       "<Figure size 504x360 with 1 Axes>"
      ]
     },
     "execution_count": 9,
     "metadata": {},
     "output_type": "execute_result"
    }
   ],
   "source": [
    "#Simulator\n",
    "backend = Aer.get_backend(\"qasm_simulator\")\n",
    "result = execute(circuit, backend=backend, shots=1024).result()\n",
    "counts = result.get_counts()\n",
    "plot_histogram([counts])"
   ]
  },
  {
   "cell_type": "markdown",
   "metadata": {},
   "source": [
    "Para ejecutar en un computador real, necesitamos cargar nuestra cuenta, llamar os providers y posterior ver los backends que tiene."
   ]
  },
  {
   "cell_type": "code",
   "execution_count": 10,
   "metadata": {},
   "outputs": [
    {
     "data": {
      "text/plain": [
       "<AccountProvider for IBMQ(hub='ibm-q', group='open', project='main')>"
      ]
     },
     "execution_count": 10,
     "metadata": {},
     "output_type": "execute_result"
    }
   ],
   "source": [
    "# Execution in Quantum Computers Real\n",
    "IBMQ.load_account()\n"
   ]
  },
  {
   "cell_type": "code",
   "execution_count": 11,
   "metadata": {},
   "outputs": [
    {
     "name": "stdout",
     "output_type": "stream",
     "text": [
      "ibmq_qasm_simulator Pending jobs: 0 Qubits:  Simulators\n",
      "ibmq_lima Pending jobs: 41 Qubits:  5\n",
      "ibmq_belem Pending jobs: 159 Qubits:  5\n",
      "ibmq_quito Pending jobs: 38 Qubits:  5\n",
      "simulator_statevector Pending jobs: 0 Qubits:  Simulators\n",
      "simulator_mps Pending jobs: 0 Qubits:  Simulators\n",
      "simulator_extended_stabilizer Pending jobs: 0 Qubits:  Simulators\n",
      "simulator_stabilizer Pending jobs: 0 Qubits:  Simulators\n",
      "ibmq_manila Pending jobs: 67 Qubits:  5\n",
      "ibm_nairobi Pending jobs: 122 Qubits:  7\n",
      "ibm_oslo Pending jobs: 246 Qubits:  7\n"
     ]
    }
   ],
   "source": [
    "provider = IBMQ.get_provider(\"ibm-q\")\n",
    "for backend in provider.backends():\n",
    "    try:\n",
    "        qubits_amount = len(backend.properties().qubits)\n",
    "    except:\n",
    "        qubits_amount =\"Simulators\"\n",
    "    print(backend,\"Pending jobs:\", backend.status().pending_jobs,\"Qubits: \",qubits_amount)\n"
   ]
  },
  {
   "cell_type": "code",
   "execution_count": 12,
   "metadata": {},
   "outputs": [],
   "source": [
    "import qiskit.tools.jupyter\n",
    "from qiskit.tools.monitor import job_monitor\n"
   ]
  },
  {
   "cell_type": "code",
   "execution_count": 13,
   "metadata": {},
   "outputs": [
    {
     "data": {
      "application/vnd.jupyter.widget-view+json": {
       "model_id": "6aa154239de2470a8731b911d71c1622",
       "version_major": 2,
       "version_minor": 0
      },
      "text/plain": [
       "Accordion(children=(VBox(layout=Layout(max_width='710px', min_width='710px')),), layout=Layout(max_height='500…"
      ]
     },
     "metadata": {},
     "output_type": "display_data"
    },
    {
     "data": {
      "application/javascript": "\n        const isLab = window['Jupyter'] === undefined;\n        const notebook = document.querySelector( isLab ? 'div.jp-Notebook' : '#site');\n        const jobWidget = document.querySelector('div.job_widget');\n        notebook.prepend(jobWidget);\n        jobWidget.style.zIndex = '999';\n        jobWidget.style.position = isLab ? 'sticky' : 'fixed';\n        jobWidget.style.boxShadow = '5px 5px 5px -3px black';\n        jobWidget.style.opacity = '0.95';\n        if (isLab) {\n            jobWidget.style.top = '0';\n            jobWidget.style.left = '0';\n        }\n        ",
      "text/plain": [
       "<IPython.core.display.Javascript object>"
      ]
     },
     "metadata": {},
     "output_type": "display_data"
    },
    {
     "ename": "TypeError",
     "evalue": "'str' object is not callable",
     "output_type": "error",
     "traceback": [
      "\u001b[1;31m---------------------------------------------------------------------------\u001b[0m",
      "\u001b[1;31mTypeError\u001b[0m                                 Traceback (most recent call last)",
      "\u001b[1;32ma:\\Cerebrum\\Learning_Notebooks\\NoteBooks\\Curso de Quamtum\\Quantum Computing\\10. Deutsch.ipynb Celda 22\u001b[0m in \u001b[0;36m<cell line: 4>\u001b[1;34m()\u001b[0m\n\u001b[0;32m      <a href='vscode-notebook-cell:/a%3A/Cerebrum/Learning_Notebooks/NoteBooks/Curso%20de%20Quamtum/Quantum%20Computing/10.%20Deutsch.ipynb#X30sZmlsZQ%3D%3D?line=1'>2</a>\u001b[0m backend \u001b[39m=\u001b[39m provider\u001b[39m.\u001b[39mget_backend(\u001b[39m\"\u001b[39m\u001b[39mibmq_quito\u001b[39m\u001b[39m\"\u001b[39m)\n\u001b[0;32m      <a href='vscode-notebook-cell:/a%3A/Cerebrum/Learning_Notebooks/NoteBooks/Curso%20de%20Quamtum/Quantum%20Computing/10.%20Deutsch.ipynb#X30sZmlsZQ%3D%3D?line=2'>3</a>\u001b[0m result \u001b[39m=\u001b[39m execute(circuit, backend\u001b[39m=\u001b[39mbackend, shots\u001b[39m=\u001b[39m\u001b[39m1024\u001b[39m)\u001b[39m.\u001b[39mresult()\n\u001b[1;32m----> <a href='vscode-notebook-cell:/a%3A/Cerebrum/Learning_Notebooks/NoteBooks/Curso%20de%20Quamtum/Quantum%20Computing/10.%20Deutsch.ipynb#X30sZmlsZQ%3D%3D?line=3'>4</a>\u001b[0m job_monitor(result)\n",
      "File \u001b[1;32ma:\\Cerebrum\\Learning_Notebooks\\NoteBooks\\Curso de Quamtum\\env_q\\lib\\site-packages\\qiskit\\tools\\monitor\\job_monitor.py:89\u001b[0m, in \u001b[0;36mjob_monitor\u001b[1;34m(job, interval, quiet, output, line_discipline)\u001b[0m\n\u001b[0;32m     86\u001b[0m \u001b[39melse\u001b[39;00m:\n\u001b[0;32m     87\u001b[0m     _interval_set \u001b[39m=\u001b[39m \u001b[39mTrue\u001b[39;00m\n\u001b[1;32m---> 89\u001b[0m _text_checker(\n\u001b[0;32m     90\u001b[0m     job, interval, _interval_set, quiet\u001b[39m=\u001b[39;49mquiet, output\u001b[39m=\u001b[39;49moutput, line_discipline\u001b[39m=\u001b[39;49mline_discipline\n\u001b[0;32m     91\u001b[0m )\n",
      "File \u001b[1;32ma:\\Cerebrum\\Learning_Notebooks\\NoteBooks\\Curso de Quamtum\\env_q\\lib\\site-packages\\qiskit\\tools\\monitor\\job_monitor.py:36\u001b[0m, in \u001b[0;36m_text_checker\u001b[1;34m(job, interval, _interval_set, quiet, output, line_discipline)\u001b[0m\n\u001b[0;32m     20\u001b[0m \u001b[39mdef\u001b[39;00m \u001b[39m_text_checker\u001b[39m(\n\u001b[0;32m     21\u001b[0m     job, interval, _interval_set\u001b[39m=\u001b[39m\u001b[39mFalse\u001b[39;00m, quiet\u001b[39m=\u001b[39m\u001b[39mFalse\u001b[39;00m, output\u001b[39m=\u001b[39msys\u001b[39m.\u001b[39mstdout, line_discipline\u001b[39m=\u001b[39m\u001b[39m\"\u001b[39m\u001b[39m\\r\u001b[39;00m\u001b[39m\"\u001b[39m\n\u001b[0;32m     22\u001b[0m ):\n\u001b[0;32m     23\u001b[0m     \u001b[39m\"\"\"A text-based job status checker\u001b[39;00m\n\u001b[0;32m     24\u001b[0m \n\u001b[0;32m     25\u001b[0m \u001b[39m    Args:\u001b[39;00m\n\u001b[1;32m   (...)\u001b[0m\n\u001b[0;32m     34\u001b[0m \n\u001b[0;32m     35\u001b[0m \u001b[39m    \"\"\"\u001b[39;00m\n\u001b[1;32m---> 36\u001b[0m     status \u001b[39m=\u001b[39m job\u001b[39m.\u001b[39;49mstatus()\n\u001b[0;32m     37\u001b[0m     msg \u001b[39m=\u001b[39m status\u001b[39m.\u001b[39mvalue\n\u001b[0;32m     38\u001b[0m     prev_msg \u001b[39m=\u001b[39m msg\n",
      "\u001b[1;31mTypeError\u001b[0m: 'str' object is not callable"
     ]
    }
   ],
   "source": [
    "%qiskit_job_watcher\n",
    "backend = provider.get_backend(\"ibmq_quito\")\n",
    "result = execute(circuit, backend=backend, shots=1024).result()\n",
    "job_monitor(result)"
   ]
  },
  {
   "cell_type": "code",
   "execution_count": null,
   "metadata": {},
   "outputs": [],
   "source": [
    "counts = result.get_counts()\n",
    "plot_histogram([counts])"
   ]
  },
  {
   "cell_type": "code",
   "execution_count": null,
   "metadata": {},
   "outputs": [],
   "source": []
  },
  {
   "cell_type": "code",
   "execution_count": null,
   "metadata": {},
   "outputs": [],
   "source": []
  },
  {
   "cell_type": "code",
   "execution_count": null,
   "metadata": {},
   "outputs": [],
   "source": []
  },
  {
   "cell_type": "code",
   "execution_count": null,
   "metadata": {},
   "outputs": [],
   "source": []
  }
 ],
 "metadata": {
  "kernelspec": {
   "display_name": "Python 3.10.7 ('env_q': venv)",
   "language": "python",
   "name": "python3"
  },
  "language_info": {
   "codemirror_mode": {
    "name": "ipython",
    "version": 3
   },
   "file_extension": ".py",
   "mimetype": "text/x-python",
   "name": "python",
   "nbconvert_exporter": "python",
   "pygments_lexer": "ipython3",
   "version": "3.10.7"
  },
  "orig_nbformat": 4,
  "vscode": {
   "interpreter": {
    "hash": "8b67013ac374f4b42048093c7cda6ecb1bc8f42e0fe6eb5e90aaa96a0b03ad14"
   }
  }
 },
 "nbformat": 4,
 "nbformat_minor": 2
}
