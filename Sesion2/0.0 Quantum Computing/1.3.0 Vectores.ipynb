{
 "cells": [
  {
   "cell_type": "markdown",
   "metadata": {},
   "source": [
    "# Vectores\n",
    "\n",
    "En este notebook representaremos el proceso de descomposición de manera algebráica, pero el cálculo de la distancia y normalización para vectores en un espacio complejo que es donde nos interesa representar los qubits lo podemos calcular con código"
   ]
  },
  {
   "cell_type": "code",
   "execution_count": 2,
   "metadata": {},
   "outputs": [],
   "source": [
    "import numpy as np"
   ]
  },
  {
   "cell_type": "code",
   "execution_count": 3,
   "metadata": {},
   "outputs": [
    {
     "data": {
      "text/plain": [
       "array([2.+1.j, 4.+3.j])"
      ]
     },
     "execution_count": 3,
     "metadata": {},
     "output_type": "execute_result"
    }
   ],
   "source": [
    "a = 2 + 1j\n",
    "b = 4 + 3j\n",
    "\n",
    "# Ahora los volvemos un vector de numpy o arreglo.\n",
    "x = np.array([a,b])\n",
    "x"
   ]
  },
  {
   "cell_type": "code",
   "execution_count": 4,
   "metadata": {},
   "outputs": [],
   "source": [
    "# Normalización:\n",
    "def Norm(vector, length):\n",
    "    return vector/length\n",
    "\n",
    "\n",
    "# El largo del vector\n",
    "def length(vector):\n",
    "    # Operación de complejo conjugado Individual\n",
    "    def coefficientsOperation(coeff):\n",
    "        return np.real(coeff* np.conj(coeff)) \n",
    "\n",
    "    # Sumatoria\n",
    "    sumatory = 0\n",
    "    for coeff in vector:\n",
    "        sumatory = sumatory + coefficientsOperation(coeff)\n",
    "        sumatory = sumatory**(0.5)  # Raiz cuadrada\n",
    "        sumatory = np.array(sumatory) # Volvemos un array de numpy\n",
    "    return  sumatory \n",
    "\n",
    "\n"
   ]
  },
  {
   "cell_type": "code",
   "execution_count": 5,
   "metadata": {},
   "outputs": [
    {
     "data": {
      "text/plain": [
       "array(5.21881864)"
      ]
     },
     "execution_count": 5,
     "metadata": {},
     "output_type": "execute_result"
    }
   ],
   "source": [
    "l = length(x) # Largo\n",
    "l"
   ]
  },
  {
   "cell_type": "code",
   "execution_count": 6,
   "metadata": {},
   "outputs": [
    {
     "data": {
      "text/plain": [
       "array([0.38322849+0.19161425j, 0.76645699+0.57484274j])"
      ]
     },
     "execution_count": 6,
     "metadata": {},
     "output_type": "execute_result"
    }
   ],
   "source": [
    "normalized_vector =  Norm(x,l)\n",
    "normalized_vector # Vector normalizado."
   ]
  },
  {
   "cell_type": "code",
   "execution_count": 7,
   "metadata": {},
   "outputs": [
    {
     "data": {
      "text/plain": [
       "array([1.+1.j, 1.-1.j])"
      ]
     },
     "execution_count": 7,
     "metadata": {},
     "output_type": "execute_result"
    }
   ],
   "source": [
    "# Probamos con componentes unitarios\n",
    "# Debe resultar la mitad justo la mitad\n",
    "a = 1 + 1j\n",
    "b = 1 - 1j \n",
    "x = np.array([a,b])\n",
    "x"
   ]
  },
  {
   "cell_type": "code",
   "execution_count": 8,
   "metadata": {},
   "outputs": [
    {
     "data": {
      "text/plain": [
       "array([0.5411961+0.5411961j, 0.5411961-0.5411961j])"
      ]
     },
     "execution_count": 8,
     "metadata": {},
     "output_type": "execute_result"
    }
   ],
   "source": [
    "normalized_vector_u = Norm(x, length(x))\n",
    "normalized_vector_u"
   ]
  },
  {
   "cell_type": "markdown",
   "metadata": {},
   "source": [
    "# Producto Interno\n",
    "\n",
    "\n",
    "$$\\bra{\\vec{A}}*\\ket{\\vec{B}}$$\n",
    "\n",
    "Puedo calcular el producto interno "
   ]
  },
  {
   "cell_type": "code",
   "execution_count": 9,
   "metadata": {},
   "outputs": [
    {
     "data": {
      "text/plain": [
       "matrix([[4.+0.j]])"
      ]
     },
     "execution_count": 9,
     "metadata": {},
     "output_type": "execute_result"
    }
   ],
   "source": [
    "def inner_product(A, B):\n",
    "    return A*np.matrix(B).getH() # Retorna la adjunta de una matriz\n",
    "\n",
    "inner_product(x,x)"
   ]
  },
  {
   "cell_type": "markdown",
   "metadata": {},
   "source": [
    "## Producto externo\n",
    "\n",
    "$$\\ket{\\vec{B}}\\bra{\\vec{A}}$$\n",
    "\n"
   ]
  },
  {
   "cell_type": "code",
   "execution_count": 10,
   "metadata": {},
   "outputs": [
    {
     "data": {
      "text/plain": [
       "array([[0.+2.j, 2.+0.j],\n",
       "       [2.+0.j, 0.-2.j]])"
      ]
     },
     "execution_count": 10,
     "metadata": {},
     "output_type": "execute_result"
    }
   ],
   "source": [
    "def outer_product(A, B):\n",
    "    return np.outer(A,B)\n",
    "\n",
    "outer_product(x,x)"
   ]
  },
  {
   "cell_type": "code",
   "execution_count": 11,
   "metadata": {},
   "outputs": [
    {
     "data": {
      "text/plain": [
       "matrix([[2.+0.j, 0.+2.j],\n",
       "        [0.-2.j, 2.+0.j]])"
      ]
     },
     "execution_count": 11,
     "metadata": {},
     "output_type": "execute_result"
    }
   ],
   "source": [
    "def outer_product(A, B):\n",
    "    return np.transpose(np.matrix(A).getH()*B)\n",
    "\n",
    "outer_product(x,x)"
   ]
  },
  {
   "cell_type": "markdown",
   "metadata": {},
   "source": [
    "# Linealmente independientes\n"
   ]
  },
  {
   "cell_type": "code",
   "execution_count": 12,
   "metadata": {},
   "outputs": [],
   "source": [
    "matrix = np.array(\n",
    "    [\n",
    "        [0,1,5,20],\n",
    "        [3,0,4,16],\n",
    "        [0,1,9,36],\n",
    "        [1,7,0,0],\n",
    "    ]\n",
    ")"
   ]
  },
  {
   "cell_type": "code",
   "execution_count": 13,
   "metadata": {},
   "outputs": [],
   "source": [
    "vector_a= np.array([1,1j])\n",
    "vector_b= np.array([1j,1])"
   ]
  },
  {
   "cell_type": "markdown",
   "metadata": {},
   "source": [
    "# independencia Lineal"
   ]
  },
  {
   "cell_type": "code",
   "execution_count": 14,
   "metadata": {},
   "outputs": [
    {
     "data": {
      "text/plain": [
       "False"
      ]
     },
     "execution_count": 14,
     "metadata": {},
     "output_type": "execute_result"
    }
   ],
   "source": [
    "# Linealmente Independiente\n",
    "\n",
    "def linealIndepend(matrix):\n",
    "    return (matrix.shape[1] == np.linalg.matrix_rank(matrix))\n",
    "\n",
    "linealIndepend(matrix)"
   ]
  },
  {
   "cell_type": "markdown",
   "metadata": {},
   "source": [
    "## Ortogonalidad"
   ]
  },
  {
   "cell_type": "code",
   "execution_count": 15,
   "metadata": {},
   "outputs": [
    {
     "data": {
      "text/plain": [
       "matrix([[ True]])"
      ]
     },
     "execution_count": 15,
     "metadata": {},
     "output_type": "execute_result"
    }
   ],
   "source": [
    "# Ortogonalidad vetores\n",
    "def ortogonality(a,b):\n",
    "    return (inner_product(a,b)==0)\n",
    "\n",
    "ortogonality(vector_a,vector_b)"
   ]
  },
  {
   "cell_type": "code",
   "execution_count": null,
   "metadata": {},
   "outputs": [],
   "source": []
  },
  {
   "cell_type": "code",
   "execution_count": null,
   "metadata": {},
   "outputs": [],
   "source": []
  },
  {
   "cell_type": "code",
   "execution_count": null,
   "metadata": {},
   "outputs": [],
   "source": []
  },
  {
   "cell_type": "code",
   "execution_count": null,
   "metadata": {},
   "outputs": [],
   "source": []
  }
 ],
 "metadata": {
  "kernelspec": {
   "display_name": "Python 3.10.7 ('env_q': venv)",
   "language": "python",
   "name": "python3"
  },
  "language_info": {
   "codemirror_mode": {
    "name": "ipython",
    "version": 3
   },
   "file_extension": ".py",
   "mimetype": "text/x-python",
   "name": "python",
   "nbconvert_exporter": "python",
   "pygments_lexer": "ipython3",
   "version": "3.10.7"
  },
  "orig_nbformat": 4,
  "vscode": {
   "interpreter": {
    "hash": "5c5f65bf42d6206e1c57117f942b147f5b7a64862f1f50f57b3fc6d1c3142406"
   }
  }
 },
 "nbformat": 4,
 "nbformat_minor": 2
}
