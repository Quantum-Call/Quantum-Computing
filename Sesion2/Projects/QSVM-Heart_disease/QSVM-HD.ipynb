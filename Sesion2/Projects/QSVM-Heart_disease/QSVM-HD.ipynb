{
 "cells": [
  {
   "cell_type": "markdown",
   "metadata": {},
   "source": [
    "# QSVM\n",
    "\n",
    "- Juntar el dataset ya preparado, solo para el entrenamiento.\n",
    "- ¿Cómo hago para crear un Kernel?\n",
    "\n",
    "https://www.youtube.com/watch?v=Cuymc-K3a7M&ab_channel=SundarappanKathiresan\n",
    "\n",
    "https://www.youtube.com/watch?v=GVhCOTzAkCM&ab_channel=Qiskit\n",
    "\n",
    "https://www.youtube.com/watch?v=OKbcJCUx6xA&ab_channel=Qiskit\n",
    "\n",
    "\n",
    "https://www.youtube.com/watch?v=pJ8o6x-6-sA&ab_channel=ISCGroupVideos\n",
    "\n",
    "https://shubham-agnihotri.medium.com/quantum-machine-learning-102-qsvm-using-qiskit-731956231a54\n",
    "\n",
    "https://www.youtube.com/watch?v=eUWFHAOuzyk&ab_channel=AlessandroCrimi\n",
    "\n",
    "https://www.youtube.com/watch?v=6Ou8FNzXnuY&ab_channel=BalajiRamamurthy\n",
    "\n",
    "\n",
    "https://qiskit.org/documentation/stable/0.24/tutorials/machine_learning/01_qsvm_classification.html\n",
    "\n",
    "https://www.youtube.com/watch?v=iGAOUhOd6l8&ab_channel=Xanadu"
   ]
  },
  {
   "cell_type": "code",
   "execution_count": null,
   "metadata": {},
   "outputs": [],
   "source": []
  }
 ],
 "metadata": {
  "language_info": {
   "name": "python"
  },
  "orig_nbformat": 4
 },
 "nbformat": 4,
 "nbformat_minor": 2
}
